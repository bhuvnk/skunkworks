{
  "nbformat": 4,
  "nbformat_minor": 0,
  "metadata": {
    "accelerator": "GPU",
    "colab": {
      "name": "RelationNet_MiniImageNet_v2.ipynb",
      "provenance": [],
      "collapsed_sections": [],
      "toc_visible": true,
      "include_colab_link": true
    },
    "kernelspec": {
      "display_name": "Python 3",
      "name": "python3"
    },
    "widgets": {
      "application/vnd.jupyter.widget-state+json": {
        "07a1f07548104a20941d1da77043a46d": {
          "model_module": "@jupyter-widgets/controls",
          "model_name": "HBoxModel",
          "state": {
            "_view_name": "HBoxView",
            "_dom_classes": [],
            "_model_name": "HBoxModel",
            "_view_module": "@jupyter-widgets/controls",
            "_model_module_version": "1.5.0",
            "_view_count": null,
            "_view_module_version": "1.5.0",
            "box_style": "",
            "layout": "IPY_MODEL_82cc2399f7a94e95a3693fee039c4d6f",
            "_model_module": "@jupyter-widgets/controls",
            "children": [
              "IPY_MODEL_d7eb4a12634748b9a5889ae702a1c59b",
              "IPY_MODEL_af92c7df48aa44a98ed4682249968c3c"
            ]
          }
        },
        "82cc2399f7a94e95a3693fee039c4d6f": {
          "model_module": "@jupyter-widgets/base",
          "model_name": "LayoutModel",
          "state": {
            "_view_name": "LayoutView",
            "grid_template_rows": null,
            "right": null,
            "justify_content": null,
            "_view_module": "@jupyter-widgets/base",
            "overflow": null,
            "_model_module_version": "1.2.0",
            "_view_count": null,
            "flex_flow": null,
            "width": null,
            "min_width": null,
            "border": null,
            "align_items": null,
            "bottom": null,
            "_model_module": "@jupyter-widgets/base",
            "top": null,
            "grid_column": null,
            "overflow_y": null,
            "overflow_x": null,
            "grid_auto_flow": null,
            "grid_area": null,
            "grid_template_columns": null,
            "flex": null,
            "_model_name": "LayoutModel",
            "justify_items": null,
            "grid_row": null,
            "max_height": null,
            "align_content": null,
            "visibility": null,
            "align_self": null,
            "height": null,
            "min_height": null,
            "padding": null,
            "grid_auto_rows": null,
            "grid_gap": null,
            "max_width": null,
            "order": null,
            "_view_module_version": "1.2.0",
            "grid_template_areas": null,
            "object_position": null,
            "object_fit": null,
            "grid_auto_columns": null,
            "margin": null,
            "display": null,
            "left": null
          }
        },
        "d7eb4a12634748b9a5889ae702a1c59b": {
          "model_module": "@jupyter-widgets/controls",
          "model_name": "FloatProgressModel",
          "state": {
            "_view_name": "ProgressView",
            "style": "IPY_MODEL_5e41fca6ad25457ebbeed50b4c8f872a",
            "_dom_classes": [],
            "description": "100%",
            "_model_name": "FloatProgressModel",
            "bar_style": "success",
            "max": 64,
            "_view_module": "@jupyter-widgets/controls",
            "_model_module_version": "1.5.0",
            "value": 64,
            "_view_count": null,
            "_view_module_version": "1.5.0",
            "orientation": "horizontal",
            "min": 0,
            "description_tooltip": null,
            "_model_module": "@jupyter-widgets/controls",
            "layout": "IPY_MODEL_a15f15161ac143e09ce94e6988768a94"
          }
        },
        "af92c7df48aa44a98ed4682249968c3c": {
          "model_module": "@jupyter-widgets/controls",
          "model_name": "HTMLModel",
          "state": {
            "_view_name": "HTMLView",
            "style": "IPY_MODEL_1cbee555cd4740bfbe2ccac257b3ca7c",
            "_dom_classes": [],
            "description": "",
            "_model_name": "HTMLModel",
            "placeholder": "​",
            "_view_module": "@jupyter-widgets/controls",
            "_model_module_version": "1.5.0",
            "value": " 64/64 [00:00&lt;00:00, 79.21it/s]",
            "_view_count": null,
            "_view_module_version": "1.5.0",
            "description_tooltip": null,
            "_model_module": "@jupyter-widgets/controls",
            "layout": "IPY_MODEL_c1bde89091fd41059362146daa78a360"
          }
        },
        "5e41fca6ad25457ebbeed50b4c8f872a": {
          "model_module": "@jupyter-widgets/controls",
          "model_name": "ProgressStyleModel",
          "state": {
            "_view_name": "StyleView",
            "_model_name": "ProgressStyleModel",
            "description_width": "initial",
            "_view_module": "@jupyter-widgets/base",
            "_model_module_version": "1.5.0",
            "_view_count": null,
            "_view_module_version": "1.2.0",
            "bar_color": null,
            "_model_module": "@jupyter-widgets/controls"
          }
        },
        "a15f15161ac143e09ce94e6988768a94": {
          "model_module": "@jupyter-widgets/base",
          "model_name": "LayoutModel",
          "state": {
            "_view_name": "LayoutView",
            "grid_template_rows": null,
            "right": null,
            "justify_content": null,
            "_view_module": "@jupyter-widgets/base",
            "overflow": null,
            "_model_module_version": "1.2.0",
            "_view_count": null,
            "flex_flow": null,
            "width": null,
            "min_width": null,
            "border": null,
            "align_items": null,
            "bottom": null,
            "_model_module": "@jupyter-widgets/base",
            "top": null,
            "grid_column": null,
            "overflow_y": null,
            "overflow_x": null,
            "grid_auto_flow": null,
            "grid_area": null,
            "grid_template_columns": null,
            "flex": null,
            "_model_name": "LayoutModel",
            "justify_items": null,
            "grid_row": null,
            "max_height": null,
            "align_content": null,
            "visibility": null,
            "align_self": null,
            "height": null,
            "min_height": null,
            "padding": null,
            "grid_auto_rows": null,
            "grid_gap": null,
            "max_width": null,
            "order": null,
            "_view_module_version": "1.2.0",
            "grid_template_areas": null,
            "object_position": null,
            "object_fit": null,
            "grid_auto_columns": null,
            "margin": null,
            "display": null,
            "left": null
          }
        },
        "1cbee555cd4740bfbe2ccac257b3ca7c": {
          "model_module": "@jupyter-widgets/controls",
          "model_name": "DescriptionStyleModel",
          "state": {
            "_view_name": "StyleView",
            "_model_name": "DescriptionStyleModel",
            "description_width": "",
            "_view_module": "@jupyter-widgets/base",
            "_model_module_version": "1.5.0",
            "_view_count": null,
            "_view_module_version": "1.2.0",
            "_model_module": "@jupyter-widgets/controls"
          }
        },
        "c1bde89091fd41059362146daa78a360": {
          "model_module": "@jupyter-widgets/base",
          "model_name": "LayoutModel",
          "state": {
            "_view_name": "LayoutView",
            "grid_template_rows": null,
            "right": null,
            "justify_content": null,
            "_view_module": "@jupyter-widgets/base",
            "overflow": null,
            "_model_module_version": "1.2.0",
            "_view_count": null,
            "flex_flow": null,
            "width": null,
            "min_width": null,
            "border": null,
            "align_items": null,
            "bottom": null,
            "_model_module": "@jupyter-widgets/base",
            "top": null,
            "grid_column": null,
            "overflow_y": null,
            "overflow_x": null,
            "grid_auto_flow": null,
            "grid_area": null,
            "grid_template_columns": null,
            "flex": null,
            "_model_name": "LayoutModel",
            "justify_items": null,
            "grid_row": null,
            "max_height": null,
            "align_content": null,
            "visibility": null,
            "align_self": null,
            "height": null,
            "min_height": null,
            "padding": null,
            "grid_auto_rows": null,
            "grid_gap": null,
            "max_width": null,
            "order": null,
            "_view_module_version": "1.2.0",
            "grid_template_areas": null,
            "object_position": null,
            "object_fit": null,
            "grid_auto_columns": null,
            "margin": null,
            "display": null,
            "left": null
          }
        },
        "11a3b3ba575f44ce945c1b4887ec5736": {
          "model_module": "@jupyter-widgets/controls",
          "model_name": "HBoxModel",
          "state": {
            "_view_name": "HBoxView",
            "_dom_classes": [],
            "_model_name": "HBoxModel",
            "_view_module": "@jupyter-widgets/controls",
            "_model_module_version": "1.5.0",
            "_view_count": null,
            "_view_module_version": "1.5.0",
            "box_style": "",
            "layout": "IPY_MODEL_9128633b67884b65bf9f3ab544a1f285",
            "_model_module": "@jupyter-widgets/controls",
            "children": [
              "IPY_MODEL_f033cbb9d69e4b1ea53beb1c7cd67c3b",
              "IPY_MODEL_1836228aab524b7b82c0f57842f3bebb"
            ]
          }
        },
        "9128633b67884b65bf9f3ab544a1f285": {
          "model_module": "@jupyter-widgets/base",
          "model_name": "LayoutModel",
          "state": {
            "_view_name": "LayoutView",
            "grid_template_rows": null,
            "right": null,
            "justify_content": null,
            "_view_module": "@jupyter-widgets/base",
            "overflow": null,
            "_model_module_version": "1.2.0",
            "_view_count": null,
            "flex_flow": null,
            "width": null,
            "min_width": null,
            "border": null,
            "align_items": null,
            "bottom": null,
            "_model_module": "@jupyter-widgets/base",
            "top": null,
            "grid_column": null,
            "overflow_y": null,
            "overflow_x": null,
            "grid_auto_flow": null,
            "grid_area": null,
            "grid_template_columns": null,
            "flex": null,
            "_model_name": "LayoutModel",
            "justify_items": null,
            "grid_row": null,
            "max_height": null,
            "align_content": null,
            "visibility": null,
            "align_self": null,
            "height": null,
            "min_height": null,
            "padding": null,
            "grid_auto_rows": null,
            "grid_gap": null,
            "max_width": null,
            "order": null,
            "_view_module_version": "1.2.0",
            "grid_template_areas": null,
            "object_position": null,
            "object_fit": null,
            "grid_auto_columns": null,
            "margin": null,
            "display": null,
            "left": null
          }
        },
        "f033cbb9d69e4b1ea53beb1c7cd67c3b": {
          "model_module": "@jupyter-widgets/controls",
          "model_name": "FloatProgressModel",
          "state": {
            "_view_name": "ProgressView",
            "style": "IPY_MODEL_0fb1729bc86f4b4fa6ecfce1d139d5bb",
            "_dom_classes": [],
            "description": "Epoch 1: 100%",
            "_model_name": "FloatProgressModel",
            "bar_style": "success",
            "max": 10000,
            "_view_module": "@jupyter-widgets/controls",
            "_model_module_version": "1.5.0",
            "value": 10000,
            "_view_count": null,
            "_view_module_version": "1.5.0",
            "orientation": "horizontal",
            "min": 0,
            "description_tooltip": null,
            "_model_module": "@jupyter-widgets/controls",
            "layout": "IPY_MODEL_5ff046160e3e4d0e8762358889d0a649"
          }
        },
        "1836228aab524b7b82c0f57842f3bebb": {
          "model_module": "@jupyter-widgets/controls",
          "model_name": "HTMLModel",
          "state": {
            "_view_name": "HTMLView",
            "style": "IPY_MODEL_5a0113bf52f04d419849d2f0fef114e7",
            "_dom_classes": [],
            "description": "",
            "_model_name": "HTMLModel",
            "placeholder": "​",
            "_view_module": "@jupyter-widgets/controls",
            "_model_module_version": "1.5.0",
            "value": " 10000/10000 [13:18&lt;00:00, 12.52it/s, Loss=0.125, Acc=0.8]",
            "_view_count": null,
            "_view_module_version": "1.5.0",
            "description_tooltip": null,
            "_model_module": "@jupyter-widgets/controls",
            "layout": "IPY_MODEL_b34580420a3f44e088da2b46e556f9b9"
          }
        },
        "0fb1729bc86f4b4fa6ecfce1d139d5bb": {
          "model_module": "@jupyter-widgets/controls",
          "model_name": "ProgressStyleModel",
          "state": {
            "_view_name": "StyleView",
            "_model_name": "ProgressStyleModel",
            "description_width": "initial",
            "_view_module": "@jupyter-widgets/base",
            "_model_module_version": "1.5.0",
            "_view_count": null,
            "_view_module_version": "1.2.0",
            "bar_color": null,
            "_model_module": "@jupyter-widgets/controls"
          }
        },
        "5ff046160e3e4d0e8762358889d0a649": {
          "model_module": "@jupyter-widgets/base",
          "model_name": "LayoutModel",
          "state": {
            "_view_name": "LayoutView",
            "grid_template_rows": null,
            "right": null,
            "justify_content": null,
            "_view_module": "@jupyter-widgets/base",
            "overflow": null,
            "_model_module_version": "1.2.0",
            "_view_count": null,
            "flex_flow": null,
            "width": null,
            "min_width": null,
            "border": null,
            "align_items": null,
            "bottom": null,
            "_model_module": "@jupyter-widgets/base",
            "top": null,
            "grid_column": null,
            "overflow_y": null,
            "overflow_x": null,
            "grid_auto_flow": null,
            "grid_area": null,
            "grid_template_columns": null,
            "flex": null,
            "_model_name": "LayoutModel",
            "justify_items": null,
            "grid_row": null,
            "max_height": null,
            "align_content": null,
            "visibility": null,
            "align_self": null,
            "height": null,
            "min_height": null,
            "padding": null,
            "grid_auto_rows": null,
            "grid_gap": null,
            "max_width": null,
            "order": null,
            "_view_module_version": "1.2.0",
            "grid_template_areas": null,
            "object_position": null,
            "object_fit": null,
            "grid_auto_columns": null,
            "margin": null,
            "display": null,
            "left": null
          }
        },
        "5a0113bf52f04d419849d2f0fef114e7": {
          "model_module": "@jupyter-widgets/controls",
          "model_name": "DescriptionStyleModel",
          "state": {
            "_view_name": "StyleView",
            "_model_name": "DescriptionStyleModel",
            "description_width": "",
            "_view_module": "@jupyter-widgets/base",
            "_model_module_version": "1.5.0",
            "_view_count": null,
            "_view_module_version": "1.2.0",
            "_model_module": "@jupyter-widgets/controls"
          }
        },
        "b34580420a3f44e088da2b46e556f9b9": {
          "model_module": "@jupyter-widgets/base",
          "model_name": "LayoutModel",
          "state": {
            "_view_name": "LayoutView",
            "grid_template_rows": null,
            "right": null,
            "justify_content": null,
            "_view_module": "@jupyter-widgets/base",
            "overflow": null,
            "_model_module_version": "1.2.0",
            "_view_count": null,
            "flex_flow": null,
            "width": null,
            "min_width": null,
            "border": null,
            "align_items": null,
            "bottom": null,
            "_model_module": "@jupyter-widgets/base",
            "top": null,
            "grid_column": null,
            "overflow_y": null,
            "overflow_x": null,
            "grid_auto_flow": null,
            "grid_area": null,
            "grid_template_columns": null,
            "flex": null,
            "_model_name": "LayoutModel",
            "justify_items": null,
            "grid_row": null,
            "max_height": null,
            "align_content": null,
            "visibility": null,
            "align_self": null,
            "height": null,
            "min_height": null,
            "padding": null,
            "grid_auto_rows": null,
            "grid_gap": null,
            "max_width": null,
            "order": null,
            "_view_module_version": "1.2.0",
            "grid_template_areas": null,
            "object_position": null,
            "object_fit": null,
            "grid_auto_columns": null,
            "margin": null,
            "display": null,
            "left": null
          }
        },
        "45010bb2b5bb48ebab78c1c9343e0908": {
          "model_module": "@jupyter-widgets/controls",
          "model_name": "HBoxModel",
          "state": {
            "_view_name": "HBoxView",
            "_dom_classes": [],
            "_model_name": "HBoxModel",
            "_view_module": "@jupyter-widgets/controls",
            "_model_module_version": "1.5.0",
            "_view_count": null,
            "_view_module_version": "1.5.0",
            "box_style": "",
            "layout": "IPY_MODEL_21e9821e69a34550b805570774f942bb",
            "_model_module": "@jupyter-widgets/controls",
            "children": [
              "IPY_MODEL_9eaed97907ec451abb3dcab8cfa8a87d",
              "IPY_MODEL_9f6697fe6da243dcaf1cf2601e2b7dae"
            ]
          }
        },
        "21e9821e69a34550b805570774f942bb": {
          "model_module": "@jupyter-widgets/base",
          "model_name": "LayoutModel",
          "state": {
            "_view_name": "LayoutView",
            "grid_template_rows": null,
            "right": null,
            "justify_content": null,
            "_view_module": "@jupyter-widgets/base",
            "overflow": null,
            "_model_module_version": "1.2.0",
            "_view_count": null,
            "flex_flow": null,
            "width": null,
            "min_width": null,
            "border": null,
            "align_items": null,
            "bottom": null,
            "_model_module": "@jupyter-widgets/base",
            "top": null,
            "grid_column": null,
            "overflow_y": null,
            "overflow_x": null,
            "grid_auto_flow": null,
            "grid_area": null,
            "grid_template_columns": null,
            "flex": null,
            "_model_name": "LayoutModel",
            "justify_items": null,
            "grid_row": null,
            "max_height": null,
            "align_content": null,
            "visibility": null,
            "align_self": null,
            "height": null,
            "min_height": null,
            "padding": null,
            "grid_auto_rows": null,
            "grid_gap": null,
            "max_width": null,
            "order": null,
            "_view_module_version": "1.2.0",
            "grid_template_areas": null,
            "object_position": null,
            "object_fit": null,
            "grid_auto_columns": null,
            "margin": null,
            "display": null,
            "left": null
          }
        },
        "9eaed97907ec451abb3dcab8cfa8a87d": {
          "model_module": "@jupyter-widgets/controls",
          "model_name": "FloatProgressModel",
          "state": {
            "_view_name": "ProgressView",
            "style": "IPY_MODEL_e53a0a4540a24bc3870848c37bed0c4b",
            "_dom_classes": [],
            "description": "Epoch 2: 100%",
            "_model_name": "FloatProgressModel",
            "bar_style": "success",
            "max": 10000,
            "_view_module": "@jupyter-widgets/controls",
            "_model_module_version": "1.5.0",
            "value": 10000,
            "_view_count": null,
            "_view_module_version": "1.5.0",
            "orientation": "horizontal",
            "min": 0,
            "description_tooltip": null,
            "_model_module": "@jupyter-widgets/controls",
            "layout": "IPY_MODEL_c3634c9dc705405bbd2badc61e2ce504"
          }
        },
        "9f6697fe6da243dcaf1cf2601e2b7dae": {
          "model_module": "@jupyter-widgets/controls",
          "model_name": "HTMLModel",
          "state": {
            "_view_name": "HTMLView",
            "style": "IPY_MODEL_155ac199746d4c598e1921137dd750a8",
            "_dom_classes": [],
            "description": "",
            "_model_name": "HTMLModel",
            "placeholder": "​",
            "_view_module": "@jupyter-widgets/controls",
            "_model_module_version": "1.5.0",
            "value": " 10000/10000 [16:14&lt;00:00, 10.27it/s, Loss=0.14, Acc=0]",
            "_view_count": null,
            "_view_module_version": "1.5.0",
            "description_tooltip": null,
            "_model_module": "@jupyter-widgets/controls",
            "layout": "IPY_MODEL_862c622d63bc45c68a976d41d980e836"
          }
        },
        "e53a0a4540a24bc3870848c37bed0c4b": {
          "model_module": "@jupyter-widgets/controls",
          "model_name": "ProgressStyleModel",
          "state": {
            "_view_name": "StyleView",
            "_model_name": "ProgressStyleModel",
            "description_width": "initial",
            "_view_module": "@jupyter-widgets/base",
            "_model_module_version": "1.5.0",
            "_view_count": null,
            "_view_module_version": "1.2.0",
            "bar_color": null,
            "_model_module": "@jupyter-widgets/controls"
          }
        },
        "c3634c9dc705405bbd2badc61e2ce504": {
          "model_module": "@jupyter-widgets/base",
          "model_name": "LayoutModel",
          "state": {
            "_view_name": "LayoutView",
            "grid_template_rows": null,
            "right": null,
            "justify_content": null,
            "_view_module": "@jupyter-widgets/base",
            "overflow": null,
            "_model_module_version": "1.2.0",
            "_view_count": null,
            "flex_flow": null,
            "width": null,
            "min_width": null,
            "border": null,
            "align_items": null,
            "bottom": null,
            "_model_module": "@jupyter-widgets/base",
            "top": null,
            "grid_column": null,
            "overflow_y": null,
            "overflow_x": null,
            "grid_auto_flow": null,
            "grid_area": null,
            "grid_template_columns": null,
            "flex": null,
            "_model_name": "LayoutModel",
            "justify_items": null,
            "grid_row": null,
            "max_height": null,
            "align_content": null,
            "visibility": null,
            "align_self": null,
            "height": null,
            "min_height": null,
            "padding": null,
            "grid_auto_rows": null,
            "grid_gap": null,
            "max_width": null,
            "order": null,
            "_view_module_version": "1.2.0",
            "grid_template_areas": null,
            "object_position": null,
            "object_fit": null,
            "grid_auto_columns": null,
            "margin": null,
            "display": null,
            "left": null
          }
        },
        "155ac199746d4c598e1921137dd750a8": {
          "model_module": "@jupyter-widgets/controls",
          "model_name": "DescriptionStyleModel",
          "state": {
            "_view_name": "StyleView",
            "_model_name": "DescriptionStyleModel",
            "description_width": "",
            "_view_module": "@jupyter-widgets/base",
            "_model_module_version": "1.5.0",
            "_view_count": null,
            "_view_module_version": "1.2.0",
            "_model_module": "@jupyter-widgets/controls"
          }
        },
        "862c622d63bc45c68a976d41d980e836": {
          "model_module": "@jupyter-widgets/base",
          "model_name": "LayoutModel",
          "state": {
            "_view_name": "LayoutView",
            "grid_template_rows": null,
            "right": null,
            "justify_content": null,
            "_view_module": "@jupyter-widgets/base",
            "overflow": null,
            "_model_module_version": "1.2.0",
            "_view_count": null,
            "flex_flow": null,
            "width": null,
            "min_width": null,
            "border": null,
            "align_items": null,
            "bottom": null,
            "_model_module": "@jupyter-widgets/base",
            "top": null,
            "grid_column": null,
            "overflow_y": null,
            "overflow_x": null,
            "grid_auto_flow": null,
            "grid_area": null,
            "grid_template_columns": null,
            "flex": null,
            "_model_name": "LayoutModel",
            "justify_items": null,
            "grid_row": null,
            "max_height": null,
            "align_content": null,
            "visibility": null,
            "align_self": null,
            "height": null,
            "min_height": null,
            "padding": null,
            "grid_auto_rows": null,
            "grid_gap": null,
            "max_width": null,
            "order": null,
            "_view_module_version": "1.2.0",
            "grid_template_areas": null,
            "object_position": null,
            "object_fit": null,
            "grid_auto_columns": null,
            "margin": null,
            "display": null,
            "left": null
          }
        },
        "0eb63330682a404caab4f96a990da740": {
          "model_module": "@jupyter-widgets/controls",
          "model_name": "HBoxModel",
          "state": {
            "_view_name": "HBoxView",
            "_dom_classes": [],
            "_model_name": "HBoxModel",
            "_view_module": "@jupyter-widgets/controls",
            "_model_module_version": "1.5.0",
            "_view_count": null,
            "_view_module_version": "1.5.0",
            "box_style": "",
            "layout": "IPY_MODEL_85b9507a6394477bb9882c18670a37a4",
            "_model_module": "@jupyter-widgets/controls",
            "children": [
              "IPY_MODEL_c03034a9ab0843f4a002801c71269aae",
              "IPY_MODEL_19a8be943b9b472084a1625002b70ca0"
            ]
          }
        },
        "85b9507a6394477bb9882c18670a37a4": {
          "model_module": "@jupyter-widgets/base",
          "model_name": "LayoutModel",
          "state": {
            "_view_name": "LayoutView",
            "grid_template_rows": null,
            "right": null,
            "justify_content": null,
            "_view_module": "@jupyter-widgets/base",
            "overflow": null,
            "_model_module_version": "1.2.0",
            "_view_count": null,
            "flex_flow": null,
            "width": null,
            "min_width": null,
            "border": null,
            "align_items": null,
            "bottom": null,
            "_model_module": "@jupyter-widgets/base",
            "top": null,
            "grid_column": null,
            "overflow_y": null,
            "overflow_x": null,
            "grid_auto_flow": null,
            "grid_area": null,
            "grid_template_columns": null,
            "flex": null,
            "_model_name": "LayoutModel",
            "justify_items": null,
            "grid_row": null,
            "max_height": null,
            "align_content": null,
            "visibility": null,
            "align_self": null,
            "height": null,
            "min_height": null,
            "padding": null,
            "grid_auto_rows": null,
            "grid_gap": null,
            "max_width": null,
            "order": null,
            "_view_module_version": "1.2.0",
            "grid_template_areas": null,
            "object_position": null,
            "object_fit": null,
            "grid_auto_columns": null,
            "margin": null,
            "display": null,
            "left": null
          }
        },
        "c03034a9ab0843f4a002801c71269aae": {
          "model_module": "@jupyter-widgets/controls",
          "model_name": "FloatProgressModel",
          "state": {
            "_view_name": "ProgressView",
            "style": "IPY_MODEL_3e28adacc3f34e9db4fa2a224c41fbe3",
            "_dom_classes": [],
            "description": "Epoch 3: 100%",
            "_model_name": "FloatProgressModel",
            "bar_style": "success",
            "max": 10000,
            "_view_module": "@jupyter-widgets/controls",
            "_model_module_version": "1.5.0",
            "value": 10000,
            "_view_count": null,
            "_view_module_version": "1.5.0",
            "orientation": "horizontal",
            "min": 0,
            "description_tooltip": null,
            "_model_module": "@jupyter-widgets/controls",
            "layout": "IPY_MODEL_27bd83c50e884405a329927a52689fd3"
          }
        },
        "19a8be943b9b472084a1625002b70ca0": {
          "model_module": "@jupyter-widgets/controls",
          "model_name": "HTMLModel",
          "state": {
            "_view_name": "HTMLView",
            "style": "IPY_MODEL_951a10672e2f49fb9478a4c437b98654",
            "_dom_classes": [],
            "description": "",
            "_model_name": "HTMLModel",
            "placeholder": "​",
            "_view_module": "@jupyter-widgets/controls",
            "_model_module_version": "1.5.0",
            "value": " 10000/10000 [17:13&lt;00:00,  9.68it/s, Loss=0.0776, Acc=0.2]",
            "_view_count": null,
            "_view_module_version": "1.5.0",
            "description_tooltip": null,
            "_model_module": "@jupyter-widgets/controls",
            "layout": "IPY_MODEL_1acc387ed3ae40f3a9874ce8d1c5af30"
          }
        },
        "3e28adacc3f34e9db4fa2a224c41fbe3": {
          "model_module": "@jupyter-widgets/controls",
          "model_name": "ProgressStyleModel",
          "state": {
            "_view_name": "StyleView",
            "_model_name": "ProgressStyleModel",
            "description_width": "initial",
            "_view_module": "@jupyter-widgets/base",
            "_model_module_version": "1.5.0",
            "_view_count": null,
            "_view_module_version": "1.2.0",
            "bar_color": null,
            "_model_module": "@jupyter-widgets/controls"
          }
        },
        "27bd83c50e884405a329927a52689fd3": {
          "model_module": "@jupyter-widgets/base",
          "model_name": "LayoutModel",
          "state": {
            "_view_name": "LayoutView",
            "grid_template_rows": null,
            "right": null,
            "justify_content": null,
            "_view_module": "@jupyter-widgets/base",
            "overflow": null,
            "_model_module_version": "1.2.0",
            "_view_count": null,
            "flex_flow": null,
            "width": null,
            "min_width": null,
            "border": null,
            "align_items": null,
            "bottom": null,
            "_model_module": "@jupyter-widgets/base",
            "top": null,
            "grid_column": null,
            "overflow_y": null,
            "overflow_x": null,
            "grid_auto_flow": null,
            "grid_area": null,
            "grid_template_columns": null,
            "flex": null,
            "_model_name": "LayoutModel",
            "justify_items": null,
            "grid_row": null,
            "max_height": null,
            "align_content": null,
            "visibility": null,
            "align_self": null,
            "height": null,
            "min_height": null,
            "padding": null,
            "grid_auto_rows": null,
            "grid_gap": null,
            "max_width": null,
            "order": null,
            "_view_module_version": "1.2.0",
            "grid_template_areas": null,
            "object_position": null,
            "object_fit": null,
            "grid_auto_columns": null,
            "margin": null,
            "display": null,
            "left": null
          }
        },
        "951a10672e2f49fb9478a4c437b98654": {
          "model_module": "@jupyter-widgets/controls",
          "model_name": "DescriptionStyleModel",
          "state": {
            "_view_name": "StyleView",
            "_model_name": "DescriptionStyleModel",
            "description_width": "",
            "_view_module": "@jupyter-widgets/base",
            "_model_module_version": "1.5.0",
            "_view_count": null,
            "_view_module_version": "1.2.0",
            "_model_module": "@jupyter-widgets/controls"
          }
        },
        "1acc387ed3ae40f3a9874ce8d1c5af30": {
          "model_module": "@jupyter-widgets/base",
          "model_name": "LayoutModel",
          "state": {
            "_view_name": "LayoutView",
            "grid_template_rows": null,
            "right": null,
            "justify_content": null,
            "_view_module": "@jupyter-widgets/base",
            "overflow": null,
            "_model_module_version": "1.2.0",
            "_view_count": null,
            "flex_flow": null,
            "width": null,
            "min_width": null,
            "border": null,
            "align_items": null,
            "bottom": null,
            "_model_module": "@jupyter-widgets/base",
            "top": null,
            "grid_column": null,
            "overflow_y": null,
            "overflow_x": null,
            "grid_auto_flow": null,
            "grid_area": null,
            "grid_template_columns": null,
            "flex": null,
            "_model_name": "LayoutModel",
            "justify_items": null,
            "grid_row": null,
            "max_height": null,
            "align_content": null,
            "visibility": null,
            "align_self": null,
            "height": null,
            "min_height": null,
            "padding": null,
            "grid_auto_rows": null,
            "grid_gap": null,
            "max_width": null,
            "order": null,
            "_view_module_version": "1.2.0",
            "grid_template_areas": null,
            "object_position": null,
            "object_fit": null,
            "grid_auto_columns": null,
            "margin": null,
            "display": null,
            "left": null
          }
        },
        "41c7d526cde54101a1a3b1a8a2429147": {
          "model_module": "@jupyter-widgets/controls",
          "model_name": "HBoxModel",
          "state": {
            "_view_name": "HBoxView",
            "_dom_classes": [],
            "_model_name": "HBoxModel",
            "_view_module": "@jupyter-widgets/controls",
            "_model_module_version": "1.5.0",
            "_view_count": null,
            "_view_module_version": "1.5.0",
            "box_style": "",
            "layout": "IPY_MODEL_6254b9aa3fd345879b0b79d457d1a1c1",
            "_model_module": "@jupyter-widgets/controls",
            "children": [
              "IPY_MODEL_ff3bfb690075416caa8e9f30d85a97e1",
              "IPY_MODEL_ae23157805e142938d89750084f70438"
            ]
          }
        },
        "6254b9aa3fd345879b0b79d457d1a1c1": {
          "model_module": "@jupyter-widgets/base",
          "model_name": "LayoutModel",
          "state": {
            "_view_name": "LayoutView",
            "grid_template_rows": null,
            "right": null,
            "justify_content": null,
            "_view_module": "@jupyter-widgets/base",
            "overflow": null,
            "_model_module_version": "1.2.0",
            "_view_count": null,
            "flex_flow": null,
            "width": null,
            "min_width": null,
            "border": null,
            "align_items": null,
            "bottom": null,
            "_model_module": "@jupyter-widgets/base",
            "top": null,
            "grid_column": null,
            "overflow_y": null,
            "overflow_x": null,
            "grid_auto_flow": null,
            "grid_area": null,
            "grid_template_columns": null,
            "flex": null,
            "_model_name": "LayoutModel",
            "justify_items": null,
            "grid_row": null,
            "max_height": null,
            "align_content": null,
            "visibility": null,
            "align_self": null,
            "height": null,
            "min_height": null,
            "padding": null,
            "grid_auto_rows": null,
            "grid_gap": null,
            "max_width": null,
            "order": null,
            "_view_module_version": "1.2.0",
            "grid_template_areas": null,
            "object_position": null,
            "object_fit": null,
            "grid_auto_columns": null,
            "margin": null,
            "display": null,
            "left": null
          }
        },
        "ff3bfb690075416caa8e9f30d85a97e1": {
          "model_module": "@jupyter-widgets/controls",
          "model_name": "FloatProgressModel",
          "state": {
            "_view_name": "ProgressView",
            "style": "IPY_MODEL_68249168830b42228a97362349fff05b",
            "_dom_classes": [],
            "description": "Epoch 4: 100%",
            "_model_name": "FloatProgressModel",
            "bar_style": "success",
            "max": 10000,
            "_view_module": "@jupyter-widgets/controls",
            "_model_module_version": "1.5.0",
            "value": 10000,
            "_view_count": null,
            "_view_module_version": "1.5.0",
            "orientation": "horizontal",
            "min": 0,
            "description_tooltip": null,
            "_model_module": "@jupyter-widgets/controls",
            "layout": "IPY_MODEL_3239d7e6471e495a83ceedff48de8293"
          }
        },
        "ae23157805e142938d89750084f70438": {
          "model_module": "@jupyter-widgets/controls",
          "model_name": "HTMLModel",
          "state": {
            "_view_name": "HTMLView",
            "style": "IPY_MODEL_6c43fa0c1c2c40a4b1bc7007328a8756",
            "_dom_classes": [],
            "description": "",
            "_model_name": "HTMLModel",
            "placeholder": "​",
            "_view_module": "@jupyter-widgets/controls",
            "_model_module_version": "1.5.0",
            "value": " 10000/10000 [16:58&lt;00:00,  9.82it/s, Loss=0.106, Acc=0.8]",
            "_view_count": null,
            "_view_module_version": "1.5.0",
            "description_tooltip": null,
            "_model_module": "@jupyter-widgets/controls",
            "layout": "IPY_MODEL_3edb549cc3604c048a80d9bf08460d7e"
          }
        },
        "68249168830b42228a97362349fff05b": {
          "model_module": "@jupyter-widgets/controls",
          "model_name": "ProgressStyleModel",
          "state": {
            "_view_name": "StyleView",
            "_model_name": "ProgressStyleModel",
            "description_width": "initial",
            "_view_module": "@jupyter-widgets/base",
            "_model_module_version": "1.5.0",
            "_view_count": null,
            "_view_module_version": "1.2.0",
            "bar_color": null,
            "_model_module": "@jupyter-widgets/controls"
          }
        },
        "3239d7e6471e495a83ceedff48de8293": {
          "model_module": "@jupyter-widgets/base",
          "model_name": "LayoutModel",
          "state": {
            "_view_name": "LayoutView",
            "grid_template_rows": null,
            "right": null,
            "justify_content": null,
            "_view_module": "@jupyter-widgets/base",
            "overflow": null,
            "_model_module_version": "1.2.0",
            "_view_count": null,
            "flex_flow": null,
            "width": null,
            "min_width": null,
            "border": null,
            "align_items": null,
            "bottom": null,
            "_model_module": "@jupyter-widgets/base",
            "top": null,
            "grid_column": null,
            "overflow_y": null,
            "overflow_x": null,
            "grid_auto_flow": null,
            "grid_area": null,
            "grid_template_columns": null,
            "flex": null,
            "_model_name": "LayoutModel",
            "justify_items": null,
            "grid_row": null,
            "max_height": null,
            "align_content": null,
            "visibility": null,
            "align_self": null,
            "height": null,
            "min_height": null,
            "padding": null,
            "grid_auto_rows": null,
            "grid_gap": null,
            "max_width": null,
            "order": null,
            "_view_module_version": "1.2.0",
            "grid_template_areas": null,
            "object_position": null,
            "object_fit": null,
            "grid_auto_columns": null,
            "margin": null,
            "display": null,
            "left": null
          }
        },
        "6c43fa0c1c2c40a4b1bc7007328a8756": {
          "model_module": "@jupyter-widgets/controls",
          "model_name": "DescriptionStyleModel",
          "state": {
            "_view_name": "StyleView",
            "_model_name": "DescriptionStyleModel",
            "description_width": "",
            "_view_module": "@jupyter-widgets/base",
            "_model_module_version": "1.5.0",
            "_view_count": null,
            "_view_module_version": "1.2.0",
            "_model_module": "@jupyter-widgets/controls"
          }
        },
        "3edb549cc3604c048a80d9bf08460d7e": {
          "model_module": "@jupyter-widgets/base",
          "model_name": "LayoutModel",
          "state": {
            "_view_name": "LayoutView",
            "grid_template_rows": null,
            "right": null,
            "justify_content": null,
            "_view_module": "@jupyter-widgets/base",
            "overflow": null,
            "_model_module_version": "1.2.0",
            "_view_count": null,
            "flex_flow": null,
            "width": null,
            "min_width": null,
            "border": null,
            "align_items": null,
            "bottom": null,
            "_model_module": "@jupyter-widgets/base",
            "top": null,
            "grid_column": null,
            "overflow_y": null,
            "overflow_x": null,
            "grid_auto_flow": null,
            "grid_area": null,
            "grid_template_columns": null,
            "flex": null,
            "_model_name": "LayoutModel",
            "justify_items": null,
            "grid_row": null,
            "max_height": null,
            "align_content": null,
            "visibility": null,
            "align_self": null,
            "height": null,
            "min_height": null,
            "padding": null,
            "grid_auto_rows": null,
            "grid_gap": null,
            "max_width": null,
            "order": null,
            "_view_module_version": "1.2.0",
            "grid_template_areas": null,
            "object_position": null,
            "object_fit": null,
            "grid_auto_columns": null,
            "margin": null,
            "display": null,
            "left": null
          }
        },
        "bdb166302eaf4ed0be5d774852b343b2": {
          "model_module": "@jupyter-widgets/controls",
          "model_name": "HBoxModel",
          "state": {
            "_view_name": "HBoxView",
            "_dom_classes": [],
            "_model_name": "HBoxModel",
            "_view_module": "@jupyter-widgets/controls",
            "_model_module_version": "1.5.0",
            "_view_count": null,
            "_view_module_version": "1.5.0",
            "box_style": "",
            "layout": "IPY_MODEL_c325bcf414ff4e6292a0bb5dad2838d6",
            "_model_module": "@jupyter-widgets/controls",
            "children": [
              "IPY_MODEL_311bf487548741d29c5b3c16ca121fcc",
              "IPY_MODEL_a376980cb7354917a373437a3ef1e500"
            ]
          }
        },
        "c325bcf414ff4e6292a0bb5dad2838d6": {
          "model_module": "@jupyter-widgets/base",
          "model_name": "LayoutModel",
          "state": {
            "_view_name": "LayoutView",
            "grid_template_rows": null,
            "right": null,
            "justify_content": null,
            "_view_module": "@jupyter-widgets/base",
            "overflow": null,
            "_model_module_version": "1.2.0",
            "_view_count": null,
            "flex_flow": null,
            "width": null,
            "min_width": null,
            "border": null,
            "align_items": null,
            "bottom": null,
            "_model_module": "@jupyter-widgets/base",
            "top": null,
            "grid_column": null,
            "overflow_y": null,
            "overflow_x": null,
            "grid_auto_flow": null,
            "grid_area": null,
            "grid_template_columns": null,
            "flex": null,
            "_model_name": "LayoutModel",
            "justify_items": null,
            "grid_row": null,
            "max_height": null,
            "align_content": null,
            "visibility": null,
            "align_self": null,
            "height": null,
            "min_height": null,
            "padding": null,
            "grid_auto_rows": null,
            "grid_gap": null,
            "max_width": null,
            "order": null,
            "_view_module_version": "1.2.0",
            "grid_template_areas": null,
            "object_position": null,
            "object_fit": null,
            "grid_auto_columns": null,
            "margin": null,
            "display": null,
            "left": null
          }
        },
        "311bf487548741d29c5b3c16ca121fcc": {
          "model_module": "@jupyter-widgets/controls",
          "model_name": "FloatProgressModel",
          "state": {
            "_view_name": "ProgressView",
            "style": "IPY_MODEL_2bc7bd8ab72e46fdba1acc191ab4ec6d",
            "_dom_classes": [],
            "description": "Epoch 5: 100%",
            "_model_name": "FloatProgressModel",
            "bar_style": "success",
            "max": 10000,
            "_view_module": "@jupyter-widgets/controls",
            "_model_module_version": "1.5.0",
            "value": 10000,
            "_view_count": null,
            "_view_module_version": "1.5.0",
            "orientation": "horizontal",
            "min": 0,
            "description_tooltip": null,
            "_model_module": "@jupyter-widgets/controls",
            "layout": "IPY_MODEL_29040c98990549ddaa264ee2c6a98a7a"
          }
        },
        "a376980cb7354917a373437a3ef1e500": {
          "model_module": "@jupyter-widgets/controls",
          "model_name": "HTMLModel",
          "state": {
            "_view_name": "HTMLView",
            "style": "IPY_MODEL_0e2d1f5bd2b34b14aaa916ce8948eda5",
            "_dom_classes": [],
            "description": "",
            "_model_name": "HTMLModel",
            "placeholder": "​",
            "_view_module": "@jupyter-widgets/controls",
            "_model_module_version": "1.5.0",
            "value": " 10000/10000 [16:43&lt;00:00,  9.96it/s, Loss=0.0954, Acc=0.6]",
            "_view_count": null,
            "_view_module_version": "1.5.0",
            "description_tooltip": null,
            "_model_module": "@jupyter-widgets/controls",
            "layout": "IPY_MODEL_7785d2a10a43498b97d8d73944e43bd9"
          }
        },
        "2bc7bd8ab72e46fdba1acc191ab4ec6d": {
          "model_module": "@jupyter-widgets/controls",
          "model_name": "ProgressStyleModel",
          "state": {
            "_view_name": "StyleView",
            "_model_name": "ProgressStyleModel",
            "description_width": "initial",
            "_view_module": "@jupyter-widgets/base",
            "_model_module_version": "1.5.0",
            "_view_count": null,
            "_view_module_version": "1.2.0",
            "bar_color": null,
            "_model_module": "@jupyter-widgets/controls"
          }
        },
        "29040c98990549ddaa264ee2c6a98a7a": {
          "model_module": "@jupyter-widgets/base",
          "model_name": "LayoutModel",
          "state": {
            "_view_name": "LayoutView",
            "grid_template_rows": null,
            "right": null,
            "justify_content": null,
            "_view_module": "@jupyter-widgets/base",
            "overflow": null,
            "_model_module_version": "1.2.0",
            "_view_count": null,
            "flex_flow": null,
            "width": null,
            "min_width": null,
            "border": null,
            "align_items": null,
            "bottom": null,
            "_model_module": "@jupyter-widgets/base",
            "top": null,
            "grid_column": null,
            "overflow_y": null,
            "overflow_x": null,
            "grid_auto_flow": null,
            "grid_area": null,
            "grid_template_columns": null,
            "flex": null,
            "_model_name": "LayoutModel",
            "justify_items": null,
            "grid_row": null,
            "max_height": null,
            "align_content": null,
            "visibility": null,
            "align_self": null,
            "height": null,
            "min_height": null,
            "padding": null,
            "grid_auto_rows": null,
            "grid_gap": null,
            "max_width": null,
            "order": null,
            "_view_module_version": "1.2.0",
            "grid_template_areas": null,
            "object_position": null,
            "object_fit": null,
            "grid_auto_columns": null,
            "margin": null,
            "display": null,
            "left": null
          }
        },
        "0e2d1f5bd2b34b14aaa916ce8948eda5": {
          "model_module": "@jupyter-widgets/controls",
          "model_name": "DescriptionStyleModel",
          "state": {
            "_view_name": "StyleView",
            "_model_name": "DescriptionStyleModel",
            "description_width": "",
            "_view_module": "@jupyter-widgets/base",
            "_model_module_version": "1.5.0",
            "_view_count": null,
            "_view_module_version": "1.2.0",
            "_model_module": "@jupyter-widgets/controls"
          }
        },
        "7785d2a10a43498b97d8d73944e43bd9": {
          "model_module": "@jupyter-widgets/base",
          "model_name": "LayoutModel",
          "state": {
            "_view_name": "LayoutView",
            "grid_template_rows": null,
            "right": null,
            "justify_content": null,
            "_view_module": "@jupyter-widgets/base",
            "overflow": null,
            "_model_module_version": "1.2.0",
            "_view_count": null,
            "flex_flow": null,
            "width": null,
            "min_width": null,
            "border": null,
            "align_items": null,
            "bottom": null,
            "_model_module": "@jupyter-widgets/base",
            "top": null,
            "grid_column": null,
            "overflow_y": null,
            "overflow_x": null,
            "grid_auto_flow": null,
            "grid_area": null,
            "grid_template_columns": null,
            "flex": null,
            "_model_name": "LayoutModel",
            "justify_items": null,
            "grid_row": null,
            "max_height": null,
            "align_content": null,
            "visibility": null,
            "align_self": null,
            "height": null,
            "min_height": null,
            "padding": null,
            "grid_auto_rows": null,
            "grid_gap": null,
            "max_width": null,
            "order": null,
            "_view_module_version": "1.2.0",
            "grid_template_areas": null,
            "object_position": null,
            "object_fit": null,
            "grid_auto_columns": null,
            "margin": null,
            "display": null,
            "left": null
          }
        },
        "230db2a1b8c74a75adf42c3616cf5450": {
          "model_module": "@jupyter-widgets/controls",
          "model_name": "HBoxModel",
          "state": {
            "_view_name": "HBoxView",
            "_dom_classes": [],
            "_model_name": "HBoxModel",
            "_view_module": "@jupyter-widgets/controls",
            "_model_module_version": "1.5.0",
            "_view_count": null,
            "_view_module_version": "1.5.0",
            "box_style": "",
            "layout": "IPY_MODEL_f30a4146caea49b5be2dc76466935ee4",
            "_model_module": "@jupyter-widgets/controls",
            "children": [
              "IPY_MODEL_e46ec75e0186471b83df98d892712bbe",
              "IPY_MODEL_569d44aad78f43f6996adf7bddbf313f"
            ]
          }
        },
        "f30a4146caea49b5be2dc76466935ee4": {
          "model_module": "@jupyter-widgets/base",
          "model_name": "LayoutModel",
          "state": {
            "_view_name": "LayoutView",
            "grid_template_rows": null,
            "right": null,
            "justify_content": null,
            "_view_module": "@jupyter-widgets/base",
            "overflow": null,
            "_model_module_version": "1.2.0",
            "_view_count": null,
            "flex_flow": null,
            "width": null,
            "min_width": null,
            "border": null,
            "align_items": null,
            "bottom": null,
            "_model_module": "@jupyter-widgets/base",
            "top": null,
            "grid_column": null,
            "overflow_y": null,
            "overflow_x": null,
            "grid_auto_flow": null,
            "grid_area": null,
            "grid_template_columns": null,
            "flex": null,
            "_model_name": "LayoutModel",
            "justify_items": null,
            "grid_row": null,
            "max_height": null,
            "align_content": null,
            "visibility": null,
            "align_self": null,
            "height": null,
            "min_height": null,
            "padding": null,
            "grid_auto_rows": null,
            "grid_gap": null,
            "max_width": null,
            "order": null,
            "_view_module_version": "1.2.0",
            "grid_template_areas": null,
            "object_position": null,
            "object_fit": null,
            "grid_auto_columns": null,
            "margin": null,
            "display": null,
            "left": null
          }
        },
        "e46ec75e0186471b83df98d892712bbe": {
          "model_module": "@jupyter-widgets/controls",
          "model_name": "FloatProgressModel",
          "state": {
            "_view_name": "ProgressView",
            "style": "IPY_MODEL_62c2d7fa4ae74a0d8af0a84ae42d4eab",
            "_dom_classes": [],
            "description": "Epoch 6: 100%",
            "_model_name": "FloatProgressModel",
            "bar_style": "success",
            "max": 10000,
            "_view_module": "@jupyter-widgets/controls",
            "_model_module_version": "1.5.0",
            "value": 10000,
            "_view_count": null,
            "_view_module_version": "1.5.0",
            "orientation": "horizontal",
            "min": 0,
            "description_tooltip": null,
            "_model_module": "@jupyter-widgets/controls",
            "layout": "IPY_MODEL_b91a0b45ab844e3c868a2ac280f35821"
          }
        },
        "569d44aad78f43f6996adf7bddbf313f": {
          "model_module": "@jupyter-widgets/controls",
          "model_name": "HTMLModel",
          "state": {
            "_view_name": "HTMLView",
            "style": "IPY_MODEL_ff79ae9457174255b99fe7053e9d070c",
            "_dom_classes": [],
            "description": "",
            "_model_name": "HTMLModel",
            "placeholder": "​",
            "_view_module": "@jupyter-widgets/controls",
            "_model_module_version": "1.5.0",
            "value": " 10000/10000 [16:42&lt;00:00,  9.98it/s, Loss=0.0481, Acc=1]",
            "_view_count": null,
            "_view_module_version": "1.5.0",
            "description_tooltip": null,
            "_model_module": "@jupyter-widgets/controls",
            "layout": "IPY_MODEL_1105f8e4fbd749069a5ddb353c5e6677"
          }
        },
        "62c2d7fa4ae74a0d8af0a84ae42d4eab": {
          "model_module": "@jupyter-widgets/controls",
          "model_name": "ProgressStyleModel",
          "state": {
            "_view_name": "StyleView",
            "_model_name": "ProgressStyleModel",
            "description_width": "initial",
            "_view_module": "@jupyter-widgets/base",
            "_model_module_version": "1.5.0",
            "_view_count": null,
            "_view_module_version": "1.2.0",
            "bar_color": null,
            "_model_module": "@jupyter-widgets/controls"
          }
        },
        "b91a0b45ab844e3c868a2ac280f35821": {
          "model_module": "@jupyter-widgets/base",
          "model_name": "LayoutModel",
          "state": {
            "_view_name": "LayoutView",
            "grid_template_rows": null,
            "right": null,
            "justify_content": null,
            "_view_module": "@jupyter-widgets/base",
            "overflow": null,
            "_model_module_version": "1.2.0",
            "_view_count": null,
            "flex_flow": null,
            "width": null,
            "min_width": null,
            "border": null,
            "align_items": null,
            "bottom": null,
            "_model_module": "@jupyter-widgets/base",
            "top": null,
            "grid_column": null,
            "overflow_y": null,
            "overflow_x": null,
            "grid_auto_flow": null,
            "grid_area": null,
            "grid_template_columns": null,
            "flex": null,
            "_model_name": "LayoutModel",
            "justify_items": null,
            "grid_row": null,
            "max_height": null,
            "align_content": null,
            "visibility": null,
            "align_self": null,
            "height": null,
            "min_height": null,
            "padding": null,
            "grid_auto_rows": null,
            "grid_gap": null,
            "max_width": null,
            "order": null,
            "_view_module_version": "1.2.0",
            "grid_template_areas": null,
            "object_position": null,
            "object_fit": null,
            "grid_auto_columns": null,
            "margin": null,
            "display": null,
            "left": null
          }
        },
        "ff79ae9457174255b99fe7053e9d070c": {
          "model_module": "@jupyter-widgets/controls",
          "model_name": "DescriptionStyleModel",
          "state": {
            "_view_name": "StyleView",
            "_model_name": "DescriptionStyleModel",
            "description_width": "",
            "_view_module": "@jupyter-widgets/base",
            "_model_module_version": "1.5.0",
            "_view_count": null,
            "_view_module_version": "1.2.0",
            "_model_module": "@jupyter-widgets/controls"
          }
        },
        "1105f8e4fbd749069a5ddb353c5e6677": {
          "model_module": "@jupyter-widgets/base",
          "model_name": "LayoutModel",
          "state": {
            "_view_name": "LayoutView",
            "grid_template_rows": null,
            "right": null,
            "justify_content": null,
            "_view_module": "@jupyter-widgets/base",
            "overflow": null,
            "_model_module_version": "1.2.0",
            "_view_count": null,
            "flex_flow": null,
            "width": null,
            "min_width": null,
            "border": null,
            "align_items": null,
            "bottom": null,
            "_model_module": "@jupyter-widgets/base",
            "top": null,
            "grid_column": null,
            "overflow_y": null,
            "overflow_x": null,
            "grid_auto_flow": null,
            "grid_area": null,
            "grid_template_columns": null,
            "flex": null,
            "_model_name": "LayoutModel",
            "justify_items": null,
            "grid_row": null,
            "max_height": null,
            "align_content": null,
            "visibility": null,
            "align_self": null,
            "height": null,
            "min_height": null,
            "padding": null,
            "grid_auto_rows": null,
            "grid_gap": null,
            "max_width": null,
            "order": null,
            "_view_module_version": "1.2.0",
            "grid_template_areas": null,
            "object_position": null,
            "object_fit": null,
            "grid_auto_columns": null,
            "margin": null,
            "display": null,
            "left": null
          }
        },
        "1ce8869a065342168abbc2a4f6bbe2f6": {
          "model_module": "@jupyter-widgets/controls",
          "model_name": "HBoxModel",
          "state": {
            "_view_name": "HBoxView",
            "_dom_classes": [],
            "_model_name": "HBoxModel",
            "_view_module": "@jupyter-widgets/controls",
            "_model_module_version": "1.5.0",
            "_view_count": null,
            "_view_module_version": "1.5.0",
            "box_style": "",
            "layout": "IPY_MODEL_ffd67ee4f5f44371a0a032dfc777f040",
            "_model_module": "@jupyter-widgets/controls",
            "children": [
              "IPY_MODEL_37702812679e473c924325842c3cd71f",
              "IPY_MODEL_76bd68aad5cd45289d7826134a70db5c"
            ]
          }
        },
        "ffd67ee4f5f44371a0a032dfc777f040": {
          "model_module": "@jupyter-widgets/base",
          "model_name": "LayoutModel",
          "state": {
            "_view_name": "LayoutView",
            "grid_template_rows": null,
            "right": null,
            "justify_content": null,
            "_view_module": "@jupyter-widgets/base",
            "overflow": null,
            "_model_module_version": "1.2.0",
            "_view_count": null,
            "flex_flow": null,
            "width": null,
            "min_width": null,
            "border": null,
            "align_items": null,
            "bottom": null,
            "_model_module": "@jupyter-widgets/base",
            "top": null,
            "grid_column": null,
            "overflow_y": null,
            "overflow_x": null,
            "grid_auto_flow": null,
            "grid_area": null,
            "grid_template_columns": null,
            "flex": null,
            "_model_name": "LayoutModel",
            "justify_items": null,
            "grid_row": null,
            "max_height": null,
            "align_content": null,
            "visibility": null,
            "align_self": null,
            "height": null,
            "min_height": null,
            "padding": null,
            "grid_auto_rows": null,
            "grid_gap": null,
            "max_width": null,
            "order": null,
            "_view_module_version": "1.2.0",
            "grid_template_areas": null,
            "object_position": null,
            "object_fit": null,
            "grid_auto_columns": null,
            "margin": null,
            "display": null,
            "left": null
          }
        },
        "37702812679e473c924325842c3cd71f": {
          "model_module": "@jupyter-widgets/controls",
          "model_name": "FloatProgressModel",
          "state": {
            "_view_name": "ProgressView",
            "style": "IPY_MODEL_eb8343ffd0ae4f95a46a1f94ca2ff55b",
            "_dom_classes": [],
            "description": "100%",
            "_model_name": "FloatProgressModel",
            "bar_style": "success",
            "max": 16,
            "_view_module": "@jupyter-widgets/controls",
            "_model_module_version": "1.5.0",
            "value": 16,
            "_view_count": null,
            "_view_module_version": "1.5.0",
            "orientation": "horizontal",
            "min": 0,
            "description_tooltip": null,
            "_model_module": "@jupyter-widgets/controls",
            "layout": "IPY_MODEL_40b22e31de154a088da7efd93921ede3"
          }
        },
        "76bd68aad5cd45289d7826134a70db5c": {
          "model_module": "@jupyter-widgets/controls",
          "model_name": "HTMLModel",
          "state": {
            "_view_name": "HTMLView",
            "style": "IPY_MODEL_e95f8e981dc54c26b077d4e77d9f36a7",
            "_dom_classes": [],
            "description": "",
            "_model_name": "HTMLModel",
            "placeholder": "​",
            "_view_module": "@jupyter-widgets/controls",
            "_model_module_version": "1.5.0",
            "value": " 16/16 [07:58&lt;00:00, 29.90s/it]",
            "_view_count": null,
            "_view_module_version": "1.5.0",
            "description_tooltip": null,
            "_model_module": "@jupyter-widgets/controls",
            "layout": "IPY_MODEL_14c10e16265c48bca3838cc3b4a360fb"
          }
        },
        "eb8343ffd0ae4f95a46a1f94ca2ff55b": {
          "model_module": "@jupyter-widgets/controls",
          "model_name": "ProgressStyleModel",
          "state": {
            "_view_name": "StyleView",
            "_model_name": "ProgressStyleModel",
            "description_width": "initial",
            "_view_module": "@jupyter-widgets/base",
            "_model_module_version": "1.5.0",
            "_view_count": null,
            "_view_module_version": "1.2.0",
            "bar_color": null,
            "_model_module": "@jupyter-widgets/controls"
          }
        },
        "40b22e31de154a088da7efd93921ede3": {
          "model_module": "@jupyter-widgets/base",
          "model_name": "LayoutModel",
          "state": {
            "_view_name": "LayoutView",
            "grid_template_rows": null,
            "right": null,
            "justify_content": null,
            "_view_module": "@jupyter-widgets/base",
            "overflow": null,
            "_model_module_version": "1.2.0",
            "_view_count": null,
            "flex_flow": null,
            "width": null,
            "min_width": null,
            "border": null,
            "align_items": null,
            "bottom": null,
            "_model_module": "@jupyter-widgets/base",
            "top": null,
            "grid_column": null,
            "overflow_y": null,
            "overflow_x": null,
            "grid_auto_flow": null,
            "grid_area": null,
            "grid_template_columns": null,
            "flex": null,
            "_model_name": "LayoutModel",
            "justify_items": null,
            "grid_row": null,
            "max_height": null,
            "align_content": null,
            "visibility": null,
            "align_self": null,
            "height": null,
            "min_height": null,
            "padding": null,
            "grid_auto_rows": null,
            "grid_gap": null,
            "max_width": null,
            "order": null,
            "_view_module_version": "1.2.0",
            "grid_template_areas": null,
            "object_position": null,
            "object_fit": null,
            "grid_auto_columns": null,
            "margin": null,
            "display": null,
            "left": null
          }
        },
        "e95f8e981dc54c26b077d4e77d9f36a7": {
          "model_module": "@jupyter-widgets/controls",
          "model_name": "DescriptionStyleModel",
          "state": {
            "_view_name": "StyleView",
            "_model_name": "DescriptionStyleModel",
            "description_width": "",
            "_view_module": "@jupyter-widgets/base",
            "_model_module_version": "1.5.0",
            "_view_count": null,
            "_view_module_version": "1.2.0",
            "_model_module": "@jupyter-widgets/controls"
          }
        },
        "14c10e16265c48bca3838cc3b4a360fb": {
          "model_module": "@jupyter-widgets/base",
          "model_name": "LayoutModel",
          "state": {
            "_view_name": "LayoutView",
            "grid_template_rows": null,
            "right": null,
            "justify_content": null,
            "_view_module": "@jupyter-widgets/base",
            "overflow": null,
            "_model_module_version": "1.2.0",
            "_view_count": null,
            "flex_flow": null,
            "width": null,
            "min_width": null,
            "border": null,
            "align_items": null,
            "bottom": null,
            "_model_module": "@jupyter-widgets/base",
            "top": null,
            "grid_column": null,
            "overflow_y": null,
            "overflow_x": null,
            "grid_auto_flow": null,
            "grid_area": null,
            "grid_template_columns": null,
            "flex": null,
            "_model_name": "LayoutModel",
            "justify_items": null,
            "grid_row": null,
            "max_height": null,
            "align_content": null,
            "visibility": null,
            "align_self": null,
            "height": null,
            "min_height": null,
            "padding": null,
            "grid_auto_rows": null,
            "grid_gap": null,
            "max_width": null,
            "order": null,
            "_view_module_version": "1.2.0",
            "grid_template_areas": null,
            "object_position": null,
            "object_fit": null,
            "grid_auto_columns": null,
            "margin": null,
            "display": null,
            "left": null
          }
        },
        "4e5bab80a1004b3aa8d57d1c349090f9": {
          "model_module": "@jupyter-widgets/controls",
          "model_name": "HBoxModel",
          "state": {
            "_view_name": "HBoxView",
            "_dom_classes": [],
            "_model_name": "HBoxModel",
            "_view_module": "@jupyter-widgets/controls",
            "_model_module_version": "1.5.0",
            "_view_count": null,
            "_view_module_version": "1.5.0",
            "box_style": "",
            "layout": "IPY_MODEL_278b26f4cb174b15977f7aa311f4f1ce",
            "_model_module": "@jupyter-widgets/controls",
            "children": [
              "IPY_MODEL_2f82511fbc184771bb0efe399690ba70",
              "IPY_MODEL_386cf3dbac044398a4650a8b4115ee7f"
            ]
          }
        },
        "278b26f4cb174b15977f7aa311f4f1ce": {
          "model_module": "@jupyter-widgets/base",
          "model_name": "LayoutModel",
          "state": {
            "_view_name": "LayoutView",
            "grid_template_rows": null,
            "right": null,
            "justify_content": null,
            "_view_module": "@jupyter-widgets/base",
            "overflow": null,
            "_model_module_version": "1.2.0",
            "_view_count": null,
            "flex_flow": null,
            "width": null,
            "min_width": null,
            "border": null,
            "align_items": null,
            "bottom": null,
            "_model_module": "@jupyter-widgets/base",
            "top": null,
            "grid_column": null,
            "overflow_y": null,
            "overflow_x": null,
            "grid_auto_flow": null,
            "grid_area": null,
            "grid_template_columns": null,
            "flex": null,
            "_model_name": "LayoutModel",
            "justify_items": null,
            "grid_row": null,
            "max_height": null,
            "align_content": null,
            "visibility": null,
            "align_self": null,
            "height": null,
            "min_height": null,
            "padding": null,
            "grid_auto_rows": null,
            "grid_gap": null,
            "max_width": null,
            "order": null,
            "_view_module_version": "1.2.0",
            "grid_template_areas": null,
            "object_position": null,
            "object_fit": null,
            "grid_auto_columns": null,
            "margin": null,
            "display": null,
            "left": null
          }
        },
        "2f82511fbc184771bb0efe399690ba70": {
          "model_module": "@jupyter-widgets/controls",
          "model_name": "FloatProgressModel",
          "state": {
            "_view_name": "ProgressView",
            "style": "IPY_MODEL_ba6eda0fe528425f9c692b25768aa054",
            "_dom_classes": [],
            "description": "Epoch 1: 100%",
            "_model_name": "FloatProgressModel",
            "bar_style": "success",
            "max": 10000,
            "_view_module": "@jupyter-widgets/controls",
            "_model_module_version": "1.5.0",
            "value": 10000,
            "_view_count": null,
            "_view_module_version": "1.5.0",
            "orientation": "horizontal",
            "min": 0,
            "description_tooltip": null,
            "_model_module": "@jupyter-widgets/controls",
            "layout": "IPY_MODEL_cb312bce8a754dc49e73ba197c75fdb0"
          }
        },
        "386cf3dbac044398a4650a8b4115ee7f": {
          "model_module": "@jupyter-widgets/controls",
          "model_name": "HTMLModel",
          "state": {
            "_view_name": "HTMLView",
            "style": "IPY_MODEL_6712666477864d09954641eec7b2d5e6",
            "_dom_classes": [],
            "description": "",
            "_model_name": "HTMLModel",
            "placeholder": "​",
            "_view_module": "@jupyter-widgets/controls",
            "_model_module_version": "1.5.0",
            "value": " 10000/10000 [07:58&lt;00:00, 20.91it/s, Loss=0.116, Acc=0.6]",
            "_view_count": null,
            "_view_module_version": "1.5.0",
            "description_tooltip": null,
            "_model_module": "@jupyter-widgets/controls",
            "layout": "IPY_MODEL_cfcd2db5ffd7479484f9f0b7bd668e1a"
          }
        },
        "ba6eda0fe528425f9c692b25768aa054": {
          "model_module": "@jupyter-widgets/controls",
          "model_name": "ProgressStyleModel",
          "state": {
            "_view_name": "StyleView",
            "_model_name": "ProgressStyleModel",
            "description_width": "initial",
            "_view_module": "@jupyter-widgets/base",
            "_model_module_version": "1.5.0",
            "_view_count": null,
            "_view_module_version": "1.2.0",
            "bar_color": null,
            "_model_module": "@jupyter-widgets/controls"
          }
        },
        "cb312bce8a754dc49e73ba197c75fdb0": {
          "model_module": "@jupyter-widgets/base",
          "model_name": "LayoutModel",
          "state": {
            "_view_name": "LayoutView",
            "grid_template_rows": null,
            "right": null,
            "justify_content": null,
            "_view_module": "@jupyter-widgets/base",
            "overflow": null,
            "_model_module_version": "1.2.0",
            "_view_count": null,
            "flex_flow": null,
            "width": null,
            "min_width": null,
            "border": null,
            "align_items": null,
            "bottom": null,
            "_model_module": "@jupyter-widgets/base",
            "top": null,
            "grid_column": null,
            "overflow_y": null,
            "overflow_x": null,
            "grid_auto_flow": null,
            "grid_area": null,
            "grid_template_columns": null,
            "flex": null,
            "_model_name": "LayoutModel",
            "justify_items": null,
            "grid_row": null,
            "max_height": null,
            "align_content": null,
            "visibility": null,
            "align_self": null,
            "height": null,
            "min_height": null,
            "padding": null,
            "grid_auto_rows": null,
            "grid_gap": null,
            "max_width": null,
            "order": null,
            "_view_module_version": "1.2.0",
            "grid_template_areas": null,
            "object_position": null,
            "object_fit": null,
            "grid_auto_columns": null,
            "margin": null,
            "display": null,
            "left": null
          }
        },
        "6712666477864d09954641eec7b2d5e6": {
          "model_module": "@jupyter-widgets/controls",
          "model_name": "DescriptionStyleModel",
          "state": {
            "_view_name": "StyleView",
            "_model_name": "DescriptionStyleModel",
            "description_width": "",
            "_view_module": "@jupyter-widgets/base",
            "_model_module_version": "1.5.0",
            "_view_count": null,
            "_view_module_version": "1.2.0",
            "_model_module": "@jupyter-widgets/controls"
          }
        },
        "cfcd2db5ffd7479484f9f0b7bd668e1a": {
          "model_module": "@jupyter-widgets/base",
          "model_name": "LayoutModel",
          "state": {
            "_view_name": "LayoutView",
            "grid_template_rows": null,
            "right": null,
            "justify_content": null,
            "_view_module": "@jupyter-widgets/base",
            "overflow": null,
            "_model_module_version": "1.2.0",
            "_view_count": null,
            "flex_flow": null,
            "width": null,
            "min_width": null,
            "border": null,
            "align_items": null,
            "bottom": null,
            "_model_module": "@jupyter-widgets/base",
            "top": null,
            "grid_column": null,
            "overflow_y": null,
            "overflow_x": null,
            "grid_auto_flow": null,
            "grid_area": null,
            "grid_template_columns": null,
            "flex": null,
            "_model_name": "LayoutModel",
            "justify_items": null,
            "grid_row": null,
            "max_height": null,
            "align_content": null,
            "visibility": null,
            "align_self": null,
            "height": null,
            "min_height": null,
            "padding": null,
            "grid_auto_rows": null,
            "grid_gap": null,
            "max_width": null,
            "order": null,
            "_view_module_version": "1.2.0",
            "grid_template_areas": null,
            "object_position": null,
            "object_fit": null,
            "grid_auto_columns": null,
            "margin": null,
            "display": null,
            "left": null
          }
        }
      }
    }
  },
  "cells": [
    {
      "cell_type": "markdown",
      "metadata": {
        "id": "view-in-github",
        "colab_type": "text"
      },
      "source": [
        "<a href=\"https://colab.research.google.com/github/bhuvnk/skunkworks/blob/main/Phase1/2.%20RelationNet/RelationNet_MiniImageNet.ipynb\" target=\"_parent\"><img src=\"https://colab.research.google.com/assets/colab-badge.svg\" alt=\"Open In Colab\"/></a>"
      ]
    },
    {
      "cell_type": "markdown",
      "metadata": {
        "id": "GlyMLKngmf-t"
      },
      "source": [
        "#Relation Netwoks: Omniglot dataset"
      ]
    },
    {
      "cell_type": "markdown",
      "metadata": {
        "id": "ajyUEekbufOD"
      },
      "source": [
        "\n",
        "`Credit:` https://github.com/floodsung/LearningToCompare_FSL\n"
      ]
    },
    {
      "cell_type": "markdown",
      "metadata": {
        "id": "7Fai-4Z5Ic8x"
      },
      "source": [
        "# Important\n",
        "Training Iterations on paper: 60,000 | Accuracy = 50.4\n",
        "\n",
        "Implemented in this notebook : 60,000 | Accuracy = 48.79"
      ]
    },
    {
      "cell_type": "markdown",
      "metadata": {
        "id": "7SdRSTEglMff"
      },
      "source": [
        "## Mini Imagenet Data"
      ]
    },
    {
      "cell_type": "markdown",
      "metadata": {
        "id": "u9vo4IP2lMfm"
      },
      "source": [
        "Mini Imagenet pickle by some gentleman:\n",
        "https://drive.google.com/file/d/1fJAK5WZTjerW7EWHHQAR9pRJVNg1T1Y7/view\n"
      ]
    },
    {
      "cell_type": "code",
      "metadata": {
        "id": "XUJwiZV64-9a"
      },
      "source": [
        "# Download the MiniImagenet from Aauth\n",
        "from pydrive.auth import GoogleAuth\n",
        "from pydrive.drive import GoogleDrive\n",
        "from google.colab import auth\n",
        "from oauth2client.client import GoogleCredentials\n",
        "\n",
        "auth.authenticate_user()\n",
        "gauth = GoogleAuth()\n",
        "gauth.credentials = GoogleCredentials.get_application_default()\n",
        "drive = GoogleDrive(gauth)\n",
        "downloaded = drive.CreateFile({'id':\"1fJAK5WZTjerW7EWHHQAR9pRJVNg1T1Y7\"})   \n",
        "downloaded.GetContentFile('miniImageNet.zip') "
      ],
      "execution_count": 1,
      "outputs": []
    },
    {
      "cell_type": "code",
      "metadata": {
        "id": "iFLIua305-K3"
      },
      "source": [
        "!mkdir miniImageNet\n",
        "!unzip -qq miniImageNet.zip -d miniImageNet"
      ],
      "execution_count": 2,
      "outputs": []
    },
    {
      "cell_type": "markdown",
      "metadata": {
        "id": "uh1W3Lszseoa"
      },
      "source": [
        "##Import libraries"
      ]
    },
    {
      "cell_type": "code",
      "metadata": {
        "id": "F8XY5yCCZCYZ"
      },
      "source": [
        "import numpy as np\n",
        "import matplotlib.pyplot as plt\n",
        "from scipy import ndimage\n",
        "import multiprocessing as mp\n",
        "import os\n",
        "import cv2\n",
        "import random\n",
        "import pickle as pkl\n",
        "from tqdm.notebook import tqdm\n",
        "\n",
        "\n",
        "import torch\n",
        "import torch.nn as nn\n",
        "import torchvision\n",
        "import torch.nn.functional as F\n",
        "import torch.optim as optim\n",
        "from torch.autograd import Variable"
      ],
      "execution_count": 3,
      "outputs": []
    },
    {
      "cell_type": "code",
      "metadata": {
        "id": "X5zGtLpGIziY",
        "outputId": "5b4f06c9-de12-4573-d07b-db23b3ef607d",
        "colab": {
          "base_uri": "https://localhost:8080/"
        }
      },
      "source": [
        "#Check GPU support, please do activate GPU\n",
        "print(torch.cuda.is_available())"
      ],
      "execution_count": 4,
      "outputs": [
        {
          "output_type": "stream",
          "text": [
            "True\n"
          ],
          "name": "stdout"
        }
      ]
    },
    {
      "cell_type": "markdown",
      "metadata": {
        "id": "l33V3V0asntp"
      },
      "source": [
        "## Reading the MiniImagenet\n",
        "\n",
        "* 64 character | Background Set | Training\n",
        "* 16 Alphabets | Evaluation Set | Testing\n"
      ]
    },
    {
      "cell_type": "code",
      "metadata": {
        "id": "-vZRDZeiyv5w"
      },
      "source": [
        "#data path\n",
        "data_path = '/content/miniImageNet'\n",
        "train_path = data_path + '/miniImageNet_category_split_train_phase_train.pickle'\n",
        "val_path = data_path + '/miniImageNet_category_split_val.pickle'\n",
        "test_path = data_path + '/miniImageNet_category_split_test.pickle'"
      ],
      "execution_count": 5,
      "outputs": []
    },
    {
      "cell_type": "code",
      "metadata": {
        "id": "56KVfXlwmMTV"
      },
      "source": [
        "def load_data(data_file):\n",
        "    dataset = read_file(data_file)\n",
        "    data = dataset['data']\n",
        "    labels = dataset['labels']\n",
        "    label2ind = buildLabelIndex(labels)\n",
        "\n",
        "    return {key: np.array(data[val]) for (key, val) in tqdm(label2ind.items())}\n",
        "\n",
        "def read_file(data_file):\n",
        "    try:\n",
        "        with open(data_file, 'rb') as fo:\n",
        "            data = pkl.load(fo)\n",
        "        return data\n",
        "    except:\n",
        "        with open(data_file, 'rb') as f:\n",
        "            u = pkl._Unpickler(f)\n",
        "            u.encoding = 'latin1'\n",
        "            data = u.load()\n",
        "        return data\n",
        "\n",
        "def buildLabelIndex(labels):\n",
        "    label2inds = {}\n",
        "    for idx, label in enumerate(labels):\n",
        "        if label not in label2inds:\n",
        "            label2inds[label] = []\n",
        "        label2inds[label].append(idx)\n",
        "\n",
        "    return label2inds"
      ],
      "execution_count": 6,
      "outputs": []
    },
    {
      "cell_type": "markdown",
      "metadata": {
        "id": "mHVbHJRwtCeQ"
      },
      "source": [
        "# Task Sampler"
      ]
    },
    {
      "cell_type": "code",
      "metadata": {
        "id": "P7UN-n0l7aT0",
        "outputId": "d89393b0-8cf3-412e-e13e-5eba2beed067",
        "colab": {
          "base_uri": "https://localhost:8080/",
          "height": 67,
          "referenced_widgets": [
            "07a1f07548104a20941d1da77043a46d",
            "82cc2399f7a94e95a3693fee039c4d6f",
            "d7eb4a12634748b9a5889ae702a1c59b",
            "af92c7df48aa44a98ed4682249968c3c",
            "5e41fca6ad25457ebbeed50b4c8f872a",
            "a15f15161ac143e09ce94e6988768a94",
            "1cbee555cd4740bfbe2ccac257b3ca7c",
            "c1bde89091fd41059362146daa78a360"
          ]
        }
      },
      "source": [
        "# Read the training data\n",
        "%%time\n",
        "train_data = load_data(train_path)"
      ],
      "execution_count": 7,
      "outputs": [
        {
          "output_type": "display_data",
          "data": {
            "application/vnd.jupyter.widget-view+json": {
              "model_id": "07a1f07548104a20941d1da77043a46d",
              "version_minor": 0,
              "version_major": 2
            },
            "text/plain": [
              "HBox(children=(FloatProgress(value=0.0, max=64.0), HTML(value='')))"
            ]
          },
          "metadata": {
            "tags": []
          }
        },
        {
          "output_type": "stream",
          "text": [
            "\n"
          ],
          "name": "stdout"
        }
      ]
    },
    {
      "cell_type": "markdown",
      "metadata": {
        "id": "J2VcplJ3xA-z"
      },
      "source": [
        "##Create samples"
      ]
    },
    {
      "cell_type": "code",
      "metadata": {
        "id": "VEIbwu_6le3j"
      },
      "source": [
        "def extract_sample(n_way, n_support, n_query, data):\n",
        "  \"\"\"\n",
        "    Returns a Task with support and query set combined\n",
        "    task sample : (n_way, n_support+n_query, (image dim))\n",
        "    plus these info: n_way, n_support, n_query\n",
        "  \"\"\"\n",
        "  sample = []\n",
        "  # K = np.random.choice(data.keys(), n_way, replace=False)\n",
        "  K = random.sample(data.keys(), n_way)\n",
        "\n",
        "  for cls in K:\n",
        "    datax_cls = data[cls]\n",
        "    perm = np.random.permutation(datax_cls)\n",
        "    sample_cls = perm[:(n_support+n_query)]\n",
        "    sample.append(sample_cls)\n",
        "  sample = np.array(sample)/255.\n",
        "  sample = torch.from_numpy(sample).float()\n",
        "  sample = sample.permute(0,1,4,2,3)\n",
        "  return sample"
      ],
      "execution_count": 8,
      "outputs": []
    },
    {
      "cell_type": "markdown",
      "metadata": {
        "id": "xFHp8biMle3s"
      },
      "source": [
        "As an example, let's pick a sample and display it\n",
        "\n",
        "*   n_way = 8\n",
        "*   n_support = 5\n",
        "*   n_query = 5\n",
        "\n",
        "\n"
      ]
    },
    {
      "cell_type": "code",
      "metadata": {
        "id": "kZ0bQdjHle3u",
        "outputId": "ad530a45-96d7-4277-9057-a82af48d7883",
        "colab": {
          "base_uri": "https://localhost:8080/"
        }
      },
      "source": [
        "sample_example = extract_sample(8, 5, 5, train_data)\n",
        "sample_example.shape"
      ],
      "execution_count": 9,
      "outputs": [
        {
          "output_type": "execute_result",
          "data": {
            "text/plain": [
              "torch.Size([8, 10, 3, 84, 84])"
            ]
          },
          "metadata": {
            "tags": []
          },
          "execution_count": 9
        }
      ]
    },
    {
      "cell_type": "code",
      "metadata": {
        "id": "sjmkM_gLYMv2",
        "outputId": "dceb5157-6404-4e51-c62c-c1d0830c5b00",
        "colab": {
          "base_uri": "https://localhost:8080/"
        }
      },
      "source": [
        "#Just checking how it's gonna be used in forward function\n",
        "sample_ex = sample_example.contiguous().view(8 * 10, *sample_example.size()[2:])\n",
        "sample_ex.shape"
      ],
      "execution_count": 10,
      "outputs": [
        {
          "output_type": "execute_result",
          "data": {
            "text/plain": [
              "torch.Size([80, 3, 84, 84])"
            ]
          },
          "metadata": {
            "tags": []
          },
          "execution_count": 10
        }
      ]
    },
    {
      "cell_type": "code",
      "metadata": {
        "id": "qH1PNY0bDEfi"
      },
      "source": [
        "def display_sample(sample):\n",
        "  \"\"\"\n",
        "  Displays sample in a grid\n",
        "  Args:\n",
        "      sample (torch.Tensor): sample of images to display\n",
        "  \"\"\"\n",
        "  #need 4D tensor to create grid, currently 5D\n",
        "  sample_4D = sample.view(sample.shape[0]*sample.shape[1],*sample.shape[2:])\n",
        "  #make a grid\n",
        "  out = torchvision.utils.make_grid(sample_4D, nrow=sample.shape[1])\n",
        "  plt.figure(figsize = (16,7))\n",
        "  plt.imshow(out.permute(1, 2, 0))"
      ],
      "execution_count": 11,
      "outputs": []
    },
    {
      "cell_type": "code",
      "metadata": {
        "id": "uhTwYsTUDPVS",
        "outputId": "fafb1061-b910-48a3-fd2b-05f7495dc751",
        "colab": {
          "base_uri": "https://localhost:8080/",
          "height": 432
        }
      },
      "source": [
        "display_sample(sample_example)"
      ],
      "execution_count": 12,
      "outputs": [
        {
          "output_type": "display_data",
          "data": {
            "image/png": "[encoded data removed]",
            "text/plain": [
              "<Figure size 1152x504 with 1 Axes>"
            ]
          },
          "metadata": {
            "tags": [],
            "needs_background": "light"
          }
        }
      ]
    },
    {
      "cell_type": "markdown",
      "metadata": {
        "id": "HbakTT_nFubI"
      },
      "source": [
        "##Build model"
      ]
    },
    {
      "cell_type": "markdown",
      "metadata": {
        "id": "_-E6-_vvzXZw"
      },
      "source": [
        ""
      ]
    },
    {
      "cell_type": "code",
      "metadata": {
        "id": "XNE1_gjrxEll"
      },
      "source": [
        "## Encoder\n",
        "class CNNEncoder(nn.Module):\n",
        "    \"\"\"Encoder\"\"\"\n",
        "    def __init__(self):\n",
        "        super(CNNEncoder, self).__init__()\n",
        "        self.layer1 = nn.Sequential(\n",
        "                        nn.Conv2d(3,64,kernel_size=3,padding=1),\n",
        "                        nn.BatchNorm2d(64, momentum=1, affine=True),\n",
        "                        nn.ReLU(),\n",
        "                        nn.MaxPool2d(2))\n",
        "        self.layer2 = nn.Sequential(\n",
        "                        nn.Conv2d(64,64,kernel_size=3,padding=1),\n",
        "                        nn.BatchNorm2d(64, momentum=1, affine=True),\n",
        "                        nn.ReLU(),\n",
        "                        nn.MaxPool2d(2))\n",
        "        self.layer3 = nn.Sequential(\n",
        "                        nn.Conv2d(64,64,kernel_size=3,padding=1),\n",
        "                        nn.BatchNorm2d(64, momentum=1, affine=True),\n",
        "                        nn.ReLU(),\n",
        "                        nn.MaxPool2d(2))\n",
        "        self.layer4 = nn.Sequential(\n",
        "                        nn.Conv2d(64,64,kernel_size=3,padding=1),\n",
        "                        nn.BatchNorm2d(64, momentum=1, affine=True),\n",
        "                        nn.ReLU(),\n",
        "                        nn.MaxPool2d(2))\n",
        "\n",
        "    def forward(self,x):\n",
        "        out = self.layer1(x)    # 84 | 84 | 82 | 41 \n",
        "        out = self.layer2(out)  # 41 | 41 | 39 | 20 \n",
        "        out = self.layer3(out)  # 20 | 21 | 19 | 10\n",
        "        out = self.layer4(out)  # 10 | 11 |  9 | 5\n",
        "        #out = out.view(out.size(0),-1)\n",
        "        return out # 64"
      ],
      "execution_count": 13,
      "outputs": []
    },
    {
      "cell_type": "code",
      "metadata": {
        "id": "7xX-PUsQU-Sb"
      },
      "source": [
        "class RelationNetwork(nn.Module):\n",
        "    '''Decoder: relation part'''\n",
        "    def __init__(self, input_size, hidden_size):\n",
        "        super(RelationNetwork, self).__init__()\n",
        "        self.layer1 = nn.Sequential(\n",
        "                        nn.Conv2d(128,64,kernel_size=3,padding=1),\n",
        "                        nn.BatchNorm2d(64, momentum=1, affine=True),\n",
        "                        nn.ReLU(),\n",
        "                        nn.MaxPool2d(2))\n",
        "        self.layer2 = nn.Sequential(\n",
        "                        nn.Conv2d(64,64,kernel_size=3,padding=1),\n",
        "                        nn.BatchNorm2d(64, momentum=1, affine=True),\n",
        "                        nn.ReLU(),\n",
        "                        nn.MaxPool2d(2))\n",
        "        self.fc1 = nn.Linear(input_size,hidden_size)\n",
        "        self.fc2 = nn.Linear(hidden_size,1)\n",
        "\n",
        "    def forward(self,x):\n",
        "        out = self.layer1(x)\n",
        "        out = self.layer2(out)\n",
        "        out = out.view(out.size(0),-1)\n",
        "        out = F.relu(self.fc1(out))\n",
        "        out = torch.sigmoid(self.fc2(out))\n",
        "        return out"
      ],
      "execution_count": 14,
      "outputs": []
    },
    {
      "cell_type": "code",
      "metadata": {
        "id": "CCapckMkPOtE"
      },
      "source": [
        "def weights_init(m):\n",
        "    classname = m.__class__.__name__\n",
        "    import math\n",
        "    if classname.find('Conv') != -1:\n",
        "        n = m.kernel_size[0] * m.kernel_size[1] * m.out_channels\n",
        "        m.weight.data.normal_(0, math.sqrt(2. / n))\n",
        "        if m.bias is not None:\n",
        "            m.bias.data.zero_()\n",
        "    elif classname.find('BatchNorm') != -1:\n",
        "        m.weight.data.fill_(1)\n",
        "        m.bias.data.zero_()\n",
        "    elif classname.find('Linear') != -1:\n",
        "        n = m.weight.size(1)\n",
        "        m.weight.data.normal_(0, 0.01)\n",
        "        m.bias.data = torch.ones(m.bias.data.size())"
      ],
      "execution_count": 15,
      "outputs": []
    },
    {
      "cell_type": "markdown",
      "metadata": {
        "id": "0Fke38yY6pI9"
      },
      "source": [
        "##Train"
      ]
    },
    {
      "cell_type": "code",
      "metadata": {
        "id": "d_rbfWkOwd8F"
      },
      "source": [
        "from tqdm import tqdm_notebook\n",
        "from tqdm import tnrange\n",
        "\n",
        "def train(feature_encoder,relation_network,\n",
        "          feature_encoder_optim, relation_network_optim,\n",
        "          data,\n",
        "          n_way, n_support, n_query,\n",
        "          episodes=1000, epochs=1):\n",
        "\n",
        "    # Step 1: neural networks\n",
        "    print(\"init neural networks\")\n",
        "\n",
        "    feature_encoder.cuda()\n",
        "    relation_network.cuda()\n",
        "\n",
        "    feature_encoder_scheduler = optim.lr_scheduler.StepLR(feature_encoder_optim,step_size=100000,gamma=0.5)\n",
        "    relation_network_scheduler = optim.lr_scheduler.StepLR(relation_network_optim,step_size=100000,gamma=0.5)\n",
        "\n",
        "    # Step 2: Start Training\n",
        "    print(\"Training...\")\n",
        "\n",
        "    # last_accuracy = 0.0\n",
        "\n",
        "    for epoch in range(1, epochs+1):\n",
        "        running_loss = 0.0\n",
        "        running_acc = 0.0\n",
        "\n",
        "        pbar = tqdm(total=episodes, desc='Epoch {}'.format(epoch))\n",
        "\n",
        "        for episode in range(episodes):\n",
        "\n",
        "            # batch_dataloader is to batch samples for training\n",
        "            sample_images = extract_sample(n_way, n_support, n_query, data)\n",
        "            sample_images = sample_images.cuda()\n",
        "\n",
        "            x_support = sample_images[:, :n_support].contiguous().view(n_way * n_support, *sample_images.size()[2:])\n",
        "            x_query = sample_images[:, n_support:].contiguous().view(n_way * n_query, *sample_images.size()[2:])\n",
        "\n",
        "            #target indices are 0 ... n_way-1\n",
        "            # target_inds = torch.arange(0, n_way).view(n_way, 1, 1).expand(n_way, n_query, 1).long()\n",
        "            # target_inds = Variable(target_inds, requires_grad=False)\n",
        "            # target_inds = target_inds.cuda()\n",
        "\n",
        "            target_inds = torch.arange(0, n_way).view(n_way, 1).expand(n_way, n_query).reshape(n_way*n_query,1).long()\n",
        "            one_hot_labels = Variable(torch.zeros(n_query*n_way, n_way).scatter_(1, target_inds.view(-1,1), 1), requires_grad=False)\n",
        "            one_hot_labels = one_hot_labels.cuda()\n",
        "\n",
        "            # calculate features\n",
        "            support_features = feature_encoder(x_support) # 5x64*5*5\n",
        "            # print(support_features.shape)\n",
        "            support_features = support_features.view(n_way,n_support,feature_dim,5,5)\n",
        "            support_features = torch.sum(support_features,1).squeeze(1)\n",
        "            query_features = feature_encoder(x_query) # 20x64*5*5\n",
        "\n",
        "            # calculate relations\n",
        "            # each query sample link to every support samples to calculate relations\n",
        "            # to form a n_way*n_supportx128 matrix for relation network\n",
        "            support_features_ext = support_features.unsqueeze(0).repeat(n_query*n_way,1,1,1,1)\n",
        "            query_features_ext = query_features.unsqueeze(0).repeat(n_way,1,1,1,1)\n",
        "            query_features_ext = torch.transpose(query_features_ext,0,1)\n",
        "\n",
        "            relation_pairs = torch.cat((support_features_ext,query_features_ext),2).view(-1,feature_dim*2,5,5)\n",
        "            relations = relation_network(relation_pairs).view(-1,n_way)\n",
        "\n",
        "            mse = nn.MSELoss().cuda()\n",
        "            loss = mse(relations,one_hot_labels)\n",
        "\n",
        "            _,predict_labels = torch.max(relations.data,1)\n",
        "            _,target_labels = torch.max(one_hot_labels.data,1) # just some lazy code\n",
        "                      \n",
        "            \n",
        "            rewards = [1 if predict_labels[j]==target_labels[j] else 0 for j in range(n_way*n_support)]\n",
        "            acc = (np.sum(rewards)/(n_way*n_support))\n",
        "\n",
        "            running_acc += acc\n",
        "            running_loss += loss\n",
        "\n",
        "            feature_encoder.zero_grad()\n",
        "            relation_network.zero_grad()\n",
        "\n",
        "            loss.backward()\n",
        "\n",
        "            torch.nn.utils.clip_grad_norm_(feature_encoder.parameters(),0.5)\n",
        "            torch.nn.utils.clip_grad_norm_(relation_network.parameters(),0.5)\n",
        "\n",
        "            feature_encoder_optim.step()\n",
        "            relation_network_optim.step()\n",
        "\n",
        "            feature_encoder_scheduler.step()\n",
        "            relation_network_scheduler.step()\n",
        "\n",
        "            # Progress Bar Logging\n",
        "            pbar.update(1)\n",
        "            pbar.set_postfix({'Loss': loss.item(), \n",
        "                              'Acc': acc.item()})\n",
        "        \n",
        "        pbar.close()\n",
        "        epoch_loss = running_loss / episodes\n",
        "        epoch_acc = running_acc / episodes\n",
        "        # print(f'epoch:{epoch+1}; loss: {epoch_loss.value()}; Accuracy: {epoch_acc.value()}')  \n",
        "        print(f'epoch:{epoch}; loss: {epoch_loss.item()}; Accuracy: {epoch_acc.item()}')  "
      ],
      "execution_count": 16,
      "outputs": []
    },
    {
      "cell_type": "markdown",
      "metadata": {
        "id": "sCG7JLdZV15J"
      },
      "source": [
        "# Start Trainning"
      ]
    },
    {
      "cell_type": "code",
      "metadata": {
        "id": "eQRFRt5-PgCI"
      },
      "source": [
        "episodes = 10000\n",
        "epochs = 6\n",
        "n_way, n_support, n_query = 5, 1, 15"
      ],
      "execution_count": 17,
      "outputs": []
    },
    {
      "cell_type": "code",
      "metadata": {
        "id": "HkMNoUFyU5gH"
      },
      "source": [
        "lr= 0.001\n",
        "\n",
        "## Relationnet stuff\n",
        "feature_dim = 64\n",
        "relation_dim = 8\n",
        "\n",
        "feature_encoder = CNNEncoder()\n",
        "relation_network = RelationNetwork(feature_dim, relation_dim)\n",
        "\n",
        "# feature_encoder.apply(weights_init)\n",
        "# relation_network.apply(weights_init)\n",
        "\n",
        "feature_encoder_optim = torch.optim.Adam(feature_encoder.parameters(),lr=lr)\n",
        "relation_network_optim = torch.optim.Adam(relation_network.parameters(),lr=lr)"
      ],
      "execution_count": 18,
      "outputs": []
    },
    {
      "cell_type": "code",
      "metadata": {
        "id": "EauyeYJbW6hD",
        "outputId": "688b8e54-716e-4093-e179-495f61ba20f1",
        "colab": {
          "base_uri": "https://localhost:8080/",
          "height": 503,
          "referenced_widgets": [
            "11a3b3ba575f44ce945c1b4887ec5736",
            "9128633b67884b65bf9f3ab544a1f285",
            "f033cbb9d69e4b1ea53beb1c7cd67c3b",
            "1836228aab524b7b82c0f57842f3bebb",
            "0fb1729bc86f4b4fa6ecfce1d139d5bb",
            "5ff046160e3e4d0e8762358889d0a649",
            "5a0113bf52f04d419849d2f0fef114e7",
            "b34580420a3f44e088da2b46e556f9b9",
            "45010bb2b5bb48ebab78c1c9343e0908",
            "21e9821e69a34550b805570774f942bb",
            "9eaed97907ec451abb3dcab8cfa8a87d",
            "9f6697fe6da243dcaf1cf2601e2b7dae",
            "e53a0a4540a24bc3870848c37bed0c4b",
            "c3634c9dc705405bbd2badc61e2ce504",
            "155ac199746d4c598e1921137dd750a8",
            "862c622d63bc45c68a976d41d980e836",
            "0eb63330682a404caab4f96a990da740",
            "85b9507a6394477bb9882c18670a37a4",
            "c03034a9ab0843f4a002801c71269aae",
            "19a8be943b9b472084a1625002b70ca0",
            "3e28adacc3f34e9db4fa2a224c41fbe3",
            "27bd83c50e884405a329927a52689fd3",
            "951a10672e2f49fb9478a4c437b98654",
            "1acc387ed3ae40f3a9874ce8d1c5af30",
            "41c7d526cde54101a1a3b1a8a2429147",
            "6254b9aa3fd345879b0b79d457d1a1c1",
            "ff3bfb690075416caa8e9f30d85a97e1",
            "ae23157805e142938d89750084f70438",
            "68249168830b42228a97362349fff05b",
            "3239d7e6471e495a83ceedff48de8293",
            "6c43fa0c1c2c40a4b1bc7007328a8756",
            "3edb549cc3604c048a80d9bf08460d7e",
            "bdb166302eaf4ed0be5d774852b343b2",
            "c325bcf414ff4e6292a0bb5dad2838d6",
            "311bf487548741d29c5b3c16ca121fcc",
            "a376980cb7354917a373437a3ef1e500",
            "2bc7bd8ab72e46fdba1acc191ab4ec6d",
            "29040c98990549ddaa264ee2c6a98a7a",
            "0e2d1f5bd2b34b14aaa916ce8948eda5",
            "7785d2a10a43498b97d8d73944e43bd9",
            "230db2a1b8c74a75adf42c3616cf5450",
            "f30a4146caea49b5be2dc76466935ee4",
            "e46ec75e0186471b83df98d892712bbe",
            "569d44aad78f43f6996adf7bddbf313f",
            "62c2d7fa4ae74a0d8af0a84ae42d4eab",
            "b91a0b45ab844e3c868a2ac280f35821",
            "ff79ae9457174255b99fe7053e9d070c",
            "1105f8e4fbd749069a5ddb353c5e6677"
          ]
        }
      },
      "source": [
        "%%time\n",
        "train(feature_encoder,relation_network,\n",
        "          feature_encoder_optim, relation_network_optim,\n",
        "          train_data,\n",
        "          n_way, n_support, n_query,\n",
        "          episodes=episodes, epochs=epochs)"
      ],
      "execution_count": 19,
      "outputs": [
        {
          "output_type": "stream",
          "text": [
            "init neural networks\n",
            "Training...\n"
          ],
          "name": "stdout"
        },
        {
          "output_type": "display_data",
          "data": {
            "application/vnd.jupyter.widget-view+json": {
              "model_id": "11a3b3ba575f44ce945c1b4887ec5736",
              "version_minor": 0,
              "version_major": 2
            },
            "text/plain": [
              "HBox(children=(FloatProgress(value=0.0, description='Epoch 1', max=10000.0, style=ProgressStyle(description_wi…"
            ]
          },
          "metadata": {
            "tags": []
          }
        },
        {
          "output_type": "stream",
          "text": [
            "\n",
            "epoch:1; loss: 0.13653700053691864; Accuracy: 0.4441800000000016\n"
          ],
          "name": "stdout"
        },
        {
          "output_type": "display_data",
          "data": {
            "application/vnd.jupyter.widget-view+json": {
              "model_id": "45010bb2b5bb48ebab78c1c9343e0908",
              "version_minor": 0,
              "version_major": 2
            },
            "text/plain": [
              "HBox(children=(FloatProgress(value=0.0, description='Epoch 2', max=10000.0, style=ProgressStyle(description_wi…"
            ]
          },
          "metadata": {
            "tags": []
          }
        },
        {
          "output_type": "stream",
          "text": [
            "\n",
            "epoch:2; loss: 0.1156073585152626; Accuracy: 0.5699800000000123\n"
          ],
          "name": "stdout"
        },
        {
          "output_type": "display_data",
          "data": {
            "application/vnd.jupyter.widget-view+json": {
              "model_id": "0eb63330682a404caab4f96a990da740",
              "version_minor": 0,
              "version_major": 2
            },
            "text/plain": [
              "HBox(children=(FloatProgress(value=0.0, description='Epoch 3', max=10000.0, style=ProgressStyle(description_wi…"
            ]
          },
          "metadata": {
            "tags": []
          }
        },
        {
          "output_type": "stream",
          "text": [
            "\n",
            "epoch:3; loss: 0.10323052853345871; Accuracy: 0.629020000000018\n"
          ],
          "name": "stdout"
        },
        {
          "output_type": "display_data",
          "data": {
            "application/vnd.jupyter.widget-view+json": {
              "model_id": "41c7d526cde54101a1a3b1a8a2429147",
              "version_minor": 0,
              "version_major": 2
            },
            "text/plain": [
              "HBox(children=(FloatProgress(value=0.0, description='Epoch 4', max=10000.0, style=ProgressStyle(description_wi…"
            ]
          },
          "metadata": {
            "tags": []
          }
        },
        {
          "output_type": "stream",
          "text": [
            "\n",
            "epoch:4; loss: 0.09488284587860107; Accuracy: 0.6676400000000231\n"
          ],
          "name": "stdout"
        },
        {
          "output_type": "display_data",
          "data": {
            "application/vnd.jupyter.widget-view+json": {
              "model_id": "bdb166302eaf4ed0be5d774852b343b2",
              "version_minor": 0,
              "version_major": 2
            },
            "text/plain": [
              "HBox(children=(FloatProgress(value=0.0, description='Epoch 5', max=10000.0, style=ProgressStyle(description_wi…"
            ]
          },
          "metadata": {
            "tags": []
          }
        },
        {
          "output_type": "stream",
          "text": [
            "\n",
            "epoch:5; loss: 0.08846105635166168; Accuracy: 0.6997800000000238\n"
          ],
          "name": "stdout"
        },
        {
          "output_type": "display_data",
          "data": {
            "application/vnd.jupyter.widget-view+json": {
              "model_id": "230db2a1b8c74a75adf42c3616cf5450",
              "version_minor": 0,
              "version_major": 2
            },
            "text/plain": [
              "HBox(children=(FloatProgress(value=0.0, description='Epoch 6', max=10000.0, style=ProgressStyle(description_wi…"
            ]
          },
          "metadata": {
            "tags": []
          }
        },
        {
          "output_type": "stream",
          "text": [
            "\n",
            "epoch:6; loss: 0.0823652520775795; Accuracy: 0.7209800000000247\n",
            "CPU times: user 1h 1min 59s, sys: 35min 38s, total: 1h 37min 37s\n",
            "Wall time: 1h 37min 23s\n"
          ],
          "name": "stdout"
        }
      ]
    },
    {
      "cell_type": "code",
      "metadata": {
        "id": "cvdXXTSFoZYw"
      },
      "source": [
        "torch.save({'feature_encoder': feature_encoder.state_dict(),\n",
        "            'relation_network': relation_network.state_dict()}, \"Model_para.pth\")"
      ],
      "execution_count": 20,
      "outputs": []
    },
    {
      "cell_type": "markdown",
      "metadata": {
        "id": "pJu50gOb8WxU"
      },
      "source": [
        "##Test"
      ]
    },
    {
      "cell_type": "code",
      "metadata": {
        "id": "qCgoOcCaERHH"
      },
      "source": [
        "from tqdm import tqdm_notebook\n",
        "from tqdm import tnrange\n",
        "\n",
        "def test(feature_encoder,relation_network,\n",
        "          feature_encoder_optim, relation_network_optim,\n",
        "          data,\n",
        "          n_way, n_support, n_query,\n",
        "          episodes=1000, epochs=1):\n",
        "\n",
        "    # Step 1: neural networks\n",
        "    print(\"init neural networks\")\n",
        "\n",
        "    feature_encoder.cuda()\n",
        "    relation_network.cuda()\n",
        "    \n",
        "    # Step 2: Start Testing\n",
        "    print(\"Testing...\")\n",
        "\n",
        "    # last_accuracy = 0.0\n",
        "\n",
        "    for epoch in range(1, epochs+1):\n",
        "        running_loss = 0.0\n",
        "        running_acc = 0.0\n",
        "\n",
        "        pbar = tqdm(total=episodes, desc='Epoch {}'.format(epoch))\n",
        "        with torch.no_grad():\n",
        "\n",
        "            for episode in range(episodes):\n",
        "\n",
        "                # batch_dataloader is to batch samples for training\n",
        "                sample_images = extract_sample(n_way, n_support, n_query, data)\n",
        "                sample_images = sample_images.cuda()\n",
        "\n",
        "                x_support = sample_images[:, :n_support].contiguous().view(n_way * n_support, *sample_images.size()[2:])\n",
        "                x_query = sample_images[:, n_support:].contiguous().view(n_way * n_query, *sample_images.size()[2:])\n",
        "\n",
        "                target_inds = torch.arange(0, n_way).view(n_way, 1).expand(n_way, n_query).reshape(n_way*n_query,1).long()\n",
        "                one_hot_labels = Variable(torch.zeros(n_query*n_way, n_way).scatter_(1, target_inds.view(-1,1), 1), requires_grad=False)\n",
        "                one_hot_labels = one_hot_labels.cuda()\n",
        "\n",
        "                # calculate features\n",
        "                support_features = feature_encoder(x_support) # 5x64*5*5\n",
        "                support_features = support_features.view(n_way,n_support,feature_dim,5,5)\n",
        "                support_features = torch.sum(support_features,1).squeeze(1)\n",
        "                query_features = feature_encoder(x_query) # 20x64*5*5\n",
        "\n",
        "                # calculate relations\n",
        "\n",
        "                support_features_ext = support_features.unsqueeze(0).repeat(n_query*n_way,1,1,1,1)\n",
        "                query_features_ext = query_features.unsqueeze(0).repeat(n_way,1,1,1,1)\n",
        "                query_features_ext = torch.transpose(query_features_ext,0,1)\n",
        "\n",
        "                relation_pairs = torch.cat((support_features_ext,query_features_ext),2).view(-1,feature_dim*2,5,5)\n",
        "                relations = relation_network(relation_pairs).view(-1,n_way)\n",
        "\n",
        "                mse = nn.MSELoss().cuda()\n",
        "                loss = mse(relations,one_hot_labels)\n",
        "\n",
        "                _,predict_labels = torch.max(relations.data,1)\n",
        "                _,target_labels = torch.max(one_hot_labels.data,1) # lazy coding\n",
        "                          \n",
        "                \n",
        "                rewards = [1 if predict_labels[j]==target_labels[j] else 0 for j in range(n_way*n_support)]\n",
        "                acc = (np.sum(rewards)/(n_way*n_support))\n",
        "\n",
        "                running_acc += acc\n",
        "                running_loss += loss\n",
        "\n",
        "                # Progress Bar Logging\n",
        "                pbar.update(1)\n",
        "                pbar.set_postfix({'Loss': loss.item(), \n",
        "                                  'Acc': acc.item()})\n",
        "            \n",
        "            pbar.close()\n",
        "            epoch_loss = running_loss / episodes\n",
        "            epoch_acc = running_acc / episodes\n",
        "            # print(f'epoch:{epoch+1}; loss: {epoch_loss.value()}; Accuracy: {epoch_acc.value()}')  \n",
        "            print(f'epoch:{epoch}; loss: {epoch_loss.item()}; Accuracy: {epoch_acc.item()}')  "
      ],
      "execution_count": 21,
      "outputs": []
    },
    {
      "cell_type": "code",
      "metadata": {
        "id": "yvyja6x3I6JB"
      },
      "source": [
        "n_way = 5\n",
        "n_support = 1\n",
        "n_query = 15\n",
        "\n",
        "test_episode = 10000"
      ],
      "execution_count": 22,
      "outputs": []
    },
    {
      "cell_type": "code",
      "metadata": {
        "id": "oshUfgAeqdS-",
        "outputId": "5a0ec0d0-602b-4f82-eaba-07d8c3c1b759",
        "colab": {
          "base_uri": "https://localhost:8080/",
          "height": 67,
          "referenced_widgets": [
            "1ce8869a065342168abbc2a4f6bbe2f6",
            "ffd67ee4f5f44371a0a032dfc777f040",
            "37702812679e473c924325842c3cd71f",
            "76bd68aad5cd45289d7826134a70db5c",
            "eb8343ffd0ae4f95a46a1f94ca2ff55b",
            "40b22e31de154a088da7efd93921ede3",
            "e95f8e981dc54c26b077d4e77d9f36a7",
            "14c10e16265c48bca3838cc3b4a360fb"
          ]
        }
      },
      "source": [
        "# %%time\n",
        "test_data = load_data(val_path)"
      ],
      "execution_count": 23,
      "outputs": [
        {
          "output_type": "display_data",
          "data": {
            "application/vnd.jupyter.widget-view+json": {
              "model_id": "1ce8869a065342168abbc2a4f6bbe2f6",
              "version_minor": 0,
              "version_major": 2
            },
            "text/plain": [
              "HBox(children=(FloatProgress(value=0.0, max=16.0), HTML(value='')))"
            ]
          },
          "metadata": {
            "tags": []
          }
        },
        {
          "output_type": "stream",
          "text": [
            "\n"
          ],
          "name": "stdout"
        }
      ]
    },
    {
      "cell_type": "code",
      "metadata": {
        "id": "mvIEOUeUje7G"
      },
      "source": [
        "# # Load Checkpoint\n",
        "checkpoint = torch.load('/content/Model_para.pth')\n",
        "feature_encoder = CNNEncoder()\n",
        "relation_network = RelationNetwork(feature_dim,relation_dim)\n",
        "feature_encoder.load_state_dict(checkpoint['feature_encoder'])\n",
        "relation_network.load_state_dict(checkpoint['relation_network'])\n",
        "\n",
        "\n",
        "feature_encoder_optim = torch.optim.Adam(feature_encoder.parameters(),lr=lr)\n",
        "relation_network_optim = torch.optim.Adam(relation_network.parameters(),lr=lr)\n",
        "\n",
        "feature_encoder_scheduler = optim.lr_scheduler.StepLR(feature_encoder_optim,step_size=100000,gamma=0.5)\n",
        "relation_network_scheduler = optim.lr_scheduler.StepLR(relation_network_optim,step_size=100000,gamma=0.5)\n"
      ],
      "execution_count": 24,
      "outputs": []
    },
    {
      "cell_type": "code",
      "metadata": {
        "id": "SUcv4efbiuYv",
        "outputId": "d951db94-217a-4eb3-be6c-edd2d3450661",
        "colab": {
          "base_uri": "https://localhost:8080/",
          "height": 122,
          "referenced_widgets": [
            "4e5bab80a1004b3aa8d57d1c349090f9",
            "278b26f4cb174b15977f7aa311f4f1ce",
            "2f82511fbc184771bb0efe399690ba70",
            "386cf3dbac044398a4650a8b4115ee7f",
            "ba6eda0fe528425f9c692b25768aa054",
            "cb312bce8a754dc49e73ba197c75fdb0",
            "6712666477864d09954641eec7b2d5e6",
            "cfcd2db5ffd7479484f9f0b7bd668e1a"
          ]
        }
      },
      "source": [
        "%%time\n",
        "test(feature_encoder,relation_network,\n",
        "     feature_encoder_optim, relation_network_optim,\n",
        "     test_data,\n",
        "     n_way, n_support, n_query,\n",
        "     episodes=test_episode)"
      ],
      "execution_count": 25,
      "outputs": [
        {
          "output_type": "stream",
          "text": [
            "init neural networks\n",
            "Testing...\n"
          ],
          "name": "stdout"
        },
        {
          "output_type": "display_data",
          "data": {
            "application/vnd.jupyter.widget-view+json": {
              "model_id": "4e5bab80a1004b3aa8d57d1c349090f9",
              "version_minor": 0,
              "version_major": 2
            },
            "text/plain": [
              "HBox(children=(FloatProgress(value=0.0, description='Epoch 1', max=10000.0, style=ProgressStyle(description_wi…"
            ]
          },
          "metadata": {
            "tags": []
          }
        },
        {
          "output_type": "stream",
          "text": [
            "\n",
            "epoch:1; loss: 0.13606418669223785; Accuracy: 0.4879800000000023\n"
          ],
          "name": "stdout"
        }
      ]
    },
    {
      "cell_type": "code",
      "metadata": {
        "id": "5HmPE7XXtT7q"
      },
      "source": [
        ""
      ],
      "execution_count": 25,
      "outputs": []
    }
  ]
}