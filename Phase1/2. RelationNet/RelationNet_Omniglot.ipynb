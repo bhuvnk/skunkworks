{
  "nbformat": 4,
  "nbformat_minor": 0,
  "metadata": {
    "accelerator": "GPU",
    "colab": {
      "name": "RelationNet_Omniglot_v1.ipynb",
      "provenance": [],
      "collapsed_sections": [],
      "toc_visible": true,
      "include_colab_link": true
    },
    "kernelspec": {
      "display_name": "Python 3",
      "name": "python3"
    },
    "widgets": {
      "application/vnd.jupyter.widget-state+json": {
        "4f04403e28864eb3973161e87647225b": {
          "model_module": "@jupyter-widgets/controls",
          "model_name": "HBoxModel",
          "state": {
            "_view_name": "HBoxView",
            "_dom_classes": [],
            "_model_name": "HBoxModel",
            "_view_module": "@jupyter-widgets/controls",
            "_model_module_version": "1.5.0",
            "_view_count": null,
            "_view_module_version": "1.5.0",
            "box_style": "",
            "layout": "IPY_MODEL_71b377b5aa764b7abc65fab2f7965b98",
            "_model_module": "@jupyter-widgets/controls",
            "children": [
              "IPY_MODEL_42573381f4404ac7847b0973ca3ae923",
              "IPY_MODEL_7966c4fc5b3e4af38d1ede3525d6ff1d"
            ]
          }
        },
        "71b377b5aa764b7abc65fab2f7965b98": {
          "model_module": "@jupyter-widgets/base",
          "model_name": "LayoutModel",
          "state": {
            "_view_name": "LayoutView",
            "grid_template_rows": null,
            "right": null,
            "justify_content": null,
            "_view_module": "@jupyter-widgets/base",
            "overflow": null,
            "_model_module_version": "1.2.0",
            "_view_count": null,
            "flex_flow": null,
            "width": null,
            "min_width": null,
            "border": null,
            "align_items": null,
            "bottom": null,
            "_model_module": "@jupyter-widgets/base",
            "top": null,
            "grid_column": null,
            "overflow_y": null,
            "overflow_x": null,
            "grid_auto_flow": null,
            "grid_area": null,
            "grid_template_columns": null,
            "flex": null,
            "_model_name": "LayoutModel",
            "justify_items": null,
            "grid_row": null,
            "max_height": null,
            "align_content": null,
            "visibility": null,
            "align_self": null,
            "height": null,
            "min_height": null,
            "padding": null,
            "grid_auto_rows": null,
            "grid_gap": null,
            "max_width": null,
            "order": null,
            "_view_module_version": "1.2.0",
            "grid_template_areas": null,
            "object_position": null,
            "object_fit": null,
            "grid_auto_columns": null,
            "margin": null,
            "display": null,
            "left": null
          }
        },
        "42573381f4404ac7847b0973ca3ae923": {
          "model_module": "@jupyter-widgets/controls",
          "model_name": "FloatProgressModel",
          "state": {
            "_view_name": "ProgressView",
            "style": "IPY_MODEL_74536bb8d13b4744b59744b0f4a65e73",
            "_dom_classes": [],
            "description": "100%",
            "_model_name": "FloatProgressModel",
            "bar_style": "success",
            "max": 30,
            "_view_module": "@jupyter-widgets/controls",
            "_model_module_version": "1.5.0",
            "value": 30,
            "_view_count": null,
            "_view_module_version": "1.5.0",
            "orientation": "horizontal",
            "min": 0,
            "description_tooltip": null,
            "_model_module": "@jupyter-widgets/controls",
            "layout": "IPY_MODEL_8d8afd0511394436a78810508a9bb423"
          }
        },
        "7966c4fc5b3e4af38d1ede3525d6ff1d": {
          "model_module": "@jupyter-widgets/controls",
          "model_name": "HTMLModel",
          "state": {
            "_view_name": "HTMLView",
            "style": "IPY_MODEL_35feacda07ab491abd708a5b6643d7cf",
            "_dom_classes": [],
            "description": "",
            "_model_name": "HTMLModel",
            "placeholder": "​",
            "_view_module": "@jupyter-widgets/controls",
            "_model_module_version": "1.5.0",
            "value": " 30/30 [00:33&lt;00:00,  1.11s/it]",
            "_view_count": null,
            "_view_module_version": "1.5.0",
            "description_tooltip": null,
            "_model_module": "@jupyter-widgets/controls",
            "layout": "IPY_MODEL_78edae23e2f84619b78c3b7882b61ed6"
          }
        },
        "74536bb8d13b4744b59744b0f4a65e73": {
          "model_module": "@jupyter-widgets/controls",
          "model_name": "ProgressStyleModel",
          "state": {
            "_view_name": "StyleView",
            "_model_name": "ProgressStyleModel",
            "description_width": "initial",
            "_view_module": "@jupyter-widgets/base",
            "_model_module_version": "1.5.0",
            "_view_count": null,
            "_view_module_version": "1.2.0",
            "bar_color": null,
            "_model_module": "@jupyter-widgets/controls"
          }
        },
        "8d8afd0511394436a78810508a9bb423": {
          "model_module": "@jupyter-widgets/base",
          "model_name": "LayoutModel",
          "state": {
            "_view_name": "LayoutView",
            "grid_template_rows": null,
            "right": null,
            "justify_content": null,
            "_view_module": "@jupyter-widgets/base",
            "overflow": null,
            "_model_module_version": "1.2.0",
            "_view_count": null,
            "flex_flow": null,
            "width": null,
            "min_width": null,
            "border": null,
            "align_items": null,
            "bottom": null,
            "_model_module": "@jupyter-widgets/base",
            "top": null,
            "grid_column": null,
            "overflow_y": null,
            "overflow_x": null,
            "grid_auto_flow": null,
            "grid_area": null,
            "grid_template_columns": null,
            "flex": null,
            "_model_name": "LayoutModel",
            "justify_items": null,
            "grid_row": null,
            "max_height": null,
            "align_content": null,
            "visibility": null,
            "align_self": null,
            "height": null,
            "min_height": null,
            "padding": null,
            "grid_auto_rows": null,
            "grid_gap": null,
            "max_width": null,
            "order": null,
            "_view_module_version": "1.2.0",
            "grid_template_areas": null,
            "object_position": null,
            "object_fit": null,
            "grid_auto_columns": null,
            "margin": null,
            "display": null,
            "left": null
          }
        },
        "35feacda07ab491abd708a5b6643d7cf": {
          "model_module": "@jupyter-widgets/controls",
          "model_name": "DescriptionStyleModel",
          "state": {
            "_view_name": "StyleView",
            "_model_name": "DescriptionStyleModel",
            "description_width": "",
            "_view_module": "@jupyter-widgets/base",
            "_model_module_version": "1.5.0",
            "_view_count": null,
            "_view_module_version": "1.2.0",
            "_model_module": "@jupyter-widgets/controls"
          }
        },
        "78edae23e2f84619b78c3b7882b61ed6": {
          "model_module": "@jupyter-widgets/base",
          "model_name": "LayoutModel",
          "state": {
            "_view_name": "LayoutView",
            "grid_template_rows": null,
            "right": null,
            "justify_content": null,
            "_view_module": "@jupyter-widgets/base",
            "overflow": null,
            "_model_module_version": "1.2.0",
            "_view_count": null,
            "flex_flow": null,
            "width": null,
            "min_width": null,
            "border": null,
            "align_items": null,
            "bottom": null,
            "_model_module": "@jupyter-widgets/base",
            "top": null,
            "grid_column": null,
            "overflow_y": null,
            "overflow_x": null,
            "grid_auto_flow": null,
            "grid_area": null,
            "grid_template_columns": null,
            "flex": null,
            "_model_name": "LayoutModel",
            "justify_items": null,
            "grid_row": null,
            "max_height": null,
            "align_content": null,
            "visibility": null,
            "align_self": null,
            "height": null,
            "min_height": null,
            "padding": null,
            "grid_auto_rows": null,
            "grid_gap": null,
            "max_width": null,
            "order": null,
            "_view_module_version": "1.2.0",
            "grid_template_areas": null,
            "object_position": null,
            "object_fit": null,
            "grid_auto_columns": null,
            "margin": null,
            "display": null,
            "left": null
          }
        },
        "79ca772ff89e41e9850642b888c0c349": {
          "model_module": "@jupyter-widgets/controls",
          "model_name": "HBoxModel",
          "state": {
            "_view_name": "HBoxView",
            "_dom_classes": [],
            "_model_name": "HBoxModel",
            "_view_module": "@jupyter-widgets/controls",
            "_model_module_version": "1.5.0",
            "_view_count": null,
            "_view_module_version": "1.5.0",
            "box_style": "",
            "layout": "IPY_MODEL_65dccf92fdc84161af217cf0ec9b612d",
            "_model_module": "@jupyter-widgets/controls",
            "children": [
              "IPY_MODEL_dd700fa5c1fa4bca9026dfd34d25006a",
              "IPY_MODEL_c0c8bcbfa21240f19687b4ca9191d334"
            ]
          }
        },
        "65dccf92fdc84161af217cf0ec9b612d": {
          "model_module": "@jupyter-widgets/base",
          "model_name": "LayoutModel",
          "state": {
            "_view_name": "LayoutView",
            "grid_template_rows": null,
            "right": null,
            "justify_content": null,
            "_view_module": "@jupyter-widgets/base",
            "overflow": null,
            "_model_module_version": "1.2.0",
            "_view_count": null,
            "flex_flow": null,
            "width": null,
            "min_width": null,
            "border": null,
            "align_items": null,
            "bottom": null,
            "_model_module": "@jupyter-widgets/base",
            "top": null,
            "grid_column": null,
            "overflow_y": null,
            "overflow_x": null,
            "grid_auto_flow": null,
            "grid_area": null,
            "grid_template_columns": null,
            "flex": null,
            "_model_name": "LayoutModel",
            "justify_items": null,
            "grid_row": null,
            "max_height": null,
            "align_content": null,
            "visibility": null,
            "align_self": null,
            "height": null,
            "min_height": null,
            "padding": null,
            "grid_auto_rows": null,
            "grid_gap": null,
            "max_width": null,
            "order": null,
            "_view_module_version": "1.2.0",
            "grid_template_areas": null,
            "object_position": null,
            "object_fit": null,
            "grid_auto_columns": null,
            "margin": null,
            "display": null,
            "left": null
          }
        },
        "dd700fa5c1fa4bca9026dfd34d25006a": {
          "model_module": "@jupyter-widgets/controls",
          "model_name": "FloatProgressModel",
          "state": {
            "_view_name": "ProgressView",
            "style": "IPY_MODEL_6e28f348a40143728bdd92ef7869695a",
            "_dom_classes": [],
            "description": "Epoch 1: 100%",
            "_model_name": "FloatProgressModel",
            "bar_style": "success",
            "max": 10000,
            "_view_module": "@jupyter-widgets/controls",
            "_model_module_version": "1.5.0",
            "value": 10000,
            "_view_count": null,
            "_view_module_version": "1.5.0",
            "orientation": "horizontal",
            "min": 0,
            "description_tooltip": null,
            "_model_module": "@jupyter-widgets/controls",
            "layout": "IPY_MODEL_6d4354e5583a49df9b0043890e55a3be"
          }
        },
        "c0c8bcbfa21240f19687b4ca9191d334": {
          "model_module": "@jupyter-widgets/controls",
          "model_name": "HTMLModel",
          "state": {
            "_view_name": "HTMLView",
            "style": "IPY_MODEL_9e7ad9dbcac64f92a0b476bc7f4bd760",
            "_dom_classes": [],
            "description": "",
            "_model_name": "HTMLModel",
            "placeholder": "​",
            "_view_module": "@jupyter-widgets/controls",
            "_model_module_version": "1.5.0",
            "value": " 10000/10000 [10:44&lt;00:00, 15.52it/s, Loss=0.000605, Acc=1]",
            "_view_count": null,
            "_view_module_version": "1.5.0",
            "description_tooltip": null,
            "_model_module": "@jupyter-widgets/controls",
            "layout": "IPY_MODEL_d286c3f855ca4b3e895c3e1e4c942a8d"
          }
        },
        "6e28f348a40143728bdd92ef7869695a": {
          "model_module": "@jupyter-widgets/controls",
          "model_name": "ProgressStyleModel",
          "state": {
            "_view_name": "StyleView",
            "_model_name": "ProgressStyleModel",
            "description_width": "initial",
            "_view_module": "@jupyter-widgets/base",
            "_model_module_version": "1.5.0",
            "_view_count": null,
            "_view_module_version": "1.2.0",
            "bar_color": null,
            "_model_module": "@jupyter-widgets/controls"
          }
        },
        "6d4354e5583a49df9b0043890e55a3be": {
          "model_module": "@jupyter-widgets/base",
          "model_name": "LayoutModel",
          "state": {
            "_view_name": "LayoutView",
            "grid_template_rows": null,
            "right": null,
            "justify_content": null,
            "_view_module": "@jupyter-widgets/base",
            "overflow": null,
            "_model_module_version": "1.2.0",
            "_view_count": null,
            "flex_flow": null,
            "width": null,
            "min_width": null,
            "border": null,
            "align_items": null,
            "bottom": null,
            "_model_module": "@jupyter-widgets/base",
            "top": null,
            "grid_column": null,
            "overflow_y": null,
            "overflow_x": null,
            "grid_auto_flow": null,
            "grid_area": null,
            "grid_template_columns": null,
            "flex": null,
            "_model_name": "LayoutModel",
            "justify_items": null,
            "grid_row": null,
            "max_height": null,
            "align_content": null,
            "visibility": null,
            "align_self": null,
            "height": null,
            "min_height": null,
            "padding": null,
            "grid_auto_rows": null,
            "grid_gap": null,
            "max_width": null,
            "order": null,
            "_view_module_version": "1.2.0",
            "grid_template_areas": null,
            "object_position": null,
            "object_fit": null,
            "grid_auto_columns": null,
            "margin": null,
            "display": null,
            "left": null
          }
        },
        "9e7ad9dbcac64f92a0b476bc7f4bd760": {
          "model_module": "@jupyter-widgets/controls",
          "model_name": "DescriptionStyleModel",
          "state": {
            "_view_name": "StyleView",
            "_model_name": "DescriptionStyleModel",
            "description_width": "",
            "_view_module": "@jupyter-widgets/base",
            "_model_module_version": "1.5.0",
            "_view_count": null,
            "_view_module_version": "1.2.0",
            "_model_module": "@jupyter-widgets/controls"
          }
        },
        "d286c3f855ca4b3e895c3e1e4c942a8d": {
          "model_module": "@jupyter-widgets/base",
          "model_name": "LayoutModel",
          "state": {
            "_view_name": "LayoutView",
            "grid_template_rows": null,
            "right": null,
            "justify_content": null,
            "_view_module": "@jupyter-widgets/base",
            "overflow": null,
            "_model_module_version": "1.2.0",
            "_view_count": null,
            "flex_flow": null,
            "width": null,
            "min_width": null,
            "border": null,
            "align_items": null,
            "bottom": null,
            "_model_module": "@jupyter-widgets/base",
            "top": null,
            "grid_column": null,
            "overflow_y": null,
            "overflow_x": null,
            "grid_auto_flow": null,
            "grid_area": null,
            "grid_template_columns": null,
            "flex": null,
            "_model_name": "LayoutModel",
            "justify_items": null,
            "grid_row": null,
            "max_height": null,
            "align_content": null,
            "visibility": null,
            "align_self": null,
            "height": null,
            "min_height": null,
            "padding": null,
            "grid_auto_rows": null,
            "grid_gap": null,
            "max_width": null,
            "order": null,
            "_view_module_version": "1.2.0",
            "grid_template_areas": null,
            "object_position": null,
            "object_fit": null,
            "grid_auto_columns": null,
            "margin": null,
            "display": null,
            "left": null
          }
        },
        "ac5eeefe4a244276844bb57bf4f9e318": {
          "model_module": "@jupyter-widgets/controls",
          "model_name": "HBoxModel",
          "state": {
            "_view_name": "HBoxView",
            "_dom_classes": [],
            "_model_name": "HBoxModel",
            "_view_module": "@jupyter-widgets/controls",
            "_model_module_version": "1.5.0",
            "_view_count": null,
            "_view_module_version": "1.5.0",
            "box_style": "",
            "layout": "IPY_MODEL_77ea7208ca034e708d3324dd7898208d",
            "_model_module": "@jupyter-widgets/controls",
            "children": [
              "IPY_MODEL_f53bef128fc849278a7dfd1e1c33113d",
              "IPY_MODEL_750a9eb4cde544f2919eb44b8f7fe96f"
            ]
          }
        },
        "77ea7208ca034e708d3324dd7898208d": {
          "model_module": "@jupyter-widgets/base",
          "model_name": "LayoutModel",
          "state": {
            "_view_name": "LayoutView",
            "grid_template_rows": null,
            "right": null,
            "justify_content": null,
            "_view_module": "@jupyter-widgets/base",
            "overflow": null,
            "_model_module_version": "1.2.0",
            "_view_count": null,
            "flex_flow": null,
            "width": null,
            "min_width": null,
            "border": null,
            "align_items": null,
            "bottom": null,
            "_model_module": "@jupyter-widgets/base",
            "top": null,
            "grid_column": null,
            "overflow_y": null,
            "overflow_x": null,
            "grid_auto_flow": null,
            "grid_area": null,
            "grid_template_columns": null,
            "flex": null,
            "_model_name": "LayoutModel",
            "justify_items": null,
            "grid_row": null,
            "max_height": null,
            "align_content": null,
            "visibility": null,
            "align_self": null,
            "height": null,
            "min_height": null,
            "padding": null,
            "grid_auto_rows": null,
            "grid_gap": null,
            "max_width": null,
            "order": null,
            "_view_module_version": "1.2.0",
            "grid_template_areas": null,
            "object_position": null,
            "object_fit": null,
            "grid_auto_columns": null,
            "margin": null,
            "display": null,
            "left": null
          }
        },
        "f53bef128fc849278a7dfd1e1c33113d": {
          "model_module": "@jupyter-widgets/controls",
          "model_name": "FloatProgressModel",
          "state": {
            "_view_name": "ProgressView",
            "style": "IPY_MODEL_c32e8f75b45545d38396d908d5b086e3",
            "_dom_classes": [],
            "description": "Epoch 2: 100%",
            "_model_name": "FloatProgressModel",
            "bar_style": "success",
            "max": 10000,
            "_view_module": "@jupyter-widgets/controls",
            "_model_module_version": "1.5.0",
            "value": 10000,
            "_view_count": null,
            "_view_module_version": "1.5.0",
            "orientation": "horizontal",
            "min": 0,
            "description_tooltip": null,
            "_model_module": "@jupyter-widgets/controls",
            "layout": "IPY_MODEL_530a845dfd5945caa1f6b93ae760b44f"
          }
        },
        "750a9eb4cde544f2919eb44b8f7fe96f": {
          "model_module": "@jupyter-widgets/controls",
          "model_name": "HTMLModel",
          "state": {
            "_view_name": "HTMLView",
            "style": "IPY_MODEL_c3a5e330edf24992aaaa2228fc46b5d3",
            "_dom_classes": [],
            "description": "",
            "_model_name": "HTMLModel",
            "placeholder": "​",
            "_view_module": "@jupyter-widgets/controls",
            "_model_module_version": "1.5.0",
            "value": " 10000/10000 [10:55&lt;00:00, 15.25it/s, Loss=5.57e-5, Acc=1]",
            "_view_count": null,
            "_view_module_version": "1.5.0",
            "description_tooltip": null,
            "_model_module": "@jupyter-widgets/controls",
            "layout": "IPY_MODEL_1ca1b3b95b8746daaa8a8e03770ccc71"
          }
        },
        "c32e8f75b45545d38396d908d5b086e3": {
          "model_module": "@jupyter-widgets/controls",
          "model_name": "ProgressStyleModel",
          "state": {
            "_view_name": "StyleView",
            "_model_name": "ProgressStyleModel",
            "description_width": "initial",
            "_view_module": "@jupyter-widgets/base",
            "_model_module_version": "1.5.0",
            "_view_count": null,
            "_view_module_version": "1.2.0",
            "bar_color": null,
            "_model_module": "@jupyter-widgets/controls"
          }
        },
        "530a845dfd5945caa1f6b93ae760b44f": {
          "model_module": "@jupyter-widgets/base",
          "model_name": "LayoutModel",
          "state": {
            "_view_name": "LayoutView",
            "grid_template_rows": null,
            "right": null,
            "justify_content": null,
            "_view_module": "@jupyter-widgets/base",
            "overflow": null,
            "_model_module_version": "1.2.0",
            "_view_count": null,
            "flex_flow": null,
            "width": null,
            "min_width": null,
            "border": null,
            "align_items": null,
            "bottom": null,
            "_model_module": "@jupyter-widgets/base",
            "top": null,
            "grid_column": null,
            "overflow_y": null,
            "overflow_x": null,
            "grid_auto_flow": null,
            "grid_area": null,
            "grid_template_columns": null,
            "flex": null,
            "_model_name": "LayoutModel",
            "justify_items": null,
            "grid_row": null,
            "max_height": null,
            "align_content": null,
            "visibility": null,
            "align_self": null,
            "height": null,
            "min_height": null,
            "padding": null,
            "grid_auto_rows": null,
            "grid_gap": null,
            "max_width": null,
            "order": null,
            "_view_module_version": "1.2.0",
            "grid_template_areas": null,
            "object_position": null,
            "object_fit": null,
            "grid_auto_columns": null,
            "margin": null,
            "display": null,
            "left": null
          }
        },
        "c3a5e330edf24992aaaa2228fc46b5d3": {
          "model_module": "@jupyter-widgets/controls",
          "model_name": "DescriptionStyleModel",
          "state": {
            "_view_name": "StyleView",
            "_model_name": "DescriptionStyleModel",
            "description_width": "",
            "_view_module": "@jupyter-widgets/base",
            "_model_module_version": "1.5.0",
            "_view_count": null,
            "_view_module_version": "1.2.0",
            "_model_module": "@jupyter-widgets/controls"
          }
        },
        "1ca1b3b95b8746daaa8a8e03770ccc71": {
          "model_module": "@jupyter-widgets/base",
          "model_name": "LayoutModel",
          "state": {
            "_view_name": "LayoutView",
            "grid_template_rows": null,
            "right": null,
            "justify_content": null,
            "_view_module": "@jupyter-widgets/base",
            "overflow": null,
            "_model_module_version": "1.2.0",
            "_view_count": null,
            "flex_flow": null,
            "width": null,
            "min_width": null,
            "border": null,
            "align_items": null,
            "bottom": null,
            "_model_module": "@jupyter-widgets/base",
            "top": null,
            "grid_column": null,
            "overflow_y": null,
            "overflow_x": null,
            "grid_auto_flow": null,
            "grid_area": null,
            "grid_template_columns": null,
            "flex": null,
            "_model_name": "LayoutModel",
            "justify_items": null,
            "grid_row": null,
            "max_height": null,
            "align_content": null,
            "visibility": null,
            "align_self": null,
            "height": null,
            "min_height": null,
            "padding": null,
            "grid_auto_rows": null,
            "grid_gap": null,
            "max_width": null,
            "order": null,
            "_view_module_version": "1.2.0",
            "grid_template_areas": null,
            "object_position": null,
            "object_fit": null,
            "grid_auto_columns": null,
            "margin": null,
            "display": null,
            "left": null
          }
        },
        "1cc19e2df6394bbe880ee6c735663e5a": {
          "model_module": "@jupyter-widgets/controls",
          "model_name": "HBoxModel",
          "state": {
            "_view_name": "HBoxView",
            "_dom_classes": [],
            "_model_name": "HBoxModel",
            "_view_module": "@jupyter-widgets/controls",
            "_model_module_version": "1.5.0",
            "_view_count": null,
            "_view_module_version": "1.5.0",
            "box_style": "",
            "layout": "IPY_MODEL_cc9c72e4d8244bf1b2836486cce9a627",
            "_model_module": "@jupyter-widgets/controls",
            "children": [
              "IPY_MODEL_d033550817ab449192f4d8067dadedbe",
              "IPY_MODEL_5f2c814dbffa4857b9bcc95b90fab607"
            ]
          }
        },
        "cc9c72e4d8244bf1b2836486cce9a627": {
          "model_module": "@jupyter-widgets/base",
          "model_name": "LayoutModel",
          "state": {
            "_view_name": "LayoutView",
            "grid_template_rows": null,
            "right": null,
            "justify_content": null,
            "_view_module": "@jupyter-widgets/base",
            "overflow": null,
            "_model_module_version": "1.2.0",
            "_view_count": null,
            "flex_flow": null,
            "width": null,
            "min_width": null,
            "border": null,
            "align_items": null,
            "bottom": null,
            "_model_module": "@jupyter-widgets/base",
            "top": null,
            "grid_column": null,
            "overflow_y": null,
            "overflow_x": null,
            "grid_auto_flow": null,
            "grid_area": null,
            "grid_template_columns": null,
            "flex": null,
            "_model_name": "LayoutModel",
            "justify_items": null,
            "grid_row": null,
            "max_height": null,
            "align_content": null,
            "visibility": null,
            "align_self": null,
            "height": null,
            "min_height": null,
            "padding": null,
            "grid_auto_rows": null,
            "grid_gap": null,
            "max_width": null,
            "order": null,
            "_view_module_version": "1.2.0",
            "grid_template_areas": null,
            "object_position": null,
            "object_fit": null,
            "grid_auto_columns": null,
            "margin": null,
            "display": null,
            "left": null
          }
        },
        "d033550817ab449192f4d8067dadedbe": {
          "model_module": "@jupyter-widgets/controls",
          "model_name": "FloatProgressModel",
          "state": {
            "_view_name": "ProgressView",
            "style": "IPY_MODEL_8f6175893a434f6aaf97e07a68b7f610",
            "_dom_classes": [],
            "description": "Epoch 3: 100%",
            "_model_name": "FloatProgressModel",
            "bar_style": "success",
            "max": 10000,
            "_view_module": "@jupyter-widgets/controls",
            "_model_module_version": "1.5.0",
            "value": 10000,
            "_view_count": null,
            "_view_module_version": "1.5.0",
            "orientation": "horizontal",
            "min": 0,
            "description_tooltip": null,
            "_model_module": "@jupyter-widgets/controls",
            "layout": "IPY_MODEL_bce61706cb3c4b7999053add44a52a9c"
          }
        },
        "5f2c814dbffa4857b9bcc95b90fab607": {
          "model_module": "@jupyter-widgets/controls",
          "model_name": "HTMLModel",
          "state": {
            "_view_name": "HTMLView",
            "style": "IPY_MODEL_e2ed42988e1742dbadd511f57367e2b4",
            "_dom_classes": [],
            "description": "",
            "_model_name": "HTMLModel",
            "placeholder": "​",
            "_view_module": "@jupyter-widgets/controls",
            "_model_module_version": "1.5.0",
            "value": " 10000/10000 [10:53&lt;00:00, 15.30it/s, Loss=0.0197, Acc=1]",
            "_view_count": null,
            "_view_module_version": "1.5.0",
            "description_tooltip": null,
            "_model_module": "@jupyter-widgets/controls",
            "layout": "IPY_MODEL_cbf413873c4c4abbb045e750bc28c5bb"
          }
        },
        "8f6175893a434f6aaf97e07a68b7f610": {
          "model_module": "@jupyter-widgets/controls",
          "model_name": "ProgressStyleModel",
          "state": {
            "_view_name": "StyleView",
            "_model_name": "ProgressStyleModel",
            "description_width": "initial",
            "_view_module": "@jupyter-widgets/base",
            "_model_module_version": "1.5.0",
            "_view_count": null,
            "_view_module_version": "1.2.0",
            "bar_color": null,
            "_model_module": "@jupyter-widgets/controls"
          }
        },
        "bce61706cb3c4b7999053add44a52a9c": {
          "model_module": "@jupyter-widgets/base",
          "model_name": "LayoutModel",
          "state": {
            "_view_name": "LayoutView",
            "grid_template_rows": null,
            "right": null,
            "justify_content": null,
            "_view_module": "@jupyter-widgets/base",
            "overflow": null,
            "_model_module_version": "1.2.0",
            "_view_count": null,
            "flex_flow": null,
            "width": null,
            "min_width": null,
            "border": null,
            "align_items": null,
            "bottom": null,
            "_model_module": "@jupyter-widgets/base",
            "top": null,
            "grid_column": null,
            "overflow_y": null,
            "overflow_x": null,
            "grid_auto_flow": null,
            "grid_area": null,
            "grid_template_columns": null,
            "flex": null,
            "_model_name": "LayoutModel",
            "justify_items": null,
            "grid_row": null,
            "max_height": null,
            "align_content": null,
            "visibility": null,
            "align_self": null,
            "height": null,
            "min_height": null,
            "padding": null,
            "grid_auto_rows": null,
            "grid_gap": null,
            "max_width": null,
            "order": null,
            "_view_module_version": "1.2.0",
            "grid_template_areas": null,
            "object_position": null,
            "object_fit": null,
            "grid_auto_columns": null,
            "margin": null,
            "display": null,
            "left": null
          }
        },
        "e2ed42988e1742dbadd511f57367e2b4": {
          "model_module": "@jupyter-widgets/controls",
          "model_name": "DescriptionStyleModel",
          "state": {
            "_view_name": "StyleView",
            "_model_name": "DescriptionStyleModel",
            "description_width": "",
            "_view_module": "@jupyter-widgets/base",
            "_model_module_version": "1.5.0",
            "_view_count": null,
            "_view_module_version": "1.2.0",
            "_model_module": "@jupyter-widgets/controls"
          }
        },
        "cbf413873c4c4abbb045e750bc28c5bb": {
          "model_module": "@jupyter-widgets/base",
          "model_name": "LayoutModel",
          "state": {
            "_view_name": "LayoutView",
            "grid_template_rows": null,
            "right": null,
            "justify_content": null,
            "_view_module": "@jupyter-widgets/base",
            "overflow": null,
            "_model_module_version": "1.2.0",
            "_view_count": null,
            "flex_flow": null,
            "width": null,
            "min_width": null,
            "border": null,
            "align_items": null,
            "bottom": null,
            "_model_module": "@jupyter-widgets/base",
            "top": null,
            "grid_column": null,
            "overflow_y": null,
            "overflow_x": null,
            "grid_auto_flow": null,
            "grid_area": null,
            "grid_template_columns": null,
            "flex": null,
            "_model_name": "LayoutModel",
            "justify_items": null,
            "grid_row": null,
            "max_height": null,
            "align_content": null,
            "visibility": null,
            "align_self": null,
            "height": null,
            "min_height": null,
            "padding": null,
            "grid_auto_rows": null,
            "grid_gap": null,
            "max_width": null,
            "order": null,
            "_view_module_version": "1.2.0",
            "grid_template_areas": null,
            "object_position": null,
            "object_fit": null,
            "grid_auto_columns": null,
            "margin": null,
            "display": null,
            "left": null
          }
        },
        "0f747cdd5c374863ae31d0602e87a033": {
          "model_module": "@jupyter-widgets/controls",
          "model_name": "HBoxModel",
          "state": {
            "_view_name": "HBoxView",
            "_dom_classes": [],
            "_model_name": "HBoxModel",
            "_view_module": "@jupyter-widgets/controls",
            "_model_module_version": "1.5.0",
            "_view_count": null,
            "_view_module_version": "1.5.0",
            "box_style": "",
            "layout": "IPY_MODEL_3998d31a74314fbfabb80ce301970b40",
            "_model_module": "@jupyter-widgets/controls",
            "children": [
              "IPY_MODEL_dd73352070464808aefe0cd1619d8573",
              "IPY_MODEL_8b06f1426bd84db5a323f2c410e79556"
            ]
          }
        },
        "3998d31a74314fbfabb80ce301970b40": {
          "model_module": "@jupyter-widgets/base",
          "model_name": "LayoutModel",
          "state": {
            "_view_name": "LayoutView",
            "grid_template_rows": null,
            "right": null,
            "justify_content": null,
            "_view_module": "@jupyter-widgets/base",
            "overflow": null,
            "_model_module_version": "1.2.0",
            "_view_count": null,
            "flex_flow": null,
            "width": null,
            "min_width": null,
            "border": null,
            "align_items": null,
            "bottom": null,
            "_model_module": "@jupyter-widgets/base",
            "top": null,
            "grid_column": null,
            "overflow_y": null,
            "overflow_x": null,
            "grid_auto_flow": null,
            "grid_area": null,
            "grid_template_columns": null,
            "flex": null,
            "_model_name": "LayoutModel",
            "justify_items": null,
            "grid_row": null,
            "max_height": null,
            "align_content": null,
            "visibility": null,
            "align_self": null,
            "height": null,
            "min_height": null,
            "padding": null,
            "grid_auto_rows": null,
            "grid_gap": null,
            "max_width": null,
            "order": null,
            "_view_module_version": "1.2.0",
            "grid_template_areas": null,
            "object_position": null,
            "object_fit": null,
            "grid_auto_columns": null,
            "margin": null,
            "display": null,
            "left": null
          }
        },
        "dd73352070464808aefe0cd1619d8573": {
          "model_module": "@jupyter-widgets/controls",
          "model_name": "FloatProgressModel",
          "state": {
            "_view_name": "ProgressView",
            "style": "IPY_MODEL_ef834e3364f44340a69cec72bcf65d91",
            "_dom_classes": [],
            "description": "Epoch 4: 100%",
            "_model_name": "FloatProgressModel",
            "bar_style": "success",
            "max": 10000,
            "_view_module": "@jupyter-widgets/controls",
            "_model_module_version": "1.5.0",
            "value": 10000,
            "_view_count": null,
            "_view_module_version": "1.5.0",
            "orientation": "horizontal",
            "min": 0,
            "description_tooltip": null,
            "_model_module": "@jupyter-widgets/controls",
            "layout": "IPY_MODEL_535451f9e82747fbb4bc40f6a649c127"
          }
        },
        "8b06f1426bd84db5a323f2c410e79556": {
          "model_module": "@jupyter-widgets/controls",
          "model_name": "HTMLModel",
          "state": {
            "_view_name": "HTMLView",
            "style": "IPY_MODEL_1a70b56b784a4b8c818a2cb8a365717b",
            "_dom_classes": [],
            "description": "",
            "_model_name": "HTMLModel",
            "placeholder": "​",
            "_view_module": "@jupyter-widgets/controls",
            "_model_module_version": "1.5.0",
            "value": " 10000/10000 [10:29&lt;00:00, 15.89it/s, Loss=2.84e-5, Acc=1]",
            "_view_count": null,
            "_view_module_version": "1.5.0",
            "description_tooltip": null,
            "_model_module": "@jupyter-widgets/controls",
            "layout": "IPY_MODEL_c868e91ae3ac4a66924435f0add3df35"
          }
        },
        "ef834e3364f44340a69cec72bcf65d91": {
          "model_module": "@jupyter-widgets/controls",
          "model_name": "ProgressStyleModel",
          "state": {
            "_view_name": "StyleView",
            "_model_name": "ProgressStyleModel",
            "description_width": "initial",
            "_view_module": "@jupyter-widgets/base",
            "_model_module_version": "1.5.0",
            "_view_count": null,
            "_view_module_version": "1.2.0",
            "bar_color": null,
            "_model_module": "@jupyter-widgets/controls"
          }
        },
        "535451f9e82747fbb4bc40f6a649c127": {
          "model_module": "@jupyter-widgets/base",
          "model_name": "LayoutModel",
          "state": {
            "_view_name": "LayoutView",
            "grid_template_rows": null,
            "right": null,
            "justify_content": null,
            "_view_module": "@jupyter-widgets/base",
            "overflow": null,
            "_model_module_version": "1.2.0",
            "_view_count": null,
            "flex_flow": null,
            "width": null,
            "min_width": null,
            "border": null,
            "align_items": null,
            "bottom": null,
            "_model_module": "@jupyter-widgets/base",
            "top": null,
            "grid_column": null,
            "overflow_y": null,
            "overflow_x": null,
            "grid_auto_flow": null,
            "grid_area": null,
            "grid_template_columns": null,
            "flex": null,
            "_model_name": "LayoutModel",
            "justify_items": null,
            "grid_row": null,
            "max_height": null,
            "align_content": null,
            "visibility": null,
            "align_self": null,
            "height": null,
            "min_height": null,
            "padding": null,
            "grid_auto_rows": null,
            "grid_gap": null,
            "max_width": null,
            "order": null,
            "_view_module_version": "1.2.0",
            "grid_template_areas": null,
            "object_position": null,
            "object_fit": null,
            "grid_auto_columns": null,
            "margin": null,
            "display": null,
            "left": null
          }
        },
        "1a70b56b784a4b8c818a2cb8a365717b": {
          "model_module": "@jupyter-widgets/controls",
          "model_name": "DescriptionStyleModel",
          "state": {
            "_view_name": "StyleView",
            "_model_name": "DescriptionStyleModel",
            "description_width": "",
            "_view_module": "@jupyter-widgets/base",
            "_model_module_version": "1.5.0",
            "_view_count": null,
            "_view_module_version": "1.2.0",
            "_model_module": "@jupyter-widgets/controls"
          }
        },
        "c868e91ae3ac4a66924435f0add3df35": {
          "model_module": "@jupyter-widgets/base",
          "model_name": "LayoutModel",
          "state": {
            "_view_name": "LayoutView",
            "grid_template_rows": null,
            "right": null,
            "justify_content": null,
            "_view_module": "@jupyter-widgets/base",
            "overflow": null,
            "_model_module_version": "1.2.0",
            "_view_count": null,
            "flex_flow": null,
            "width": null,
            "min_width": null,
            "border": null,
            "align_items": null,
            "bottom": null,
            "_model_module": "@jupyter-widgets/base",
            "top": null,
            "grid_column": null,
            "overflow_y": null,
            "overflow_x": null,
            "grid_auto_flow": null,
            "grid_area": null,
            "grid_template_columns": null,
            "flex": null,
            "_model_name": "LayoutModel",
            "justify_items": null,
            "grid_row": null,
            "max_height": null,
            "align_content": null,
            "visibility": null,
            "align_self": null,
            "height": null,
            "min_height": null,
            "padding": null,
            "grid_auto_rows": null,
            "grid_gap": null,
            "max_width": null,
            "order": null,
            "_view_module_version": "1.2.0",
            "grid_template_areas": null,
            "object_position": null,
            "object_fit": null,
            "grid_auto_columns": null,
            "margin": null,
            "display": null,
            "left": null
          }
        },
        "98024eee12d64b5ab2fa769afd5b42f9": {
          "model_module": "@jupyter-widgets/controls",
          "model_name": "HBoxModel",
          "state": {
            "_view_name": "HBoxView",
            "_dom_classes": [],
            "_model_name": "HBoxModel",
            "_view_module": "@jupyter-widgets/controls",
            "_model_module_version": "1.5.0",
            "_view_count": null,
            "_view_module_version": "1.5.0",
            "box_style": "",
            "layout": "IPY_MODEL_e5147c5e49394b1eb0e7afbf9e102b88",
            "_model_module": "@jupyter-widgets/controls",
            "children": [
              "IPY_MODEL_cae73090e34f41708993d39d7419bcdc",
              "IPY_MODEL_abd0f9d02af04041b8a340c9f5fa07fc"
            ]
          }
        },
        "e5147c5e49394b1eb0e7afbf9e102b88": {
          "model_module": "@jupyter-widgets/base",
          "model_name": "LayoutModel",
          "state": {
            "_view_name": "LayoutView",
            "grid_template_rows": null,
            "right": null,
            "justify_content": null,
            "_view_module": "@jupyter-widgets/base",
            "overflow": null,
            "_model_module_version": "1.2.0",
            "_view_count": null,
            "flex_flow": null,
            "width": null,
            "min_width": null,
            "border": null,
            "align_items": null,
            "bottom": null,
            "_model_module": "@jupyter-widgets/base",
            "top": null,
            "grid_column": null,
            "overflow_y": null,
            "overflow_x": null,
            "grid_auto_flow": null,
            "grid_area": null,
            "grid_template_columns": null,
            "flex": null,
            "_model_name": "LayoutModel",
            "justify_items": null,
            "grid_row": null,
            "max_height": null,
            "align_content": null,
            "visibility": null,
            "align_self": null,
            "height": null,
            "min_height": null,
            "padding": null,
            "grid_auto_rows": null,
            "grid_gap": null,
            "max_width": null,
            "order": null,
            "_view_module_version": "1.2.0",
            "grid_template_areas": null,
            "object_position": null,
            "object_fit": null,
            "grid_auto_columns": null,
            "margin": null,
            "display": null,
            "left": null
          }
        },
        "cae73090e34f41708993d39d7419bcdc": {
          "model_module": "@jupyter-widgets/controls",
          "model_name": "FloatProgressModel",
          "state": {
            "_view_name": "ProgressView",
            "style": "IPY_MODEL_a814e7f741de42328bc96e1f6fbc4f93",
            "_dom_classes": [],
            "description": "Epoch 5: 100%",
            "_model_name": "FloatProgressModel",
            "bar_style": "success",
            "max": 10000,
            "_view_module": "@jupyter-widgets/controls",
            "_model_module_version": "1.5.0",
            "value": 10000,
            "_view_count": null,
            "_view_module_version": "1.5.0",
            "orientation": "horizontal",
            "min": 0,
            "description_tooltip": null,
            "_model_module": "@jupyter-widgets/controls",
            "layout": "IPY_MODEL_900618c346df4e69b6558500e5077aad"
          }
        },
        "abd0f9d02af04041b8a340c9f5fa07fc": {
          "model_module": "@jupyter-widgets/controls",
          "model_name": "HTMLModel",
          "state": {
            "_view_name": "HTMLView",
            "style": "IPY_MODEL_48b1bcc7635b4b55939536bf99cb7619",
            "_dom_classes": [],
            "description": "",
            "_model_name": "HTMLModel",
            "placeholder": "​",
            "_view_module": "@jupyter-widgets/controls",
            "_model_module_version": "1.5.0",
            "value": " 10000/10000 [10:16&lt;00:00, 16.22it/s, Loss=0.00165, Acc=1]",
            "_view_count": null,
            "_view_module_version": "1.5.0",
            "description_tooltip": null,
            "_model_module": "@jupyter-widgets/controls",
            "layout": "IPY_MODEL_1d87b376fc8846198513f0ecb2926107"
          }
        },
        "a814e7f741de42328bc96e1f6fbc4f93": {
          "model_module": "@jupyter-widgets/controls",
          "model_name": "ProgressStyleModel",
          "state": {
            "_view_name": "StyleView",
            "_model_name": "ProgressStyleModel",
            "description_width": "initial",
            "_view_module": "@jupyter-widgets/base",
            "_model_module_version": "1.5.0",
            "_view_count": null,
            "_view_module_version": "1.2.0",
            "bar_color": null,
            "_model_module": "@jupyter-widgets/controls"
          }
        },
        "900618c346df4e69b6558500e5077aad": {
          "model_module": "@jupyter-widgets/base",
          "model_name": "LayoutModel",
          "state": {
            "_view_name": "LayoutView",
            "grid_template_rows": null,
            "right": null,
            "justify_content": null,
            "_view_module": "@jupyter-widgets/base",
            "overflow": null,
            "_model_module_version": "1.2.0",
            "_view_count": null,
            "flex_flow": null,
            "width": null,
            "min_width": null,
            "border": null,
            "align_items": null,
            "bottom": null,
            "_model_module": "@jupyter-widgets/base",
            "top": null,
            "grid_column": null,
            "overflow_y": null,
            "overflow_x": null,
            "grid_auto_flow": null,
            "grid_area": null,
            "grid_template_columns": null,
            "flex": null,
            "_model_name": "LayoutModel",
            "justify_items": null,
            "grid_row": null,
            "max_height": null,
            "align_content": null,
            "visibility": null,
            "align_self": null,
            "height": null,
            "min_height": null,
            "padding": null,
            "grid_auto_rows": null,
            "grid_gap": null,
            "max_width": null,
            "order": null,
            "_view_module_version": "1.2.0",
            "grid_template_areas": null,
            "object_position": null,
            "object_fit": null,
            "grid_auto_columns": null,
            "margin": null,
            "display": null,
            "left": null
          }
        },
        "48b1bcc7635b4b55939536bf99cb7619": {
          "model_module": "@jupyter-widgets/controls",
          "model_name": "DescriptionStyleModel",
          "state": {
            "_view_name": "StyleView",
            "_model_name": "DescriptionStyleModel",
            "description_width": "",
            "_view_module": "@jupyter-widgets/base",
            "_model_module_version": "1.5.0",
            "_view_count": null,
            "_view_module_version": "1.2.0",
            "_model_module": "@jupyter-widgets/controls"
          }
        },
        "1d87b376fc8846198513f0ecb2926107": {
          "model_module": "@jupyter-widgets/base",
          "model_name": "LayoutModel",
          "state": {
            "_view_name": "LayoutView",
            "grid_template_rows": null,
            "right": null,
            "justify_content": null,
            "_view_module": "@jupyter-widgets/base",
            "overflow": null,
            "_model_module_version": "1.2.0",
            "_view_count": null,
            "flex_flow": null,
            "width": null,
            "min_width": null,
            "border": null,
            "align_items": null,
            "bottom": null,
            "_model_module": "@jupyter-widgets/base",
            "top": null,
            "grid_column": null,
            "overflow_y": null,
            "overflow_x": null,
            "grid_auto_flow": null,
            "grid_area": null,
            "grid_template_columns": null,
            "flex": null,
            "_model_name": "LayoutModel",
            "justify_items": null,
            "grid_row": null,
            "max_height": null,
            "align_content": null,
            "visibility": null,
            "align_self": null,
            "height": null,
            "min_height": null,
            "padding": null,
            "grid_auto_rows": null,
            "grid_gap": null,
            "max_width": null,
            "order": null,
            "_view_module_version": "1.2.0",
            "grid_template_areas": null,
            "object_position": null,
            "object_fit": null,
            "grid_auto_columns": null,
            "margin": null,
            "display": null,
            "left": null
          }
        },
        "d0f15f4de9014eb7a8032cc6c9809c02": {
          "model_module": "@jupyter-widgets/controls",
          "model_name": "HBoxModel",
          "state": {
            "_view_name": "HBoxView",
            "_dom_classes": [],
            "_model_name": "HBoxModel",
            "_view_module": "@jupyter-widgets/controls",
            "_model_module_version": "1.5.0",
            "_view_count": null,
            "_view_module_version": "1.5.0",
            "box_style": "",
            "layout": "IPY_MODEL_5c559825c692468f860425143c3628b5",
            "_model_module": "@jupyter-widgets/controls",
            "children": [
              "IPY_MODEL_fbec84c0a1154c3eab4e06df706e0de5",
              "IPY_MODEL_4d3f1f42feec4cdf8961d4c5f6884e64"
            ]
          }
        },
        "5c559825c692468f860425143c3628b5": {
          "model_module": "@jupyter-widgets/base",
          "model_name": "LayoutModel",
          "state": {
            "_view_name": "LayoutView",
            "grid_template_rows": null,
            "right": null,
            "justify_content": null,
            "_view_module": "@jupyter-widgets/base",
            "overflow": null,
            "_model_module_version": "1.2.0",
            "_view_count": null,
            "flex_flow": null,
            "width": null,
            "min_width": null,
            "border": null,
            "align_items": null,
            "bottom": null,
            "_model_module": "@jupyter-widgets/base",
            "top": null,
            "grid_column": null,
            "overflow_y": null,
            "overflow_x": null,
            "grid_auto_flow": null,
            "grid_area": null,
            "grid_template_columns": null,
            "flex": null,
            "_model_name": "LayoutModel",
            "justify_items": null,
            "grid_row": null,
            "max_height": null,
            "align_content": null,
            "visibility": null,
            "align_self": null,
            "height": null,
            "min_height": null,
            "padding": null,
            "grid_auto_rows": null,
            "grid_gap": null,
            "max_width": null,
            "order": null,
            "_view_module_version": "1.2.0",
            "grid_template_areas": null,
            "object_position": null,
            "object_fit": null,
            "grid_auto_columns": null,
            "margin": null,
            "display": null,
            "left": null
          }
        },
        "fbec84c0a1154c3eab4e06df706e0de5": {
          "model_module": "@jupyter-widgets/controls",
          "model_name": "FloatProgressModel",
          "state": {
            "_view_name": "ProgressView",
            "style": "IPY_MODEL_e5658553d1d34f15bf017b004332e359",
            "_dom_classes": [],
            "description": "100%",
            "_model_name": "FloatProgressModel",
            "bar_style": "success",
            "max": 20,
            "_view_module": "@jupyter-widgets/controls",
            "_model_module_version": "1.5.0",
            "value": 20,
            "_view_count": null,
            "_view_module_version": "1.5.0",
            "orientation": "horizontal",
            "min": 0,
            "description_tooltip": null,
            "_model_module": "@jupyter-widgets/controls",
            "layout": "IPY_MODEL_d7048537a70d48a5b3201c163f0d3815"
          }
        },
        "4d3f1f42feec4cdf8961d4c5f6884e64": {
          "model_module": "@jupyter-widgets/controls",
          "model_name": "HTMLModel",
          "state": {
            "_view_name": "HTMLView",
            "style": "IPY_MODEL_8df9499332b844699855e66e6846974b",
            "_dom_classes": [],
            "description": "",
            "_model_name": "HTMLModel",
            "placeholder": "​",
            "_view_module": "@jupyter-widgets/controls",
            "_model_module_version": "1.5.0",
            "value": " 20/20 [00:54&lt;00:00,  2.71s/it]",
            "_view_count": null,
            "_view_module_version": "1.5.0",
            "description_tooltip": null,
            "_model_module": "@jupyter-widgets/controls",
            "layout": "IPY_MODEL_87712d0d07b84ce1bfb9160064306b59"
          }
        },
        "e5658553d1d34f15bf017b004332e359": {
          "model_module": "@jupyter-widgets/controls",
          "model_name": "ProgressStyleModel",
          "state": {
            "_view_name": "StyleView",
            "_model_name": "ProgressStyleModel",
            "description_width": "initial",
            "_view_module": "@jupyter-widgets/base",
            "_model_module_version": "1.5.0",
            "_view_count": null,
            "_view_module_version": "1.2.0",
            "bar_color": null,
            "_model_module": "@jupyter-widgets/controls"
          }
        },
        "d7048537a70d48a5b3201c163f0d3815": {
          "model_module": "@jupyter-widgets/base",
          "model_name": "LayoutModel",
          "state": {
            "_view_name": "LayoutView",
            "grid_template_rows": null,
            "right": null,
            "justify_content": null,
            "_view_module": "@jupyter-widgets/base",
            "overflow": null,
            "_model_module_version": "1.2.0",
            "_view_count": null,
            "flex_flow": null,
            "width": null,
            "min_width": null,
            "border": null,
            "align_items": null,
            "bottom": null,
            "_model_module": "@jupyter-widgets/base",
            "top": null,
            "grid_column": null,
            "overflow_y": null,
            "overflow_x": null,
            "grid_auto_flow": null,
            "grid_area": null,
            "grid_template_columns": null,
            "flex": null,
            "_model_name": "LayoutModel",
            "justify_items": null,
            "grid_row": null,
            "max_height": null,
            "align_content": null,
            "visibility": null,
            "align_self": null,
            "height": null,
            "min_height": null,
            "padding": null,
            "grid_auto_rows": null,
            "grid_gap": null,
            "max_width": null,
            "order": null,
            "_view_module_version": "1.2.0",
            "grid_template_areas": null,
            "object_position": null,
            "object_fit": null,
            "grid_auto_columns": null,
            "margin": null,
            "display": null,
            "left": null
          }
        },
        "8df9499332b844699855e66e6846974b": {
          "model_module": "@jupyter-widgets/controls",
          "model_name": "DescriptionStyleModel",
          "state": {
            "_view_name": "StyleView",
            "_model_name": "DescriptionStyleModel",
            "description_width": "",
            "_view_module": "@jupyter-widgets/base",
            "_model_module_version": "1.5.0",
            "_view_count": null,
            "_view_module_version": "1.2.0",
            "_model_module": "@jupyter-widgets/controls"
          }
        },
        "87712d0d07b84ce1bfb9160064306b59": {
          "model_module": "@jupyter-widgets/base",
          "model_name": "LayoutModel",
          "state": {
            "_view_name": "LayoutView",
            "grid_template_rows": null,
            "right": null,
            "justify_content": null,
            "_view_module": "@jupyter-widgets/base",
            "overflow": null,
            "_model_module_version": "1.2.0",
            "_view_count": null,
            "flex_flow": null,
            "width": null,
            "min_width": null,
            "border": null,
            "align_items": null,
            "bottom": null,
            "_model_module": "@jupyter-widgets/base",
            "top": null,
            "grid_column": null,
            "overflow_y": null,
            "overflow_x": null,
            "grid_auto_flow": null,
            "grid_area": null,
            "grid_template_columns": null,
            "flex": null,
            "_model_name": "LayoutModel",
            "justify_items": null,
            "grid_row": null,
            "max_height": null,
            "align_content": null,
            "visibility": null,
            "align_self": null,
            "height": null,
            "min_height": null,
            "padding": null,
            "grid_auto_rows": null,
            "grid_gap": null,
            "max_width": null,
            "order": null,
            "_view_module_version": "1.2.0",
            "grid_template_areas": null,
            "object_position": null,
            "object_fit": null,
            "grid_auto_columns": null,
            "margin": null,
            "display": null,
            "left": null
          }
        },
        "9a4a99896ee944e4941c4ca0319acfcc": {
          "model_module": "@jupyter-widgets/controls",
          "model_name": "HBoxModel",
          "state": {
            "_view_name": "HBoxView",
            "_dom_classes": [],
            "_model_name": "HBoxModel",
            "_view_module": "@jupyter-widgets/controls",
            "_model_module_version": "1.5.0",
            "_view_count": null,
            "_view_module_version": "1.5.0",
            "box_style": "",
            "layout": "IPY_MODEL_ef77d55301854fbfbdfb0be32054e6b9",
            "_model_module": "@jupyter-widgets/controls",
            "children": [
              "IPY_MODEL_ee9deede79114abfb4a48359e2df6103",
              "IPY_MODEL_c077befaeef44960a835443a54a161ab"
            ]
          }
        },
        "ef77d55301854fbfbdfb0be32054e6b9": {
          "model_module": "@jupyter-widgets/base",
          "model_name": "LayoutModel",
          "state": {
            "_view_name": "LayoutView",
            "grid_template_rows": null,
            "right": null,
            "justify_content": null,
            "_view_module": "@jupyter-widgets/base",
            "overflow": null,
            "_model_module_version": "1.2.0",
            "_view_count": null,
            "flex_flow": null,
            "width": null,
            "min_width": null,
            "border": null,
            "align_items": null,
            "bottom": null,
            "_model_module": "@jupyter-widgets/base",
            "top": null,
            "grid_column": null,
            "overflow_y": null,
            "overflow_x": null,
            "grid_auto_flow": null,
            "grid_area": null,
            "grid_template_columns": null,
            "flex": null,
            "_model_name": "LayoutModel",
            "justify_items": null,
            "grid_row": null,
            "max_height": null,
            "align_content": null,
            "visibility": null,
            "align_self": null,
            "height": null,
            "min_height": null,
            "padding": null,
            "grid_auto_rows": null,
            "grid_gap": null,
            "max_width": null,
            "order": null,
            "_view_module_version": "1.2.0",
            "grid_template_areas": null,
            "object_position": null,
            "object_fit": null,
            "grid_auto_columns": null,
            "margin": null,
            "display": null,
            "left": null
          }
        },
        "ee9deede79114abfb4a48359e2df6103": {
          "model_module": "@jupyter-widgets/controls",
          "model_name": "FloatProgressModel",
          "state": {
            "_view_name": "ProgressView",
            "style": "IPY_MODEL_59f80424412c4bc3b6e4d365897740b2",
            "_dom_classes": [],
            "description": "Epoch 1: 100%",
            "_model_name": "FloatProgressModel",
            "bar_style": "success",
            "max": 1000,
            "_view_module": "@jupyter-widgets/controls",
            "_model_module_version": "1.5.0",
            "value": 1000,
            "_view_count": null,
            "_view_module_version": "1.5.0",
            "orientation": "horizontal",
            "min": 0,
            "description_tooltip": null,
            "_model_module": "@jupyter-widgets/controls",
            "layout": "IPY_MODEL_9343a14751d643e19f6feb4556d2fdd4"
          }
        },
        "c077befaeef44960a835443a54a161ab": {
          "model_module": "@jupyter-widgets/controls",
          "model_name": "HTMLModel",
          "state": {
            "_view_name": "HTMLView",
            "style": "IPY_MODEL_29d2430b4b39447687e0b31ad1f388db",
            "_dom_classes": [],
            "description": "",
            "_model_name": "HTMLModel",
            "placeholder": "​",
            "_view_module": "@jupyter-widgets/controls",
            "_model_module_version": "1.5.0",
            "value": " 1000/1000 [00:31&lt;00:00, 31.61it/s, Loss=0.00369, Acc=1]",
            "_view_count": null,
            "_view_module_version": "1.5.0",
            "description_tooltip": null,
            "_model_module": "@jupyter-widgets/controls",
            "layout": "IPY_MODEL_8e15045974fe463a817e07c009c12659"
          }
        },
        "59f80424412c4bc3b6e4d365897740b2": {
          "model_module": "@jupyter-widgets/controls",
          "model_name": "ProgressStyleModel",
          "state": {
            "_view_name": "StyleView",
            "_model_name": "ProgressStyleModel",
            "description_width": "initial",
            "_view_module": "@jupyter-widgets/base",
            "_model_module_version": "1.5.0",
            "_view_count": null,
            "_view_module_version": "1.2.0",
            "bar_color": null,
            "_model_module": "@jupyter-widgets/controls"
          }
        },
        "9343a14751d643e19f6feb4556d2fdd4": {
          "model_module": "@jupyter-widgets/base",
          "model_name": "LayoutModel",
          "state": {
            "_view_name": "LayoutView",
            "grid_template_rows": null,
            "right": null,
            "justify_content": null,
            "_view_module": "@jupyter-widgets/base",
            "overflow": null,
            "_model_module_version": "1.2.0",
            "_view_count": null,
            "flex_flow": null,
            "width": null,
            "min_width": null,
            "border": null,
            "align_items": null,
            "bottom": null,
            "_model_module": "@jupyter-widgets/base",
            "top": null,
            "grid_column": null,
            "overflow_y": null,
            "overflow_x": null,
            "grid_auto_flow": null,
            "grid_area": null,
            "grid_template_columns": null,
            "flex": null,
            "_model_name": "LayoutModel",
            "justify_items": null,
            "grid_row": null,
            "max_height": null,
            "align_content": null,
            "visibility": null,
            "align_self": null,
            "height": null,
            "min_height": null,
            "padding": null,
            "grid_auto_rows": null,
            "grid_gap": null,
            "max_width": null,
            "order": null,
            "_view_module_version": "1.2.0",
            "grid_template_areas": null,
            "object_position": null,
            "object_fit": null,
            "grid_auto_columns": null,
            "margin": null,
            "display": null,
            "left": null
          }
        },
        "29d2430b4b39447687e0b31ad1f388db": {
          "model_module": "@jupyter-widgets/controls",
          "model_name": "DescriptionStyleModel",
          "state": {
            "_view_name": "StyleView",
            "_model_name": "DescriptionStyleModel",
            "description_width": "",
            "_view_module": "@jupyter-widgets/base",
            "_model_module_version": "1.5.0",
            "_view_count": null,
            "_view_module_version": "1.2.0",
            "_model_module": "@jupyter-widgets/controls"
          }
        },
        "8e15045974fe463a817e07c009c12659": {
          "model_module": "@jupyter-widgets/base",
          "model_name": "LayoutModel",
          "state": {
            "_view_name": "LayoutView",
            "grid_template_rows": null,
            "right": null,
            "justify_content": null,
            "_view_module": "@jupyter-widgets/base",
            "overflow": null,
            "_model_module_version": "1.2.0",
            "_view_count": null,
            "flex_flow": null,
            "width": null,
            "min_width": null,
            "border": null,
            "align_items": null,
            "bottom": null,
            "_model_module": "@jupyter-widgets/base",
            "top": null,
            "grid_column": null,
            "overflow_y": null,
            "overflow_x": null,
            "grid_auto_flow": null,
            "grid_area": null,
            "grid_template_columns": null,
            "flex": null,
            "_model_name": "LayoutModel",
            "justify_items": null,
            "grid_row": null,
            "max_height": null,
            "align_content": null,
            "visibility": null,
            "align_self": null,
            "height": null,
            "min_height": null,
            "padding": null,
            "grid_auto_rows": null,
            "grid_gap": null,
            "max_width": null,
            "order": null,
            "_view_module_version": "1.2.0",
            "grid_template_areas": null,
            "object_position": null,
            "object_fit": null,
            "grid_auto_columns": null,
            "margin": null,
            "display": null,
            "left": null
          }
        }
      }
    }
  },
  "cells": [
    {
      "cell_type": "markdown",
      "metadata": {
        "id": "view-in-github",
        "colab_type": "text"
      },
      "source": [
        "<a href=\"https://colab.research.google.com/github/bhuvnk/skunworks/blob/main/Phase1/2.%20RelationNet/RelationNet_Omniglot.ipynb\" target=\"_parent\"><img src=\"https://colab.research.google.com/assets/colab-badge.svg\" alt=\"Open In Colab\"/></a>"
      ]
    },
    {
      "cell_type": "markdown",
      "metadata": {
        "id": "GlyMLKngmf-t"
      },
      "source": [
        "#Relation Netwoks: Omniglot dataset"
      ]
    },
    {
      "cell_type": "markdown",
      "metadata": {
        "id": "ajyUEekbufOD"
      },
      "source": [
        "\n",
        "`Credit:` https://github.com/floodsung/LearningToCompare_FSL\n"
      ]
    },
    {
      "cell_type": "markdown",
      "metadata": {
        "id": "uh1W3Lszseoa"
      },
      "source": [
        "##Import libraries"
      ]
    },
    {
      "cell_type": "code",
      "metadata": {
        "id": "F8XY5yCCZCYZ"
      },
      "source": [
        "import numpy as np\n",
        "import matplotlib.pyplot as plt\n",
        "from scipy import ndimage\n",
        "import multiprocessing as mp\n",
        "import os\n",
        "import cv2\n",
        "\n",
        "import torch\n",
        "import torch.nn as nn\n",
        "import torchvision\n",
        "import torch.nn.functional as F\n",
        "import torch.optim as optim\n",
        "from torch.autograd import Variable"
      ],
      "execution_count": null,
      "outputs": []
    },
    {
      "cell_type": "code",
      "metadata": {
        "id": "X5zGtLpGIziY",
        "outputId": "31e7efa0-4f58-47cf-eefd-b56d0d3f6717",
        "colab": {
          "base_uri": "https://localhost:8080/"
        }
      },
      "source": [
        "#Check GPU support, please do activate GPU\n",
        "print(torch.cuda.is_available())"
      ],
      "execution_count": null,
      "outputs": [
        {
          "output_type": "stream",
          "text": [
            "True\n"
          ],
          "name": "stdout"
        }
      ]
    },
    {
      "cell_type": "markdown",
      "metadata": {
        "id": "Ebffp6XBskUN"
      },
      "source": [
        "##Import data"
      ]
    },
    {
      "cell_type": "markdown",
      "metadata": {
        "id": "5-R_Clr7tEQh"
      },
      "source": [
        "The Omniglot dataset is taken on [the official GitHub repository](https://github.com/brendenlake/omniglot)"
      ]
    },
    {
      "cell_type": "code",
      "metadata": {
        "id": "7aV-Lqty3qTu",
        "outputId": "3f3fd325-c98c-43fb-d8e6-c2bd51094d8f",
        "colab": {
          "base_uri": "https://localhost:8080/"
        }
      },
      "source": [
        "#Download and Extract\n",
        "!wget https://github.com/brendenlake/omniglot/raw/master/python/images_evaluation.zip\n",
        "!wget https://github.com/brendenlake/omniglot/raw/master/python/images_background.zip\n",
        "!unzip -qq images_background.zip\n",
        "!unzip -qq images_evaluation.zip"
      ],
      "execution_count": null,
      "outputs": [
        {
          "output_type": "stream",
          "text": [
            "--2020-11-08 06:56:12--  https://github.com/brendenlake/omniglot/raw/master/python/images_evaluation.zip\n",
            "Resolving github.com (github.com)... 192.30.255.113\n",
            "Connecting to github.com (github.com)|192.30.255.113|:443... connected.\n",
            "HTTP request sent, awaiting response... 302 Found\n",
            "Location: https://raw.githubusercontent.com/brendenlake/omniglot/master/python/images_evaluation.zip [following]\n",
            "--2020-11-08 06:56:12--  https://raw.githubusercontent.com/brendenlake/omniglot/master/python/images_evaluation.zip\n",
            "Resolving raw.githubusercontent.com (raw.githubusercontent.com)... 151.101.0.133, 151.101.64.133, 151.101.128.133, ...\n",
            "Connecting to raw.githubusercontent.com (raw.githubusercontent.com)|151.101.0.133|:443... connected.\n",
            "HTTP request sent, awaiting response... 200 OK\n",
            "Length: 6462886 (6.2M) [application/zip]\n",
            "Saving to: ‘images_evaluation.zip’\n",
            "\n",
            "images_evaluation.z 100%[===================>]   6.16M  24.0MB/s    in 0.3s    \n",
            "\n",
            "2020-11-08 06:56:13 (24.0 MB/s) - ‘images_evaluation.zip’ saved [6462886/6462886]\n",
            "\n",
            "--2020-11-08 06:56:13--  https://github.com/brendenlake/omniglot/raw/master/python/images_background.zip\n",
            "Resolving github.com (github.com)... 192.30.255.112\n",
            "Connecting to github.com (github.com)|192.30.255.112|:443... connected.\n",
            "HTTP request sent, awaiting response... 302 Found\n",
            "Location: https://raw.githubusercontent.com/brendenlake/omniglot/master/python/images_background.zip [following]\n",
            "--2020-11-08 06:56:13--  https://raw.githubusercontent.com/brendenlake/omniglot/master/python/images_background.zip\n",
            "Resolving raw.githubusercontent.com (raw.githubusercontent.com)... 151.101.0.133, 151.101.64.133, 151.101.128.133, ...\n",
            "Connecting to raw.githubusercontent.com (raw.githubusercontent.com)|151.101.0.133|:443... connected.\n",
            "HTTP request sent, awaiting response... 200 OK\n",
            "Length: 9464212 (9.0M) [application/zip]\n",
            "Saving to: ‘images_background.zip’\n",
            "\n",
            "images_background.z 100%[===================>]   9.03M  38.9MB/s    in 0.2s    \n",
            "\n",
            "2020-11-08 06:56:14 (38.9 MB/s) - ‘images_background.zip’ saved [9464212/9464212]\n",
            "\n"
          ],
          "name": "stdout"
        }
      ]
    },
    {
      "cell_type": "markdown",
      "metadata": {
        "id": "l33V3V0asntp"
      },
      "source": [
        "## Reading the Omniglot\n",
        "\n",
        "1623 Handwritten Character || 50 Alphabets || By 20 People\n",
        "\n",
        "1623 * 4 = 6492; if we consider orthogonal flips\n",
        "\n",
        "* 30 Alphabets | Background Set | Training\n",
        "* 20 Alphabets | Evaluation Set | Testing\n"
      ]
    },
    {
      "cell_type": "code",
      "metadata": {
        "id": "rkT5mn5xpqhl"
      },
      "source": [
        "from tqdm.notebook import tqdm\n",
        "def load_characters(root, alphabet):\n",
        "\n",
        "    X = []\n",
        "    y = []\n",
        "    \n",
        "    alphabet_path = os.path.join(root, alphabet)\n",
        "    characters = os.listdir(alphabet_path)\n",
        "    \n",
        "    for char in characters:\n",
        "        char_path = os.path.join(alphabet_path, char)\n",
        "        images = os.listdir(char_path)\n",
        "        \n",
        "        for img in images:\n",
        "            image = cv2.imread(os.path.join(char_path, img))\n",
        "            image = cv2.resize(image, (28, 28)) / 255\n",
        "            #rotations of image\n",
        "            rotated_90 = ndimage.rotate(image, 90)\n",
        "            rotated_180 = ndimage.rotate(image, 180)\n",
        "            rotated_270 = ndimage.rotate(image, 270)\n",
        "            X.extend((image, rotated_90, rotated_180, rotated_270))\n",
        "            y.extend((\n",
        "                alphabet + '_' + char + '_0',\n",
        "                alphabet + '_' + char + '_90',\n",
        "                alphabet + '_' + char + '_180',\n",
        "                alphabet + '_' + char + '_270'\n",
        "            ))\n",
        "            \n",
        "            # X.append(image)\n",
        "            # y.append(f'{alphabet}_{char}')\n",
        "    \n",
        "    return X, y\n",
        "\n",
        "\n",
        "def read_images(root):\n",
        "\n",
        "    X_data = []\n",
        "    y_data = []\n",
        "    \n",
        "    print('Loading Data')\n",
        "    \n",
        "    alphabets = os.listdir(root)\n",
        "    for alphabet in tqdm(alphabets):\n",
        "        X, y = load_characters(root, alphabet)\n",
        "        X_data.extend(X)\n",
        "        y_data.extend(y)\n",
        "    \n",
        "    return np.array(X_data), np.array(y_data)"
      ],
      "execution_count": null,
      "outputs": []
    },
    {
      "cell_type": "code",
      "metadata": {
        "id": "P7UN-n0l7aT0",
        "outputId": "a231a07e-0a6d-4bd1-88ac-157e802fbcf2",
        "colab": {
          "base_uri": "https://localhost:8080/",
          "height": 86,
          "referenced_widgets": [
            "4f04403e28864eb3973161e87647225b",
            "71b377b5aa764b7abc65fab2f7965b98",
            "42573381f4404ac7847b0973ca3ae923",
            "7966c4fc5b3e4af38d1ede3525d6ff1d",
            "74536bb8d13b4744b59744b0f4a65e73",
            "8d8afd0511394436a78810508a9bb423",
            "35feacda07ab491abd708a5b6643d7cf",
            "78edae23e2f84619b78c3b7882b61ed6"
          ]
        }
      },
      "source": [
        "trainx, trainy = read_images('images_background')"
      ],
      "execution_count": null,
      "outputs": [
        {
          "output_type": "stream",
          "text": [
            "Loading Data\n"
          ],
          "name": "stdout"
        },
        {
          "output_type": "display_data",
          "data": {
            "application/vnd.jupyter.widget-view+json": {
              "model_id": "4f04403e28864eb3973161e87647225b",
              "version_minor": 0,
              "version_major": 2
            },
            "text/plain": [
              "HBox(children=(FloatProgress(value=0.0, max=30.0), HTML(value='')))"
            ]
          },
          "metadata": {
            "tags": []
          }
        },
        {
          "output_type": "stream",
          "text": [
            "\n"
          ],
          "name": "stdout"
        }
      ]
    },
    {
      "cell_type": "code",
      "metadata": {
        "id": "wbG0-_Jrq3Aq",
        "outputId": "d0563acf-01f9-4054-cf07-57402c09ba49",
        "colab": {
          "base_uri": "https://localhost:8080/"
        }
      },
      "source": [
        "trainx.shape, trainy.shape"
      ],
      "execution_count": null,
      "outputs": [
        {
          "output_type": "execute_result",
          "data": {
            "text/plain": [
              "((77120, 28, 28, 3), (77120,))"
            ]
          },
          "metadata": {
            "tags": []
          },
          "execution_count": 6
        }
      ]
    },
    {
      "cell_type": "markdown",
      "metadata": {
        "id": "aLWx2XCWwAxx"
      },
      "source": [
        "* Training set | 77,120 images | 964 * 4 = 3,856 characters * 20 people | images_background\n",
        "* Testing set | 52,720 images | 659 * 4 = 2,636 characters * 20 People | images_evaluation"
      ]
    },
    {
      "cell_type": "markdown",
      "metadata": {
        "id": "J2VcplJ3xA-z"
      },
      "source": [
        "##Create samples"
      ]
    },
    {
      "cell_type": "code",
      "metadata": {
        "id": "oDOhxCjd24bw"
      },
      "source": [
        "def extract_sample(n_way, n_support, n_query, datax, datay):\n",
        "  \"\"\"\n",
        "    Returns a Task with support and query set combined\n",
        "    task sample : (n_way, n_support+n_query, (image dim))\n",
        "    plus these info: n_way, n_support, n_query\n",
        "  \"\"\"\n",
        "  sample = []\n",
        "  K = np.random.choice(np.unique(datay), n_way, replace=False)\n",
        "  for cls in K:\n",
        "    datax_cls = datax[datay == cls]\n",
        "    perm = np.random.permutation(datax_cls)\n",
        "    sample_cls = perm[:(n_support+n_query)]\n",
        "    sample.append(sample_cls)\n",
        "  sample = np.array(sample)\n",
        "  sample = torch.from_numpy(sample).float()\n",
        "  return sample.permute(0,1,4,2,3)"
      ],
      "execution_count": null,
      "outputs": []
    },
    {
      "cell_type": "markdown",
      "metadata": {
        "id": "-uGq_ya4yG2K"
      },
      "source": [
        "As an example, let's pick a sample and display it\n",
        "\n",
        "*   n_way = 8\n",
        "*   n_support = 5\n",
        "*   n_query = 5\n",
        "\n",
        "\n"
      ]
    },
    {
      "cell_type": "code",
      "metadata": {
        "id": "lxOHvWfO1ApZ",
        "outputId": "5a6c4d2f-df47-458b-ecb7-431cdc12979d",
        "colab": {
          "base_uri": "https://localhost:8080/"
        }
      },
      "source": [
        "sample_example = extract_sample(8, 5, 5, trainx, trainy)\n",
        "sample_example.shape"
      ],
      "execution_count": null,
      "outputs": [
        {
          "output_type": "execute_result",
          "data": {
            "text/plain": [
              "torch.Size([8, 10, 3, 28, 28])"
            ]
          },
          "metadata": {
            "tags": []
          },
          "execution_count": 8
        }
      ]
    },
    {
      "cell_type": "code",
      "metadata": {
        "id": "sjmkM_gLYMv2",
        "outputId": "fe2be4d6-c77a-43c9-cfb9-e77aaff29c95",
        "colab": {
          "base_uri": "https://localhost:8080/"
        }
      },
      "source": [
        "sample_ex = sample_example.contiguous().view(8 * 10, *sample_example.size()[2:])\n",
        "sample_ex.shape"
      ],
      "execution_count": null,
      "outputs": [
        {
          "output_type": "execute_result",
          "data": {
            "text/plain": [
              "torch.Size([80, 3, 28, 28])"
            ]
          },
          "metadata": {
            "tags": []
          },
          "execution_count": 9
        }
      ]
    },
    {
      "cell_type": "code",
      "metadata": {
        "id": "qH1PNY0bDEfi"
      },
      "source": [
        "def display_sample(sample):\n",
        "  \"\"\"\n",
        "  Displays sample in a grid\n",
        "  Args:\n",
        "      sample (torch.Tensor): sample of images to display\n",
        "  \"\"\"\n",
        "  #need 4D tensor to create grid, currently 5D\n",
        "  sample_4D = sample.view(sample.shape[0]*sample.shape[1],*sample.shape[2:])\n",
        "  #make a grid\n",
        "  out = torchvision.utils.make_grid(sample_4D, nrow=sample.shape[1])\n",
        "  plt.figure(figsize = (16,7))\n",
        "  plt.imshow(out.permute(1, 2, 0))"
      ],
      "execution_count": null,
      "outputs": []
    },
    {
      "cell_type": "code",
      "metadata": {
        "id": "uhTwYsTUDPVS",
        "outputId": "6068cd4a-74f6-4a9e-aa74-157e574ce7fe",
        "colab": {
          "base_uri": "https://localhost:8080/",
          "height": 450
        }
      },
      "source": [
        "display_sample(sample_example)"
      ],
      "execution_count": null,
      "outputs": [
        {
          "output_type": "stream",
          "text": [
            "Clipping input data to the valid range for imshow with RGB data ([0..1] for floats or [0..255] for integers).\n"
          ],
          "name": "stderr"
        },
        {
          "output_type": "display_data",
          "data": {
            "image/png": "[encoded data removed]",
            "text/plain": [
              "<Figure size 1152x504 with 1 Axes>"
            ]
          },
          "metadata": {
            "tags": [],
            "needs_background": "light"
          }
        }
      ]
    },
    {
      "cell_type": "markdown",
      "metadata": {
        "id": "HbakTT_nFubI"
      },
      "source": [
        "##Build model"
      ]
    },
    {
      "cell_type": "markdown",
      "metadata": {
        "id": "_-E6-_vvzXZw"
      },
      "source": [
        ""
      ]
    },
    {
      "cell_type": "code",
      "metadata": {
        "id": "XNE1_gjrxEll"
      },
      "source": [
        "## Encoder\n",
        "class CNNEncoder(nn.Module):\n",
        "    \"\"\"Encoder\"\"\"\n",
        "    def __init__(self):\n",
        "        super(CNNEncoder, self).__init__()\n",
        "        self.layer1 = nn.Sequential(\n",
        "                        nn.Conv2d(3,64,kernel_size=3,padding=0),\n",
        "                        nn.BatchNorm2d(64, momentum=1, affine=True),\n",
        "                        nn.ReLU(),\n",
        "                        nn.MaxPool2d(2))\n",
        "        self.layer2 = nn.Sequential(\n",
        "                        nn.Conv2d(64,64,kernel_size=3,padding=0),\n",
        "                        nn.BatchNorm2d(64, momentum=1, affine=True),\n",
        "                        nn.ReLU(),\n",
        "                        nn.MaxPool2d(2))\n",
        "        self.layer3 = nn.Sequential(\n",
        "                        nn.Conv2d(64,64,kernel_size=3,padding=1),\n",
        "                        nn.BatchNorm2d(64, momentum=1, affine=True),\n",
        "                        nn.ReLU())\n",
        "        self.layer4 = nn.Sequential(\n",
        "                        nn.Conv2d(64,64,kernel_size=3,padding=1),\n",
        "                        nn.BatchNorm2d(64, momentum=1, affine=True),\n",
        "                        nn.ReLU())\n",
        "\n",
        "    def forward(self,x):\n",
        "        out = self.layer1(x)\n",
        "        out = self.layer2(out)\n",
        "        out = self.layer3(out)\n",
        "        out = self.layer4(out)\n",
        "        #out = out.view(out.size(0),-1)\n",
        "        return out # 64"
      ],
      "execution_count": null,
      "outputs": []
    },
    {
      "cell_type": "code",
      "metadata": {
        "id": "7xX-PUsQU-Sb"
      },
      "source": [
        "class RelationNetwork(nn.Module):\n",
        "    '''Decoder: relation part'''\n",
        "    def __init__(self,input_size,hidden_size):\n",
        "        super(RelationNetwork, self).__init__()\n",
        "        self.layer1 = nn.Sequential(\n",
        "                        nn.Conv2d(128,64,kernel_size=3,padding=1),\n",
        "                        nn.BatchNorm2d(64, momentum=1, affine=True),\n",
        "                        nn.ReLU(),\n",
        "                        nn.MaxPool2d(2))\n",
        "        self.layer2 = nn.Sequential(\n",
        "                        nn.Conv2d(64,64,kernel_size=3,padding=1),\n",
        "                        nn.BatchNorm2d(64, momentum=1, affine=True),\n",
        "                        nn.ReLU(),\n",
        "                        nn.MaxPool2d(2))\n",
        "        self.fc1 = nn.Linear(input_size,hidden_size)\n",
        "        self.fc2 = nn.Linear(hidden_size,1)\n",
        "\n",
        "    def forward(self,x):\n",
        "        out = self.layer1(x)\n",
        "        out = self.layer2(out)\n",
        "        out = out.view(out.size(0),-1)\n",
        "        out = F.relu(self.fc1(out))\n",
        "        out = torch.sigmoid(self.fc2(out))\n",
        "        return out"
      ],
      "execution_count": null,
      "outputs": []
    },
    {
      "cell_type": "code",
      "metadata": {
        "id": "CCapckMkPOtE"
      },
      "source": [
        "def weights_init(m):\n",
        "    classname = m.__class__.__name__\n",
        "    import math\n",
        "    if classname.find('Conv') != -1:\n",
        "        n = m.kernel_size[0] * m.kernel_size[1] * m.out_channels\n",
        "        m.weight.data.normal_(0, math.sqrt(2. / n))\n",
        "        if m.bias is not None:\n",
        "            m.bias.data.zero_()\n",
        "    elif classname.find('BatchNorm') != -1:\n",
        "        m.weight.data.fill_(1)\n",
        "        m.bias.data.zero_()\n",
        "    elif classname.find('Linear') != -1:\n",
        "        n = m.weight.size(1)\n",
        "        m.weight.data.normal_(0, 0.01)\n",
        "        m.bias.data = torch.ones(m.bias.data.size())"
      ],
      "execution_count": null,
      "outputs": []
    },
    {
      "cell_type": "markdown",
      "metadata": {
        "id": "0Fke38yY6pI9"
      },
      "source": [
        "##Train"
      ]
    },
    {
      "cell_type": "code",
      "metadata": {
        "id": "d_rbfWkOwd8F"
      },
      "source": [
        "from tqdm import tqdm_notebook\n",
        "from tqdm import tnrange\n",
        "\n",
        "def train(feature_encoder,relation_network,\n",
        "          feature_encoder_optim, relation_network_optim,\n",
        "          train_x, train_y,\n",
        "          n_way, n_support, n_query,\n",
        "          episodes=1000, epochs=1):\n",
        "\n",
        "    # Step 1: neural networks\n",
        "    print(\"init neural networks\")\n",
        "\n",
        "    feature_encoder.cuda()\n",
        "    relation_network.cuda()\n",
        "\n",
        "    feature_encoder_scheduler = optim.lr_scheduler.StepLR(feature_encoder_optim,step_size=100000,gamma=0.5)\n",
        "    relation_network_scheduler = optim.lr_scheduler.StepLR(relation_network_optim,step_size=100000,gamma=0.5)\n",
        "\n",
        "    # Step 2: Start Training\n",
        "    print(\"Training...\")\n",
        "\n",
        "    # last_accuracy = 0.0\n",
        "\n",
        "    for epoch in range(1, epochs+1):\n",
        "        running_loss = 0.0\n",
        "        running_acc = 0.0\n",
        "\n",
        "        pbar = tqdm(total=episodes, desc='Epoch {}'.format(epoch))\n",
        "\n",
        "        for episode in range(episodes):\n",
        "\n",
        "            # batch_dataloader is to batch samples for training\n",
        "            sample_images = extract_sample(n_way, n_support, n_query, train_x, train_y)\n",
        "            sample_images = sample_images.cuda()\n",
        "\n",
        "            x_support = sample_images[:, :n_support].contiguous().view(n_way * n_support, *sample_images.size()[2:])\n",
        "            x_query = sample_images[:, n_support:].contiguous().view(n_way * n_query, *sample_images.size()[2:])\n",
        "\n",
        "            #target indices are 0 ... n_way-1\n",
        "            # target_inds = torch.arange(0, n_way).view(n_way, 1, 1).expand(n_way, n_query, 1).long()\n",
        "            # target_inds = Variable(target_inds, requires_grad=False)\n",
        "            # target_inds = target_inds.cuda()\n",
        "\n",
        "            target_inds = torch.arange(0, n_way).view(n_way, 1).expand(n_way, n_query).reshape(n_way*n_query,1).long()\n",
        "            one_hot_labels = Variable(torch.zeros(n_query*n_way, n_way).scatter_(1, target_inds.view(-1,1), 1), requires_grad=False)\n",
        "            one_hot_labels = one_hot_labels.cuda()\n",
        "\n",
        "            # calculate features\n",
        "            support_features = feature_encoder(x_support) # 5x64*5*5\n",
        "            support_features = support_features.view(n_way,n_support,feature_dim,5,5)\n",
        "            support_features = torch.sum(support_features,1).squeeze(1)\n",
        "            query_features = feature_encoder(x_query) # 20x64*5*5\n",
        "\n",
        "            # calculate relations\n",
        "            # each query sample link to every support samples to calculate relations\n",
        "            # to form a n_way*n_supportx128 matrix for relation network\n",
        "            support_features_ext = support_features.unsqueeze(0).repeat(n_query*n_way,1,1,1,1)\n",
        "            query_features_ext = query_features.unsqueeze(0).repeat(n_way,1,1,1,1)\n",
        "            query_features_ext = torch.transpose(query_features_ext,0,1)\n",
        "\n",
        "            relation_pairs = torch.cat((support_features_ext,query_features_ext),2).view(-1,feature_dim*2,5,5)\n",
        "            relations = relation_network(relation_pairs).view(-1,n_way)\n",
        "\n",
        "            mse = nn.MSELoss().cuda()\n",
        "            loss = mse(relations,one_hot_labels)\n",
        "\n",
        "            _,predict_labels = torch.max(relations.data,1)\n",
        "            _,target_labels = torch.max(one_hot_labels.data,1) # just some lazy code\n",
        "                      \n",
        "            \n",
        "            rewards = [1 if predict_labels[j]==target_labels[j] else 0 for j in range(n_way*n_support)]\n",
        "            acc = (np.sum(rewards)/(n_way*n_support))\n",
        "\n",
        "            running_acc += acc\n",
        "            running_loss += loss\n",
        "\n",
        "            feature_encoder.zero_grad()\n",
        "            relation_network.zero_grad()\n",
        "\n",
        "            loss.backward()\n",
        "\n",
        "            torch.nn.utils.clip_grad_norm_(feature_encoder.parameters(),0.5)\n",
        "            torch.nn.utils.clip_grad_norm_(relation_network.parameters(),0.5)\n",
        "\n",
        "            feature_encoder_optim.step()\n",
        "            relation_network_optim.step()\n",
        "\n",
        "            feature_encoder_scheduler.step()\n",
        "            relation_network_scheduler.step()\n",
        "\n",
        "            # Progress Bar Logging\n",
        "            pbar.update(1)\n",
        "            pbar.set_postfix({'Loss': loss.item(), \n",
        "                              'Acc': acc.item()})\n",
        "        \n",
        "        pbar.close()\n",
        "        epoch_loss = running_loss / episodes\n",
        "        epoch_acc = running_acc / episodes\n",
        "        # print(f'epoch:{epoch+1}; loss: {epoch_loss.value()}; Accuracy: {epoch_acc.value()}')  \n",
        "        print(f'epoch:{epoch}; loss: {epoch_loss.item()}; Accuracy: {epoch_acc.item()}')  "
      ],
      "execution_count": null,
      "outputs": []
    },
    {
      "cell_type": "markdown",
      "metadata": {
        "id": "sCG7JLdZV15J"
      },
      "source": [
        "# Start Trainning"
      ]
    },
    {
      "cell_type": "code",
      "metadata": {
        "id": "eQRFRt5-PgCI"
      },
      "source": [
        "episodes = 10000\n",
        "epochs = 5\n",
        "n_way, n_support, n_query = 5, 1, 5"
      ],
      "execution_count": null,
      "outputs": []
    },
    {
      "cell_type": "code",
      "metadata": {
        "id": "udoEk9qxU6d5"
      },
      "source": [
        "# train_x, train_y = read_images('images_background')"
      ],
      "execution_count": null,
      "outputs": []
    },
    {
      "cell_type": "code",
      "metadata": {
        "id": "HkMNoUFyU5gH"
      },
      "source": [
        "lr= 0.001\n",
        "\n",
        "## Relationnet stuff\n",
        "feature_dim = 64\n",
        "relation_dim = 8\n",
        "\n",
        "feature_encoder = CNNEncoder()\n",
        "relation_network = RelationNetwork(feature_dim,relation_dim)\n",
        "\n",
        "# feature_encoder.apply(weights_init)\n",
        "# relation_network.apply(weights_init)\n",
        "\n",
        "feature_encoder_optim = torch.optim.Adam(feature_encoder.parameters(),lr=lr)\n",
        "relation_network_optim = torch.optim.Adam(relation_network.parameters(),lr=lr)\n",
        "\n"
      ],
      "execution_count": null,
      "outputs": []
    },
    {
      "cell_type": "code",
      "metadata": {
        "id": "EauyeYJbW6hD",
        "outputId": "b6477e3e-302e-434c-a655-f1649af4d103",
        "colab": {
          "base_uri": "https://localhost:8080/",
          "height": 397,
          "referenced_widgets": [
            "79ca772ff89e41e9850642b888c0c349",
            "65dccf92fdc84161af217cf0ec9b612d",
            "dd700fa5c1fa4bca9026dfd34d25006a",
            "c0c8bcbfa21240f19687b4ca9191d334",
            "6e28f348a40143728bdd92ef7869695a",
            "6d4354e5583a49df9b0043890e55a3be",
            "9e7ad9dbcac64f92a0b476bc7f4bd760",
            "d286c3f855ca4b3e895c3e1e4c942a8d",
            "ac5eeefe4a244276844bb57bf4f9e318",
            "77ea7208ca034e708d3324dd7898208d",
            "f53bef128fc849278a7dfd1e1c33113d",
            "750a9eb4cde544f2919eb44b8f7fe96f",
            "c32e8f75b45545d38396d908d5b086e3",
            "530a845dfd5945caa1f6b93ae760b44f",
            "c3a5e330edf24992aaaa2228fc46b5d3",
            "1ca1b3b95b8746daaa8a8e03770ccc71",
            "1cc19e2df6394bbe880ee6c735663e5a",
            "cc9c72e4d8244bf1b2836486cce9a627",
            "d033550817ab449192f4d8067dadedbe",
            "5f2c814dbffa4857b9bcc95b90fab607",
            "8f6175893a434f6aaf97e07a68b7f610",
            "bce61706cb3c4b7999053add44a52a9c",
            "e2ed42988e1742dbadd511f57367e2b4",
            "cbf413873c4c4abbb045e750bc28c5bb",
            "0f747cdd5c374863ae31d0602e87a033",
            "3998d31a74314fbfabb80ce301970b40",
            "dd73352070464808aefe0cd1619d8573",
            "8b06f1426bd84db5a323f2c410e79556",
            "ef834e3364f44340a69cec72bcf65d91",
            "535451f9e82747fbb4bc40f6a649c127",
            "1a70b56b784a4b8c818a2cb8a365717b",
            "c868e91ae3ac4a66924435f0add3df35",
            "98024eee12d64b5ab2fa769afd5b42f9",
            "e5147c5e49394b1eb0e7afbf9e102b88",
            "cae73090e34f41708993d39d7419bcdc",
            "abd0f9d02af04041b8a340c9f5fa07fc",
            "a814e7f741de42328bc96e1f6fbc4f93",
            "900618c346df4e69b6558500e5077aad",
            "48b1bcc7635b4b55939536bf99cb7619",
            "1d87b376fc8846198513f0ecb2926107"
          ]
        }
      },
      "source": [
        "train(feature_encoder,relation_network,\n",
        "          feature_encoder_optim, relation_network_optim,\n",
        "          trainx, trainy,\n",
        "          n_way, n_support, n_query,\n",
        "          episodes=episodes, epochs=epochs)"
      ],
      "execution_count": null,
      "outputs": [
        {
          "output_type": "stream",
          "text": [
            "init neural networks\n",
            "Training...\n"
          ],
          "name": "stdout"
        },
        {
          "output_type": "display_data",
          "data": {
            "application/vnd.jupyter.widget-view+json": {
              "model_id": "79ca772ff89e41e9850642b888c0c349",
              "version_minor": 0,
              "version_major": 2
            },
            "text/plain": [
              "HBox(children=(FloatProgress(value=0.0, description='Epoch 1', max=10000.0, style=ProgressStyle(description_wi…"
            ]
          },
          "metadata": {
            "tags": []
          }
        },
        {
          "output_type": "stream",
          "text": [
            "\n",
            "epoch:1; loss: 0.02089385688304901; Accuracy: 0.9698800000000032\n"
          ],
          "name": "stdout"
        },
        {
          "output_type": "display_data",
          "data": {
            "application/vnd.jupyter.widget-view+json": {
              "model_id": "ac5eeefe4a244276844bb57bf4f9e318",
              "version_minor": 0,
              "version_major": 2
            },
            "text/plain": [
              "HBox(children=(FloatProgress(value=0.0, description='Epoch 2', max=10000.0, style=ProgressStyle(description_wi…"
            ]
          },
          "metadata": {
            "tags": []
          }
        },
        {
          "output_type": "stream",
          "text": [
            "\n",
            "epoch:2; loss: 0.009511022828519344; Accuracy: 0.991680000000001\n"
          ],
          "name": "stdout"
        },
        {
          "output_type": "display_data",
          "data": {
            "application/vnd.jupyter.widget-view+json": {
              "model_id": "1cc19e2df6394bbe880ee6c735663e5a",
              "version_minor": 0,
              "version_major": 2
            },
            "text/plain": [
              "HBox(children=(FloatProgress(value=0.0, description='Epoch 3', max=10000.0, style=ProgressStyle(description_wi…"
            ]
          },
          "metadata": {
            "tags": []
          }
        },
        {
          "output_type": "stream",
          "text": [
            "\n",
            "epoch:3; loss: 0.0074314274825155735; Accuracy: 0.9933000000000002\n"
          ],
          "name": "stdout"
        },
        {
          "output_type": "display_data",
          "data": {
            "application/vnd.jupyter.widget-view+json": {
              "model_id": "0f747cdd5c374863ae31d0602e87a033",
              "version_minor": 0,
              "version_major": 2
            },
            "text/plain": [
              "HBox(children=(FloatProgress(value=0.0, description='Epoch 4', max=10000.0, style=ProgressStyle(description_wi…"
            ]
          },
          "metadata": {
            "tags": []
          }
        },
        {
          "output_type": "stream",
          "text": [
            "\n",
            "epoch:4; loss: 0.0061285123229026794; Accuracy: 0.99516\n"
          ],
          "name": "stdout"
        },
        {
          "output_type": "display_data",
          "data": {
            "application/vnd.jupyter.widget-view+json": {
              "model_id": "98024eee12d64b5ab2fa769afd5b42f9",
              "version_minor": 0,
              "version_major": 2
            },
            "text/plain": [
              "HBox(children=(FloatProgress(value=0.0, description='Epoch 5', max=10000.0, style=ProgressStyle(description_wi…"
            ]
          },
          "metadata": {
            "tags": []
          }
        },
        {
          "output_type": "stream",
          "text": [
            "\n",
            "epoch:5; loss: 0.005565961357206106; Accuracy: 0.995380000000001\n"
          ],
          "name": "stdout"
        }
      ]
    },
    {
      "cell_type": "code",
      "metadata": {
        "id": "cvdXXTSFoZYw"
      },
      "source": [
        "torch.save({'feature_encoder': feature_encoder.state_dict(),\n",
        "            'relation_network': relation_network.state_dict()}, \"Model_para.pth\")"
      ],
      "execution_count": null,
      "outputs": []
    },
    {
      "cell_type": "markdown",
      "metadata": {
        "id": "pJu50gOb8WxU"
      },
      "source": [
        "##Test"
      ]
    },
    {
      "cell_type": "code",
      "metadata": {
        "id": "qCgoOcCaERHH"
      },
      "source": [
        "from tqdm import tqdm_notebook\n",
        "from tqdm import tnrange\n",
        "\n",
        "def test(feature_encoder,relation_network,\n",
        "          feature_encoder_optim, relation_network_optim,\n",
        "          train_x, train_y,\n",
        "          n_way, n_support, n_query,\n",
        "          episodes=1000, epochs=1):\n",
        "\n",
        "    # Step 1: neural networks\n",
        "    print(\"init neural networks\")\n",
        "\n",
        "    feature_encoder.cuda()\n",
        "    relation_network.cuda()\n",
        "    \n",
        "    # Step 2: Start Testing\n",
        "    print(\"Testing...\")\n",
        "\n",
        "    # last_accuracy = 0.0\n",
        "\n",
        "    for epoch in range(1, epochs+1):\n",
        "        running_loss = 0.0\n",
        "        running_acc = 0.0\n",
        "\n",
        "        pbar = tqdm(total=episodes, desc='Epoch {}'.format(epoch))\n",
        "        with torch.no_grad():\n",
        "\n",
        "            for episode in range(episodes):\n",
        "\n",
        "                # batch_dataloader is to batch samples for training\n",
        "                sample_images = extract_sample(n_way, n_support, n_query, train_x, train_y)\n",
        "                sample_images = sample_images.cuda()\n",
        "\n",
        "                x_support = sample_images[:, :n_support].contiguous().view(n_way * n_support, *sample_images.size()[2:])\n",
        "                x_query = sample_images[:, n_support:].contiguous().view(n_way * n_query, *sample_images.size()[2:])\n",
        "\n",
        "                target_inds = torch.arange(0, n_way).view(n_way, 1).expand(n_way, n_query).reshape(n_way*n_query,1).long()\n",
        "                one_hot_labels = Variable(torch.zeros(n_query*n_way, n_way).scatter_(1, target_inds.view(-1,1), 1), requires_grad=False)\n",
        "                one_hot_labels = one_hot_labels.cuda()\n",
        "\n",
        "                # calculate features\n",
        "                support_features = feature_encoder(x_support) # 5x64*5*5\n",
        "                support_features = support_features.view(n_way,n_support,feature_dim,5,5)\n",
        "                support_features = torch.sum(support_features,1).squeeze(1)\n",
        "                query_features = feature_encoder(x_query) # 20x64*5*5\n",
        "\n",
        "                # calculate relations\n",
        "\n",
        "                support_features_ext = support_features.unsqueeze(0).repeat(n_query*n_way,1,1,1,1)\n",
        "                query_features_ext = query_features.unsqueeze(0).repeat(n_way,1,1,1,1)\n",
        "                query_features_ext = torch.transpose(query_features_ext,0,1)\n",
        "\n",
        "                relation_pairs = torch.cat((support_features_ext,query_features_ext),2).view(-1,feature_dim*2,5,5)\n",
        "                relations = relation_network(relation_pairs).view(-1,n_way)\n",
        "\n",
        "                mse = nn.MSELoss().cuda()\n",
        "                loss = mse(relations,one_hot_labels)\n",
        "\n",
        "                _,predict_labels = torch.max(relations.data,1)\n",
        "                _,target_labels = torch.max(one_hot_labels.data,1) # lazy coding\n",
        "                          \n",
        "                \n",
        "                rewards = [1 if predict_labels[j]==target_labels[j] else 0 for j in range(n_way*n_support)]\n",
        "                acc = (np.sum(rewards)/(n_way*n_support))\n",
        "\n",
        "                running_acc += acc\n",
        "                running_loss += loss\n",
        "\n",
        "                # Progress Bar Logging\n",
        "                pbar.update(1)\n",
        "                pbar.set_postfix({'Loss': loss.item(), \n",
        "                                  'Acc': acc.item()})\n",
        "            \n",
        "            pbar.close()\n",
        "            epoch_loss = running_loss / episodes\n",
        "            epoch_acc = running_acc / episodes\n",
        "            # print(f'epoch:{epoch+1}; loss: {epoch_loss.value()}; Accuracy: {epoch_acc.value()}')  \n",
        "            print(f'epoch:{epoch}; loss: {epoch_loss.item()}; Accuracy: {epoch_acc.item()}')  "
      ],
      "execution_count": null,
      "outputs": []
    },
    {
      "cell_type": "code",
      "metadata": {
        "id": "yvyja6x3I6JB"
      },
      "source": [
        "n_way = 5\n",
        "n_support = 1\n",
        "n_query = 5\n",
        "\n",
        "test_episode = 1000"
      ],
      "execution_count": null,
      "outputs": []
    },
    {
      "cell_type": "code",
      "metadata": {
        "id": "oshUfgAeqdS-",
        "outputId": "4d1d90d5-d9f8-405b-b9fc-f4f298116432",
        "colab": {
          "base_uri": "https://localhost:8080/",
          "height": 86,
          "referenced_widgets": [
            "d0f15f4de9014eb7a8032cc6c9809c02",
            "5c559825c692468f860425143c3628b5",
            "fbec84c0a1154c3eab4e06df706e0de5",
            "4d3f1f42feec4cdf8961d4c5f6884e64",
            "e5658553d1d34f15bf017b004332e359",
            "d7048537a70d48a5b3201c163f0d3815",
            "8df9499332b844699855e66e6846974b",
            "87712d0d07b84ce1bfb9160064306b59"
          ]
        }
      },
      "source": [
        "testx, testy = read_images('images_evaluation')"
      ],
      "execution_count": null,
      "outputs": [
        {
          "output_type": "stream",
          "text": [
            "Loading Data\n"
          ],
          "name": "stdout"
        },
        {
          "output_type": "display_data",
          "data": {
            "application/vnd.jupyter.widget-view+json": {
              "model_id": "d0f15f4de9014eb7a8032cc6c9809c02",
              "version_minor": 0,
              "version_major": 2
            },
            "text/plain": [
              "HBox(children=(FloatProgress(value=0.0, max=20.0), HTML(value='')))"
            ]
          },
          "metadata": {
            "tags": []
          }
        },
        {
          "output_type": "stream",
          "text": [
            "\n"
          ],
          "name": "stdout"
        }
      ]
    },
    {
      "cell_type": "code",
      "metadata": {
        "id": "mvIEOUeUje7G"
      },
      "source": [
        "# # Load Checkpoint\n",
        "checkpoint = torch.load('/content/Model_para.pth')\n",
        "feature_encoder = CNNEncoder()\n",
        "relation_network = RelationNetwork(feature_dim,relation_dim)\n",
        "feature_encoder.load_state_dict(checkpoint['feature_encoder'])\n",
        "relation_network.load_state_dict(checkpoint['relation_network'])\n",
        "\n",
        "\n",
        "feature_encoder_optim = torch.optim.Adam(feature_encoder.parameters(),lr=lr)\n",
        "relation_network_optim = torch.optim.Adam(relation_network.parameters(),lr=lr)\n",
        "\n",
        "feature_encoder_scheduler = optim.lr_scheduler.StepLR(feature_encoder_optim,step_size=100000,gamma=0.5)\n",
        "relation_network_scheduler = optim.lr_scheduler.StepLR(relation_network_optim,step_size=100000,gamma=0.5)\n"
      ],
      "execution_count": null,
      "outputs": []
    },
    {
      "cell_type": "code",
      "metadata": {
        "id": "SUcv4efbiuYv",
        "outputId": "fc15753f-5b2f-4a2b-95ba-d10bb41dada6",
        "colab": {
          "base_uri": "https://localhost:8080/",
          "height": 122,
          "referenced_widgets": [
            "9a4a99896ee944e4941c4ca0319acfcc",
            "ef77d55301854fbfbdfb0be32054e6b9",
            "ee9deede79114abfb4a48359e2df6103",
            "c077befaeef44960a835443a54a161ab",
            "59f80424412c4bc3b6e4d365897740b2",
            "9343a14751d643e19f6feb4556d2fdd4",
            "29d2430b4b39447687e0b31ad1f388db",
            "8e15045974fe463a817e07c009c12659"
          ]
        }
      },
      "source": [
        "test(feature_encoder,relation_network,\n",
        "     feature_encoder_optim, relation_network_optim,\n",
        "     testx, testy,\n",
        "     n_way, n_support, n_query,\n",
        "     episodes=test_episode)"
      ],
      "execution_count": null,
      "outputs": [
        {
          "output_type": "stream",
          "text": [
            "init neural networks\n",
            "Testing...\n"
          ],
          "name": "stdout"
        },
        {
          "output_type": "display_data",
          "data": {
            "application/vnd.jupyter.widget-view+json": {
              "model_id": "9a4a99896ee944e4941c4ca0319acfcc",
              "version_minor": 0,
              "version_major": 2
            },
            "text/plain": [
              "HBox(children=(FloatProgress(value=0.0, description='Epoch 1', max=1000.0, style=ProgressStyle(description_wid…"
            ]
          },
          "metadata": {
            "tags": []
          }
        },
        {
          "output_type": "stream",
          "text": [
            "\n",
            "epoch:1; loss: 0.010159987956285477; Accuracy: 0.9877999999999993\n"
          ],
          "name": "stdout"
        }
      ]
    }
  ]
}