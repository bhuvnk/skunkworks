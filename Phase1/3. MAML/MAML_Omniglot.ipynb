{
  "nbformat": 4,
  "nbformat_minor": 0,
  "metadata": {
    "colab": {
      "name": "MAML_Omniglot_v3.ipynb",
      "provenance": [],
      "collapsed_sections": [],
      "toc_visible": true,
      "include_colab_link": true
    },
    "kernelspec": {
      "name": "python3",
      "display_name": "Python 3"
    },
    "accelerator": "GPU",
    "widgets": {
      "application/vnd.jupyter.widget-state+json": {
        "05f3e91c6fb742cd97b09f4e9e10c411": {
          "model_module": "@jupyter-widgets/controls",
          "model_name": "HBoxModel",
          "state": {
            "_view_name": "HBoxView",
            "_dom_classes": [],
            "_model_name": "HBoxModel",
            "_view_module": "@jupyter-widgets/controls",
            "_model_module_version": "1.5.0",
            "_view_count": null,
            "_view_module_version": "1.5.0",
            "box_style": "",
            "layout": "IPY_MODEL_46bf4fe4d73d42009fe2683fd5546124",
            "_model_module": "@jupyter-widgets/controls",
            "children": [
              "IPY_MODEL_e99238107561422f8f924002a762f33e",
              "IPY_MODEL_6ea5e1ea9f5d4f89b1dda5d4bfe4484a"
            ]
          }
        },
        "46bf4fe4d73d42009fe2683fd5546124": {
          "model_module": "@jupyter-widgets/base",
          "model_name": "LayoutModel",
          "state": {
            "_view_name": "LayoutView",
            "grid_template_rows": null,
            "right": null,
            "justify_content": null,
            "_view_module": "@jupyter-widgets/base",
            "overflow": null,
            "_model_module_version": "1.2.0",
            "_view_count": null,
            "flex_flow": null,
            "width": null,
            "min_width": null,
            "border": null,
            "align_items": null,
            "bottom": null,
            "_model_module": "@jupyter-widgets/base",
            "top": null,
            "grid_column": null,
            "overflow_y": null,
            "overflow_x": null,
            "grid_auto_flow": null,
            "grid_area": null,
            "grid_template_columns": null,
            "flex": null,
            "_model_name": "LayoutModel",
            "justify_items": null,
            "grid_row": null,
            "max_height": null,
            "align_content": null,
            "visibility": null,
            "align_self": null,
            "height": null,
            "min_height": null,
            "padding": null,
            "grid_auto_rows": null,
            "grid_gap": null,
            "max_width": null,
            "order": null,
            "_view_module_version": "1.2.0",
            "grid_template_areas": null,
            "object_position": null,
            "object_fit": null,
            "grid_auto_columns": null,
            "margin": null,
            "display": null,
            "left": null
          }
        },
        "e99238107561422f8f924002a762f33e": {
          "model_module": "@jupyter-widgets/controls",
          "model_name": "FloatProgressModel",
          "state": {
            "_view_name": "ProgressView",
            "style": "IPY_MODEL_e527c065a1d1419aa60872d404537320",
            "_dom_classes": [],
            "description": "100%",
            "_model_name": "FloatProgressModel",
            "bar_style": "success",
            "max": 30,
            "_view_module": "@jupyter-widgets/controls",
            "_model_module_version": "1.5.0",
            "value": 30,
            "_view_count": null,
            "_view_module_version": "1.5.0",
            "orientation": "horizontal",
            "min": 0,
            "description_tooltip": null,
            "_model_module": "@jupyter-widgets/controls",
            "layout": "IPY_MODEL_da1030591fac45a085b58063c29dda60"
          }
        },
        "6ea5e1ea9f5d4f89b1dda5d4bfe4484a": {
          "model_module": "@jupyter-widgets/controls",
          "model_name": "HTMLModel",
          "state": {
            "_view_name": "HTMLView",
            "style": "IPY_MODEL_c9784b0b791e466d8b782a62344243d3",
            "_dom_classes": [],
            "description": "",
            "_model_name": "HTMLModel",
            "placeholder": "​",
            "_view_module": "@jupyter-widgets/controls",
            "_model_module_version": "1.5.0",
            "value": " 30/30 [00:02&lt;00:00, 10.53it/s]",
            "_view_count": null,
            "_view_module_version": "1.5.0",
            "description_tooltip": null,
            "_model_module": "@jupyter-widgets/controls",
            "layout": "IPY_MODEL_2d76653e5e614a57a7221baf6621df73"
          }
        },
        "e527c065a1d1419aa60872d404537320": {
          "model_module": "@jupyter-widgets/controls",
          "model_name": "ProgressStyleModel",
          "state": {
            "_view_name": "StyleView",
            "_model_name": "ProgressStyleModel",
            "description_width": "initial",
            "_view_module": "@jupyter-widgets/base",
            "_model_module_version": "1.5.0",
            "_view_count": null,
            "_view_module_version": "1.2.0",
            "bar_color": null,
            "_model_module": "@jupyter-widgets/controls"
          }
        },
        "da1030591fac45a085b58063c29dda60": {
          "model_module": "@jupyter-widgets/base",
          "model_name": "LayoutModel",
          "state": {
            "_view_name": "LayoutView",
            "grid_template_rows": null,
            "right": null,
            "justify_content": null,
            "_view_module": "@jupyter-widgets/base",
            "overflow": null,
            "_model_module_version": "1.2.0",
            "_view_count": null,
            "flex_flow": null,
            "width": null,
            "min_width": null,
            "border": null,
            "align_items": null,
            "bottom": null,
            "_model_module": "@jupyter-widgets/base",
            "top": null,
            "grid_column": null,
            "overflow_y": null,
            "overflow_x": null,
            "grid_auto_flow": null,
            "grid_area": null,
            "grid_template_columns": null,
            "flex": null,
            "_model_name": "LayoutModel",
            "justify_items": null,
            "grid_row": null,
            "max_height": null,
            "align_content": null,
            "visibility": null,
            "align_self": null,
            "height": null,
            "min_height": null,
            "padding": null,
            "grid_auto_rows": null,
            "grid_gap": null,
            "max_width": null,
            "order": null,
            "_view_module_version": "1.2.0",
            "grid_template_areas": null,
            "object_position": null,
            "object_fit": null,
            "grid_auto_columns": null,
            "margin": null,
            "display": null,
            "left": null
          }
        },
        "c9784b0b791e466d8b782a62344243d3": {
          "model_module": "@jupyter-widgets/controls",
          "model_name": "DescriptionStyleModel",
          "state": {
            "_view_name": "StyleView",
            "_model_name": "DescriptionStyleModel",
            "description_width": "",
            "_view_module": "@jupyter-widgets/base",
            "_model_module_version": "1.5.0",
            "_view_count": null,
            "_view_module_version": "1.2.0",
            "_model_module": "@jupyter-widgets/controls"
          }
        },
        "2d76653e5e614a57a7221baf6621df73": {
          "model_module": "@jupyter-widgets/base",
          "model_name": "LayoutModel",
          "state": {
            "_view_name": "LayoutView",
            "grid_template_rows": null,
            "right": null,
            "justify_content": null,
            "_view_module": "@jupyter-widgets/base",
            "overflow": null,
            "_model_module_version": "1.2.0",
            "_view_count": null,
            "flex_flow": null,
            "width": null,
            "min_width": null,
            "border": null,
            "align_items": null,
            "bottom": null,
            "_model_module": "@jupyter-widgets/base",
            "top": null,
            "grid_column": null,
            "overflow_y": null,
            "overflow_x": null,
            "grid_auto_flow": null,
            "grid_area": null,
            "grid_template_columns": null,
            "flex": null,
            "_model_name": "LayoutModel",
            "justify_items": null,
            "grid_row": null,
            "max_height": null,
            "align_content": null,
            "visibility": null,
            "align_self": null,
            "height": null,
            "min_height": null,
            "padding": null,
            "grid_auto_rows": null,
            "grid_gap": null,
            "max_width": null,
            "order": null,
            "_view_module_version": "1.2.0",
            "grid_template_areas": null,
            "object_position": null,
            "object_fit": null,
            "grid_auto_columns": null,
            "margin": null,
            "display": null,
            "left": null
          }
        },
        "13f3120e2dd9423598f0e97fca7cb5fc": {
          "model_module": "@jupyter-widgets/controls",
          "model_name": "HBoxModel",
          "state": {
            "_view_name": "HBoxView",
            "_dom_classes": [],
            "_model_name": "HBoxModel",
            "_view_module": "@jupyter-widgets/controls",
            "_model_module_version": "1.5.0",
            "_view_count": null,
            "_view_module_version": "1.5.0",
            "box_style": "",
            "layout": "IPY_MODEL_6e7d6a94481c473291e772638ad88c8c",
            "_model_module": "@jupyter-widgets/controls",
            "children": [
              "IPY_MODEL_686ce01111554af78d7a57047ab51d30",
              "IPY_MODEL_417d4c58ff9345e1a8dff4f1a5569c2a"
            ]
          }
        },
        "6e7d6a94481c473291e772638ad88c8c": {
          "model_module": "@jupyter-widgets/base",
          "model_name": "LayoutModel",
          "state": {
            "_view_name": "LayoutView",
            "grid_template_rows": null,
            "right": null,
            "justify_content": null,
            "_view_module": "@jupyter-widgets/base",
            "overflow": null,
            "_model_module_version": "1.2.0",
            "_view_count": null,
            "flex_flow": null,
            "width": null,
            "min_width": null,
            "border": null,
            "align_items": null,
            "bottom": null,
            "_model_module": "@jupyter-widgets/base",
            "top": null,
            "grid_column": null,
            "overflow_y": null,
            "overflow_x": null,
            "grid_auto_flow": null,
            "grid_area": null,
            "grid_template_columns": null,
            "flex": null,
            "_model_name": "LayoutModel",
            "justify_items": null,
            "grid_row": null,
            "max_height": null,
            "align_content": null,
            "visibility": null,
            "align_self": null,
            "height": null,
            "min_height": null,
            "padding": null,
            "grid_auto_rows": null,
            "grid_gap": null,
            "max_width": null,
            "order": null,
            "_view_module_version": "1.2.0",
            "grid_template_areas": null,
            "object_position": null,
            "object_fit": null,
            "grid_auto_columns": null,
            "margin": null,
            "display": null,
            "left": null
          }
        },
        "686ce01111554af78d7a57047ab51d30": {
          "model_module": "@jupyter-widgets/controls",
          "model_name": "FloatProgressModel",
          "state": {
            "_view_name": "ProgressView",
            "style": "IPY_MODEL_d420de45a7d94d5f840b67f456d559c1",
            "_dom_classes": [],
            "description": "Epoch 1: 100%",
            "_model_name": "FloatProgressModel",
            "bar_style": "success",
            "max": 100,
            "_view_module": "@jupyter-widgets/controls",
            "_model_module_version": "1.5.0",
            "value": 100,
            "_view_count": null,
            "_view_module_version": "1.5.0",
            "orientation": "horizontal",
            "min": 0,
            "description_tooltip": null,
            "_model_module": "@jupyter-widgets/controls",
            "layout": "IPY_MODEL_fdafe8d8d2b14c57bc0cd6b2375ebdfa"
          }
        },
        "417d4c58ff9345e1a8dff4f1a5569c2a": {
          "model_module": "@jupyter-widgets/controls",
          "model_name": "HTMLModel",
          "state": {
            "_view_name": "HTMLView",
            "style": "IPY_MODEL_caccfb2280754c50b09a43ece57bd1fd",
            "_dom_classes": [],
            "description": "",
            "_model_name": "HTMLModel",
            "placeholder": "​",
            "_view_module": "@jupyter-widgets/controls",
            "_model_module_version": "1.5.0",
            "value": " 100/100 [02:50&lt;00:00,  1.70s/it, Loss=0.646, Accuracy=0.769]",
            "_view_count": null,
            "_view_module_version": "1.5.0",
            "description_tooltip": null,
            "_model_module": "@jupyter-widgets/controls",
            "layout": "IPY_MODEL_54dc81d4c2744de693fdff155b64c5dc"
          }
        },
        "d420de45a7d94d5f840b67f456d559c1": {
          "model_module": "@jupyter-widgets/controls",
          "model_name": "ProgressStyleModel",
          "state": {
            "_view_name": "StyleView",
            "_model_name": "ProgressStyleModel",
            "description_width": "initial",
            "_view_module": "@jupyter-widgets/base",
            "_model_module_version": "1.5.0",
            "_view_count": null,
            "_view_module_version": "1.2.0",
            "bar_color": null,
            "_model_module": "@jupyter-widgets/controls"
          }
        },
        "fdafe8d8d2b14c57bc0cd6b2375ebdfa": {
          "model_module": "@jupyter-widgets/base",
          "model_name": "LayoutModel",
          "state": {
            "_view_name": "LayoutView",
            "grid_template_rows": null,
            "right": null,
            "justify_content": null,
            "_view_module": "@jupyter-widgets/base",
            "overflow": null,
            "_model_module_version": "1.2.0",
            "_view_count": null,
            "flex_flow": null,
            "width": null,
            "min_width": null,
            "border": null,
            "align_items": null,
            "bottom": null,
            "_model_module": "@jupyter-widgets/base",
            "top": null,
            "grid_column": null,
            "overflow_y": null,
            "overflow_x": null,
            "grid_auto_flow": null,
            "grid_area": null,
            "grid_template_columns": null,
            "flex": null,
            "_model_name": "LayoutModel",
            "justify_items": null,
            "grid_row": null,
            "max_height": null,
            "align_content": null,
            "visibility": null,
            "align_self": null,
            "height": null,
            "min_height": null,
            "padding": null,
            "grid_auto_rows": null,
            "grid_gap": null,
            "max_width": null,
            "order": null,
            "_view_module_version": "1.2.0",
            "grid_template_areas": null,
            "object_position": null,
            "object_fit": null,
            "grid_auto_columns": null,
            "margin": null,
            "display": null,
            "left": null
          }
        },
        "caccfb2280754c50b09a43ece57bd1fd": {
          "model_module": "@jupyter-widgets/controls",
          "model_name": "DescriptionStyleModel",
          "state": {
            "_view_name": "StyleView",
            "_model_name": "DescriptionStyleModel",
            "description_width": "",
            "_view_module": "@jupyter-widgets/base",
            "_model_module_version": "1.5.0",
            "_view_count": null,
            "_view_module_version": "1.2.0",
            "_model_module": "@jupyter-widgets/controls"
          }
        },
        "54dc81d4c2744de693fdff155b64c5dc": {
          "model_module": "@jupyter-widgets/base",
          "model_name": "LayoutModel",
          "state": {
            "_view_name": "LayoutView",
            "grid_template_rows": null,
            "right": null,
            "justify_content": null,
            "_view_module": "@jupyter-widgets/base",
            "overflow": null,
            "_model_module_version": "1.2.0",
            "_view_count": null,
            "flex_flow": null,
            "width": null,
            "min_width": null,
            "border": null,
            "align_items": null,
            "bottom": null,
            "_model_module": "@jupyter-widgets/base",
            "top": null,
            "grid_column": null,
            "overflow_y": null,
            "overflow_x": null,
            "grid_auto_flow": null,
            "grid_area": null,
            "grid_template_columns": null,
            "flex": null,
            "_model_name": "LayoutModel",
            "justify_items": null,
            "grid_row": null,
            "max_height": null,
            "align_content": null,
            "visibility": null,
            "align_self": null,
            "height": null,
            "min_height": null,
            "padding": null,
            "grid_auto_rows": null,
            "grid_gap": null,
            "max_width": null,
            "order": null,
            "_view_module_version": "1.2.0",
            "grid_template_areas": null,
            "object_position": null,
            "object_fit": null,
            "grid_auto_columns": null,
            "margin": null,
            "display": null,
            "left": null
          }
        },
        "a4947cff60ec488b9f186e8ee7fdd3df": {
          "model_module": "@jupyter-widgets/controls",
          "model_name": "HBoxModel",
          "state": {
            "_view_name": "HBoxView",
            "_dom_classes": [],
            "_model_name": "HBoxModel",
            "_view_module": "@jupyter-widgets/controls",
            "_model_module_version": "1.5.0",
            "_view_count": null,
            "_view_module_version": "1.5.0",
            "box_style": "",
            "layout": "IPY_MODEL_2fdcc29a0af34100bfce7dd7f3f0d32e",
            "_model_module": "@jupyter-widgets/controls",
            "children": [
              "IPY_MODEL_3fcd0b0979a54a45a45ac7b64c0b61a2",
              "IPY_MODEL_25056fa460094ae8afea1ec7d31b819d"
            ]
          }
        },
        "2fdcc29a0af34100bfce7dd7f3f0d32e": {
          "model_module": "@jupyter-widgets/base",
          "model_name": "LayoutModel",
          "state": {
            "_view_name": "LayoutView",
            "grid_template_rows": null,
            "right": null,
            "justify_content": null,
            "_view_module": "@jupyter-widgets/base",
            "overflow": null,
            "_model_module_version": "1.2.0",
            "_view_count": null,
            "flex_flow": null,
            "width": null,
            "min_width": null,
            "border": null,
            "align_items": null,
            "bottom": null,
            "_model_module": "@jupyter-widgets/base",
            "top": null,
            "grid_column": null,
            "overflow_y": null,
            "overflow_x": null,
            "grid_auto_flow": null,
            "grid_area": null,
            "grid_template_columns": null,
            "flex": null,
            "_model_name": "LayoutModel",
            "justify_items": null,
            "grid_row": null,
            "max_height": null,
            "align_content": null,
            "visibility": null,
            "align_self": null,
            "height": null,
            "min_height": null,
            "padding": null,
            "grid_auto_rows": null,
            "grid_gap": null,
            "max_width": null,
            "order": null,
            "_view_module_version": "1.2.0",
            "grid_template_areas": null,
            "object_position": null,
            "object_fit": null,
            "grid_auto_columns": null,
            "margin": null,
            "display": null,
            "left": null
          }
        },
        "3fcd0b0979a54a45a45ac7b64c0b61a2": {
          "model_module": "@jupyter-widgets/controls",
          "model_name": "FloatProgressModel",
          "state": {
            "_view_name": "ProgressView",
            "style": "IPY_MODEL_2ed7e09ce08146efa38b066d77de36ee",
            "_dom_classes": [],
            "description": "Epoch 2: 100%",
            "_model_name": "FloatProgressModel",
            "bar_style": "success",
            "max": 100,
            "_view_module": "@jupyter-widgets/controls",
            "_model_module_version": "1.5.0",
            "value": 100,
            "_view_count": null,
            "_view_module_version": "1.5.0",
            "orientation": "horizontal",
            "min": 0,
            "description_tooltip": null,
            "_model_module": "@jupyter-widgets/controls",
            "layout": "IPY_MODEL_6b8e193e287c48dfa9bbe0a148385ab4"
          }
        },
        "25056fa460094ae8afea1ec7d31b819d": {
          "model_module": "@jupyter-widgets/controls",
          "model_name": "HTMLModel",
          "state": {
            "_view_name": "HTMLView",
            "style": "IPY_MODEL_f3773920c7d0444f97d52d57772089d2",
            "_dom_classes": [],
            "description": "",
            "_model_name": "HTMLModel",
            "placeholder": "​",
            "_view_module": "@jupyter-widgets/controls",
            "_model_module_version": "1.5.0",
            "value": " 100/100 [05:34&lt;00:00,  3.34s/it, Loss=0.299, Accuracy=0.919]",
            "_view_count": null,
            "_view_module_version": "1.5.0",
            "description_tooltip": null,
            "_model_module": "@jupyter-widgets/controls",
            "layout": "IPY_MODEL_8650fffa998e4f8ab05b4c68d5a08f2a"
          }
        },
        "2ed7e09ce08146efa38b066d77de36ee": {
          "model_module": "@jupyter-widgets/controls",
          "model_name": "ProgressStyleModel",
          "state": {
            "_view_name": "StyleView",
            "_model_name": "ProgressStyleModel",
            "description_width": "initial",
            "_view_module": "@jupyter-widgets/base",
            "_model_module_version": "1.5.0",
            "_view_count": null,
            "_view_module_version": "1.2.0",
            "bar_color": null,
            "_model_module": "@jupyter-widgets/controls"
          }
        },
        "6b8e193e287c48dfa9bbe0a148385ab4": {
          "model_module": "@jupyter-widgets/base",
          "model_name": "LayoutModel",
          "state": {
            "_view_name": "LayoutView",
            "grid_template_rows": null,
            "right": null,
            "justify_content": null,
            "_view_module": "@jupyter-widgets/base",
            "overflow": null,
            "_model_module_version": "1.2.0",
            "_view_count": null,
            "flex_flow": null,
            "width": null,
            "min_width": null,
            "border": null,
            "align_items": null,
            "bottom": null,
            "_model_module": "@jupyter-widgets/base",
            "top": null,
            "grid_column": null,
            "overflow_y": null,
            "overflow_x": null,
            "grid_auto_flow": null,
            "grid_area": null,
            "grid_template_columns": null,
            "flex": null,
            "_model_name": "LayoutModel",
            "justify_items": null,
            "grid_row": null,
            "max_height": null,
            "align_content": null,
            "visibility": null,
            "align_self": null,
            "height": null,
            "min_height": null,
            "padding": null,
            "grid_auto_rows": null,
            "grid_gap": null,
            "max_width": null,
            "order": null,
            "_view_module_version": "1.2.0",
            "grid_template_areas": null,
            "object_position": null,
            "object_fit": null,
            "grid_auto_columns": null,
            "margin": null,
            "display": null,
            "left": null
          }
        },
        "f3773920c7d0444f97d52d57772089d2": {
          "model_module": "@jupyter-widgets/controls",
          "model_name": "DescriptionStyleModel",
          "state": {
            "_view_name": "StyleView",
            "_model_name": "DescriptionStyleModel",
            "description_width": "",
            "_view_module": "@jupyter-widgets/base",
            "_model_module_version": "1.5.0",
            "_view_count": null,
            "_view_module_version": "1.2.0",
            "_model_module": "@jupyter-widgets/controls"
          }
        },
        "8650fffa998e4f8ab05b4c68d5a08f2a": {
          "model_module": "@jupyter-widgets/base",
          "model_name": "LayoutModel",
          "state": {
            "_view_name": "LayoutView",
            "grid_template_rows": null,
            "right": null,
            "justify_content": null,
            "_view_module": "@jupyter-widgets/base",
            "overflow": null,
            "_model_module_version": "1.2.0",
            "_view_count": null,
            "flex_flow": null,
            "width": null,
            "min_width": null,
            "border": null,
            "align_items": null,
            "bottom": null,
            "_model_module": "@jupyter-widgets/base",
            "top": null,
            "grid_column": null,
            "overflow_y": null,
            "overflow_x": null,
            "grid_auto_flow": null,
            "grid_area": null,
            "grid_template_columns": null,
            "flex": null,
            "_model_name": "LayoutModel",
            "justify_items": null,
            "grid_row": null,
            "max_height": null,
            "align_content": null,
            "visibility": null,
            "align_self": null,
            "height": null,
            "min_height": null,
            "padding": null,
            "grid_auto_rows": null,
            "grid_gap": null,
            "max_width": null,
            "order": null,
            "_view_module_version": "1.2.0",
            "grid_template_areas": null,
            "object_position": null,
            "object_fit": null,
            "grid_auto_columns": null,
            "margin": null,
            "display": null,
            "left": null
          }
        },
        "04b742a2e8e14473844d9b61ac169f23": {
          "model_module": "@jupyter-widgets/controls",
          "model_name": "HBoxModel",
          "state": {
            "_view_name": "HBoxView",
            "_dom_classes": [],
            "_model_name": "HBoxModel",
            "_view_module": "@jupyter-widgets/controls",
            "_model_module_version": "1.5.0",
            "_view_count": null,
            "_view_module_version": "1.5.0",
            "box_style": "",
            "layout": "IPY_MODEL_d6134aed79ec48928fce3f6199367088",
            "_model_module": "@jupyter-widgets/controls",
            "children": [
              "IPY_MODEL_44f4c70a8a5e4441b59202bd65572ea3",
              "IPY_MODEL_7b0c07a64b034b999347b7f956f6a2c8"
            ]
          }
        },
        "d6134aed79ec48928fce3f6199367088": {
          "model_module": "@jupyter-widgets/base",
          "model_name": "LayoutModel",
          "state": {
            "_view_name": "LayoutView",
            "grid_template_rows": null,
            "right": null,
            "justify_content": null,
            "_view_module": "@jupyter-widgets/base",
            "overflow": null,
            "_model_module_version": "1.2.0",
            "_view_count": null,
            "flex_flow": null,
            "width": null,
            "min_width": null,
            "border": null,
            "align_items": null,
            "bottom": null,
            "_model_module": "@jupyter-widgets/base",
            "top": null,
            "grid_column": null,
            "overflow_y": null,
            "overflow_x": null,
            "grid_auto_flow": null,
            "grid_area": null,
            "grid_template_columns": null,
            "flex": null,
            "_model_name": "LayoutModel",
            "justify_items": null,
            "grid_row": null,
            "max_height": null,
            "align_content": null,
            "visibility": null,
            "align_self": null,
            "height": null,
            "min_height": null,
            "padding": null,
            "grid_auto_rows": null,
            "grid_gap": null,
            "max_width": null,
            "order": null,
            "_view_module_version": "1.2.0",
            "grid_template_areas": null,
            "object_position": null,
            "object_fit": null,
            "grid_auto_columns": null,
            "margin": null,
            "display": null,
            "left": null
          }
        },
        "44f4c70a8a5e4441b59202bd65572ea3": {
          "model_module": "@jupyter-widgets/controls",
          "model_name": "FloatProgressModel",
          "state": {
            "_view_name": "ProgressView",
            "style": "IPY_MODEL_f0004fa4ab474678a5edde31781d8739",
            "_dom_classes": [],
            "description": "Epoch 3: 100%",
            "_model_name": "FloatProgressModel",
            "bar_style": "success",
            "max": 100,
            "_view_module": "@jupyter-widgets/controls",
            "_model_module_version": "1.5.0",
            "value": 100,
            "_view_count": null,
            "_view_module_version": "1.5.0",
            "orientation": "horizontal",
            "min": 0,
            "description_tooltip": null,
            "_model_module": "@jupyter-widgets/controls",
            "layout": "IPY_MODEL_26b8d441e5a5454b8f5e0e6b90c997d4"
          }
        },
        "7b0c07a64b034b999347b7f956f6a2c8": {
          "model_module": "@jupyter-widgets/controls",
          "model_name": "HTMLModel",
          "state": {
            "_view_name": "HTMLView",
            "style": "IPY_MODEL_b5717eeb2b0e4f69b87aa4bc5596af31",
            "_dom_classes": [],
            "description": "",
            "_model_name": "HTMLModel",
            "placeholder": "​",
            "_view_module": "@jupyter-widgets/controls",
            "_model_module_version": "1.5.0",
            "value": " 100/100 [02:45&lt;00:00,  1.66s/it, Loss=0.229, Accuracy=0.924]",
            "_view_count": null,
            "_view_module_version": "1.5.0",
            "description_tooltip": null,
            "_model_module": "@jupyter-widgets/controls",
            "layout": "IPY_MODEL_8aaabb474b2840d2afe161080b78fe53"
          }
        },
        "f0004fa4ab474678a5edde31781d8739": {
          "model_module": "@jupyter-widgets/controls",
          "model_name": "ProgressStyleModel",
          "state": {
            "_view_name": "StyleView",
            "_model_name": "ProgressStyleModel",
            "description_width": "initial",
            "_view_module": "@jupyter-widgets/base",
            "_model_module_version": "1.5.0",
            "_view_count": null,
            "_view_module_version": "1.2.0",
            "bar_color": null,
            "_model_module": "@jupyter-widgets/controls"
          }
        },
        "26b8d441e5a5454b8f5e0e6b90c997d4": {
          "model_module": "@jupyter-widgets/base",
          "model_name": "LayoutModel",
          "state": {
            "_view_name": "LayoutView",
            "grid_template_rows": null,
            "right": null,
            "justify_content": null,
            "_view_module": "@jupyter-widgets/base",
            "overflow": null,
            "_model_module_version": "1.2.0",
            "_view_count": null,
            "flex_flow": null,
            "width": null,
            "min_width": null,
            "border": null,
            "align_items": null,
            "bottom": null,
            "_model_module": "@jupyter-widgets/base",
            "top": null,
            "grid_column": null,
            "overflow_y": null,
            "overflow_x": null,
            "grid_auto_flow": null,
            "grid_area": null,
            "grid_template_columns": null,
            "flex": null,
            "_model_name": "LayoutModel",
            "justify_items": null,
            "grid_row": null,
            "max_height": null,
            "align_content": null,
            "visibility": null,
            "align_self": null,
            "height": null,
            "min_height": null,
            "padding": null,
            "grid_auto_rows": null,
            "grid_gap": null,
            "max_width": null,
            "order": null,
            "_view_module_version": "1.2.0",
            "grid_template_areas": null,
            "object_position": null,
            "object_fit": null,
            "grid_auto_columns": null,
            "margin": null,
            "display": null,
            "left": null
          }
        },
        "b5717eeb2b0e4f69b87aa4bc5596af31": {
          "model_module": "@jupyter-widgets/controls",
          "model_name": "DescriptionStyleModel",
          "state": {
            "_view_name": "StyleView",
            "_model_name": "DescriptionStyleModel",
            "description_width": "",
            "_view_module": "@jupyter-widgets/base",
            "_model_module_version": "1.5.0",
            "_view_count": null,
            "_view_module_version": "1.2.0",
            "_model_module": "@jupyter-widgets/controls"
          }
        },
        "8aaabb474b2840d2afe161080b78fe53": {
          "model_module": "@jupyter-widgets/base",
          "model_name": "LayoutModel",
          "state": {
            "_view_name": "LayoutView",
            "grid_template_rows": null,
            "right": null,
            "justify_content": null,
            "_view_module": "@jupyter-widgets/base",
            "overflow": null,
            "_model_module_version": "1.2.0",
            "_view_count": null,
            "flex_flow": null,
            "width": null,
            "min_width": null,
            "border": null,
            "align_items": null,
            "bottom": null,
            "_model_module": "@jupyter-widgets/base",
            "top": null,
            "grid_column": null,
            "overflow_y": null,
            "overflow_x": null,
            "grid_auto_flow": null,
            "grid_area": null,
            "grid_template_columns": null,
            "flex": null,
            "_model_name": "LayoutModel",
            "justify_items": null,
            "grid_row": null,
            "max_height": null,
            "align_content": null,
            "visibility": null,
            "align_self": null,
            "height": null,
            "min_height": null,
            "padding": null,
            "grid_auto_rows": null,
            "grid_gap": null,
            "max_width": null,
            "order": null,
            "_view_module_version": "1.2.0",
            "grid_template_areas": null,
            "object_position": null,
            "object_fit": null,
            "grid_auto_columns": null,
            "margin": null,
            "display": null,
            "left": null
          }
        },
        "2e944a5ddf3042f682c49c943ab46815": {
          "model_module": "@jupyter-widgets/controls",
          "model_name": "HBoxModel",
          "state": {
            "_view_name": "HBoxView",
            "_dom_classes": [],
            "_model_name": "HBoxModel",
            "_view_module": "@jupyter-widgets/controls",
            "_model_module_version": "1.5.0",
            "_view_count": null,
            "_view_module_version": "1.5.0",
            "box_style": "",
            "layout": "IPY_MODEL_80aa777175df414cb47c3b3233b7abf4",
            "_model_module": "@jupyter-widgets/controls",
            "children": [
              "IPY_MODEL_362b938712814c5aad6bc01bd0c683d5",
              "IPY_MODEL_65a67d051d714bca8ccfa503afc559b6"
            ]
          }
        },
        "80aa777175df414cb47c3b3233b7abf4": {
          "model_module": "@jupyter-widgets/base",
          "model_name": "LayoutModel",
          "state": {
            "_view_name": "LayoutView",
            "grid_template_rows": null,
            "right": null,
            "justify_content": null,
            "_view_module": "@jupyter-widgets/base",
            "overflow": null,
            "_model_module_version": "1.2.0",
            "_view_count": null,
            "flex_flow": null,
            "width": null,
            "min_width": null,
            "border": null,
            "align_items": null,
            "bottom": null,
            "_model_module": "@jupyter-widgets/base",
            "top": null,
            "grid_column": null,
            "overflow_y": null,
            "overflow_x": null,
            "grid_auto_flow": null,
            "grid_area": null,
            "grid_template_columns": null,
            "flex": null,
            "_model_name": "LayoutModel",
            "justify_items": null,
            "grid_row": null,
            "max_height": null,
            "align_content": null,
            "visibility": null,
            "align_self": null,
            "height": null,
            "min_height": null,
            "padding": null,
            "grid_auto_rows": null,
            "grid_gap": null,
            "max_width": null,
            "order": null,
            "_view_module_version": "1.2.0",
            "grid_template_areas": null,
            "object_position": null,
            "object_fit": null,
            "grid_auto_columns": null,
            "margin": null,
            "display": null,
            "left": null
          }
        },
        "362b938712814c5aad6bc01bd0c683d5": {
          "model_module": "@jupyter-widgets/controls",
          "model_name": "FloatProgressModel",
          "state": {
            "_view_name": "ProgressView",
            "style": "IPY_MODEL_41c7aa9c6fc54c3fa817927287abbb4b",
            "_dom_classes": [],
            "description": "Epoch 4: 100%",
            "_model_name": "FloatProgressModel",
            "bar_style": "success",
            "max": 100,
            "_view_module": "@jupyter-widgets/controls",
            "_model_module_version": "1.5.0",
            "value": 100,
            "_view_count": null,
            "_view_module_version": "1.5.0",
            "orientation": "horizontal",
            "min": 0,
            "description_tooltip": null,
            "_model_module": "@jupyter-widgets/controls",
            "layout": "IPY_MODEL_6fdbab7ca76241c2a594f198bde43df3"
          }
        },
        "65a67d051d714bca8ccfa503afc559b6": {
          "model_module": "@jupyter-widgets/controls",
          "model_name": "HTMLModel",
          "state": {
            "_view_name": "HTMLView",
            "style": "IPY_MODEL_bf7fd8febb9f4df9b89969ab33d012ab",
            "_dom_classes": [],
            "description": "",
            "_model_name": "HTMLModel",
            "placeholder": "​",
            "_view_module": "@jupyter-widgets/controls",
            "_model_module_version": "1.5.0",
            "value": " 100/100 [02:41&lt;00:00,  1.62s/it, Loss=0.199, Accuracy=0.94]",
            "_view_count": null,
            "_view_module_version": "1.5.0",
            "description_tooltip": null,
            "_model_module": "@jupyter-widgets/controls",
            "layout": "IPY_MODEL_3e9ca549df244522be8fbdf7108bc5b4"
          }
        },
        "41c7aa9c6fc54c3fa817927287abbb4b": {
          "model_module": "@jupyter-widgets/controls",
          "model_name": "ProgressStyleModel",
          "state": {
            "_view_name": "StyleView",
            "_model_name": "ProgressStyleModel",
            "description_width": "initial",
            "_view_module": "@jupyter-widgets/base",
            "_model_module_version": "1.5.0",
            "_view_count": null,
            "_view_module_version": "1.2.0",
            "bar_color": null,
            "_model_module": "@jupyter-widgets/controls"
          }
        },
        "6fdbab7ca76241c2a594f198bde43df3": {
          "model_module": "@jupyter-widgets/base",
          "model_name": "LayoutModel",
          "state": {
            "_view_name": "LayoutView",
            "grid_template_rows": null,
            "right": null,
            "justify_content": null,
            "_view_module": "@jupyter-widgets/base",
            "overflow": null,
            "_model_module_version": "1.2.0",
            "_view_count": null,
            "flex_flow": null,
            "width": null,
            "min_width": null,
            "border": null,
            "align_items": null,
            "bottom": null,
            "_model_module": "@jupyter-widgets/base",
            "top": null,
            "grid_column": null,
            "overflow_y": null,
            "overflow_x": null,
            "grid_auto_flow": null,
            "grid_area": null,
            "grid_template_columns": null,
            "flex": null,
            "_model_name": "LayoutModel",
            "justify_items": null,
            "grid_row": null,
            "max_height": null,
            "align_content": null,
            "visibility": null,
            "align_self": null,
            "height": null,
            "min_height": null,
            "padding": null,
            "grid_auto_rows": null,
            "grid_gap": null,
            "max_width": null,
            "order": null,
            "_view_module_version": "1.2.0",
            "grid_template_areas": null,
            "object_position": null,
            "object_fit": null,
            "grid_auto_columns": null,
            "margin": null,
            "display": null,
            "left": null
          }
        },
        "bf7fd8febb9f4df9b89969ab33d012ab": {
          "model_module": "@jupyter-widgets/controls",
          "model_name": "DescriptionStyleModel",
          "state": {
            "_view_name": "StyleView",
            "_model_name": "DescriptionStyleModel",
            "description_width": "",
            "_view_module": "@jupyter-widgets/base",
            "_model_module_version": "1.5.0",
            "_view_count": null,
            "_view_module_version": "1.2.0",
            "_model_module": "@jupyter-widgets/controls"
          }
        },
        "3e9ca549df244522be8fbdf7108bc5b4": {
          "model_module": "@jupyter-widgets/base",
          "model_name": "LayoutModel",
          "state": {
            "_view_name": "LayoutView",
            "grid_template_rows": null,
            "right": null,
            "justify_content": null,
            "_view_module": "@jupyter-widgets/base",
            "overflow": null,
            "_model_module_version": "1.2.0",
            "_view_count": null,
            "flex_flow": null,
            "width": null,
            "min_width": null,
            "border": null,
            "align_items": null,
            "bottom": null,
            "_model_module": "@jupyter-widgets/base",
            "top": null,
            "grid_column": null,
            "overflow_y": null,
            "overflow_x": null,
            "grid_auto_flow": null,
            "grid_area": null,
            "grid_template_columns": null,
            "flex": null,
            "_model_name": "LayoutModel",
            "justify_items": null,
            "grid_row": null,
            "max_height": null,
            "align_content": null,
            "visibility": null,
            "align_self": null,
            "height": null,
            "min_height": null,
            "padding": null,
            "grid_auto_rows": null,
            "grid_gap": null,
            "max_width": null,
            "order": null,
            "_view_module_version": "1.2.0",
            "grid_template_areas": null,
            "object_position": null,
            "object_fit": null,
            "grid_auto_columns": null,
            "margin": null,
            "display": null,
            "left": null
          }
        },
        "106ec1e80d7441428f20ae7335e371a4": {
          "model_module": "@jupyter-widgets/controls",
          "model_name": "HBoxModel",
          "state": {
            "_view_name": "HBoxView",
            "_dom_classes": [],
            "_model_name": "HBoxModel",
            "_view_module": "@jupyter-widgets/controls",
            "_model_module_version": "1.5.0",
            "_view_count": null,
            "_view_module_version": "1.5.0",
            "box_style": "",
            "layout": "IPY_MODEL_a5e712fc9b1042418476b81ee31ddea5",
            "_model_module": "@jupyter-widgets/controls",
            "children": [
              "IPY_MODEL_03578d7f3fa84f8cb932db4a17f7eccd",
              "IPY_MODEL_0e615ecd1e7b425abf272144667998f7"
            ]
          }
        },
        "a5e712fc9b1042418476b81ee31ddea5": {
          "model_module": "@jupyter-widgets/base",
          "model_name": "LayoutModel",
          "state": {
            "_view_name": "LayoutView",
            "grid_template_rows": null,
            "right": null,
            "justify_content": null,
            "_view_module": "@jupyter-widgets/base",
            "overflow": null,
            "_model_module_version": "1.2.0",
            "_view_count": null,
            "flex_flow": null,
            "width": null,
            "min_width": null,
            "border": null,
            "align_items": null,
            "bottom": null,
            "_model_module": "@jupyter-widgets/base",
            "top": null,
            "grid_column": null,
            "overflow_y": null,
            "overflow_x": null,
            "grid_auto_flow": null,
            "grid_area": null,
            "grid_template_columns": null,
            "flex": null,
            "_model_name": "LayoutModel",
            "justify_items": null,
            "grid_row": null,
            "max_height": null,
            "align_content": null,
            "visibility": null,
            "align_self": null,
            "height": null,
            "min_height": null,
            "padding": null,
            "grid_auto_rows": null,
            "grid_gap": null,
            "max_width": null,
            "order": null,
            "_view_module_version": "1.2.0",
            "grid_template_areas": null,
            "object_position": null,
            "object_fit": null,
            "grid_auto_columns": null,
            "margin": null,
            "display": null,
            "left": null
          }
        },
        "03578d7f3fa84f8cb932db4a17f7eccd": {
          "model_module": "@jupyter-widgets/controls",
          "model_name": "FloatProgressModel",
          "state": {
            "_view_name": "ProgressView",
            "style": "IPY_MODEL_4cec96f2a4984152bd2918d47ed632a3",
            "_dom_classes": [],
            "description": "Epoch 5: 100%",
            "_model_name": "FloatProgressModel",
            "bar_style": "success",
            "max": 100,
            "_view_module": "@jupyter-widgets/controls",
            "_model_module_version": "1.5.0",
            "value": 100,
            "_view_count": null,
            "_view_module_version": "1.5.0",
            "orientation": "horizontal",
            "min": 0,
            "description_tooltip": null,
            "_model_module": "@jupyter-widgets/controls",
            "layout": "IPY_MODEL_2578f4ae6f7343f3afaf5abe2494b514"
          }
        },
        "0e615ecd1e7b425abf272144667998f7": {
          "model_module": "@jupyter-widgets/controls",
          "model_name": "HTMLModel",
          "state": {
            "_view_name": "HTMLView",
            "style": "IPY_MODEL_2c1fb422d2a348d68ec6375fa1efa503",
            "_dom_classes": [],
            "description": "",
            "_model_name": "HTMLModel",
            "placeholder": "​",
            "_view_module": "@jupyter-widgets/controls",
            "_model_module_version": "1.5.0",
            "value": " 100/100 [02:38&lt;00:00,  1.58s/it, Loss=0.127, Accuracy=0.965]",
            "_view_count": null,
            "_view_module_version": "1.5.0",
            "description_tooltip": null,
            "_model_module": "@jupyter-widgets/controls",
            "layout": "IPY_MODEL_dcc39544779b4727bc3ce92d211fee21"
          }
        },
        "4cec96f2a4984152bd2918d47ed632a3": {
          "model_module": "@jupyter-widgets/controls",
          "model_name": "ProgressStyleModel",
          "state": {
            "_view_name": "StyleView",
            "_model_name": "ProgressStyleModel",
            "description_width": "initial",
            "_view_module": "@jupyter-widgets/base",
            "_model_module_version": "1.5.0",
            "_view_count": null,
            "_view_module_version": "1.2.0",
            "bar_color": null,
            "_model_module": "@jupyter-widgets/controls"
          }
        },
        "2578f4ae6f7343f3afaf5abe2494b514": {
          "model_module": "@jupyter-widgets/base",
          "model_name": "LayoutModel",
          "state": {
            "_view_name": "LayoutView",
            "grid_template_rows": null,
            "right": null,
            "justify_content": null,
            "_view_module": "@jupyter-widgets/base",
            "overflow": null,
            "_model_module_version": "1.2.0",
            "_view_count": null,
            "flex_flow": null,
            "width": null,
            "min_width": null,
            "border": null,
            "align_items": null,
            "bottom": null,
            "_model_module": "@jupyter-widgets/base",
            "top": null,
            "grid_column": null,
            "overflow_y": null,
            "overflow_x": null,
            "grid_auto_flow": null,
            "grid_area": null,
            "grid_template_columns": null,
            "flex": null,
            "_model_name": "LayoutModel",
            "justify_items": null,
            "grid_row": null,
            "max_height": null,
            "align_content": null,
            "visibility": null,
            "align_self": null,
            "height": null,
            "min_height": null,
            "padding": null,
            "grid_auto_rows": null,
            "grid_gap": null,
            "max_width": null,
            "order": null,
            "_view_module_version": "1.2.0",
            "grid_template_areas": null,
            "object_position": null,
            "object_fit": null,
            "grid_auto_columns": null,
            "margin": null,
            "display": null,
            "left": null
          }
        },
        "2c1fb422d2a348d68ec6375fa1efa503": {
          "model_module": "@jupyter-widgets/controls",
          "model_name": "DescriptionStyleModel",
          "state": {
            "_view_name": "StyleView",
            "_model_name": "DescriptionStyleModel",
            "description_width": "",
            "_view_module": "@jupyter-widgets/base",
            "_model_module_version": "1.5.0",
            "_view_count": null,
            "_view_module_version": "1.2.0",
            "_model_module": "@jupyter-widgets/controls"
          }
        },
        "dcc39544779b4727bc3ce92d211fee21": {
          "model_module": "@jupyter-widgets/base",
          "model_name": "LayoutModel",
          "state": {
            "_view_name": "LayoutView",
            "grid_template_rows": null,
            "right": null,
            "justify_content": null,
            "_view_module": "@jupyter-widgets/base",
            "overflow": null,
            "_model_module_version": "1.2.0",
            "_view_count": null,
            "flex_flow": null,
            "width": null,
            "min_width": null,
            "border": null,
            "align_items": null,
            "bottom": null,
            "_model_module": "@jupyter-widgets/base",
            "top": null,
            "grid_column": null,
            "overflow_y": null,
            "overflow_x": null,
            "grid_auto_flow": null,
            "grid_area": null,
            "grid_template_columns": null,
            "flex": null,
            "_model_name": "LayoutModel",
            "justify_items": null,
            "grid_row": null,
            "max_height": null,
            "align_content": null,
            "visibility": null,
            "align_self": null,
            "height": null,
            "min_height": null,
            "padding": null,
            "grid_auto_rows": null,
            "grid_gap": null,
            "max_width": null,
            "order": null,
            "_view_module_version": "1.2.0",
            "grid_template_areas": null,
            "object_position": null,
            "object_fit": null,
            "grid_auto_columns": null,
            "margin": null,
            "display": null,
            "left": null
          }
        },
        "496ae0c51fd74be9bc7a317f54e89d6b": {
          "model_module": "@jupyter-widgets/controls",
          "model_name": "HBoxModel",
          "state": {
            "_view_name": "HBoxView",
            "_dom_classes": [],
            "_model_name": "HBoxModel",
            "_view_module": "@jupyter-widgets/controls",
            "_model_module_version": "1.5.0",
            "_view_count": null,
            "_view_module_version": "1.5.0",
            "box_style": "",
            "layout": "IPY_MODEL_04b01e71b9b44635abedc04640bfbcd9",
            "_model_module": "@jupyter-widgets/controls",
            "children": [
              "IPY_MODEL_c63dd7a4c09c4d1da5511f5835b8ef0b",
              "IPY_MODEL_27bfe8a672f541dcb071c0173c82536c"
            ]
          }
        },
        "04b01e71b9b44635abedc04640bfbcd9": {
          "model_module": "@jupyter-widgets/base",
          "model_name": "LayoutModel",
          "state": {
            "_view_name": "LayoutView",
            "grid_template_rows": null,
            "right": null,
            "justify_content": null,
            "_view_module": "@jupyter-widgets/base",
            "overflow": null,
            "_model_module_version": "1.2.0",
            "_view_count": null,
            "flex_flow": null,
            "width": null,
            "min_width": null,
            "border": null,
            "align_items": null,
            "bottom": null,
            "_model_module": "@jupyter-widgets/base",
            "top": null,
            "grid_column": null,
            "overflow_y": null,
            "overflow_x": null,
            "grid_auto_flow": null,
            "grid_area": null,
            "grid_template_columns": null,
            "flex": null,
            "_model_name": "LayoutModel",
            "justify_items": null,
            "grid_row": null,
            "max_height": null,
            "align_content": null,
            "visibility": null,
            "align_self": null,
            "height": null,
            "min_height": null,
            "padding": null,
            "grid_auto_rows": null,
            "grid_gap": null,
            "max_width": null,
            "order": null,
            "_view_module_version": "1.2.0",
            "grid_template_areas": null,
            "object_position": null,
            "object_fit": null,
            "grid_auto_columns": null,
            "margin": null,
            "display": null,
            "left": null
          }
        },
        "c63dd7a4c09c4d1da5511f5835b8ef0b": {
          "model_module": "@jupyter-widgets/controls",
          "model_name": "FloatProgressModel",
          "state": {
            "_view_name": "ProgressView",
            "style": "IPY_MODEL_aca53363b07648c194aceeae1d12d68c",
            "_dom_classes": [],
            "description": "100%",
            "_model_name": "FloatProgressModel",
            "bar_style": "success",
            "max": 20,
            "_view_module": "@jupyter-widgets/controls",
            "_model_module_version": "1.5.0",
            "value": 20,
            "_view_count": null,
            "_view_module_version": "1.5.0",
            "orientation": "horizontal",
            "min": 0,
            "description_tooltip": null,
            "_model_module": "@jupyter-widgets/controls",
            "layout": "IPY_MODEL_084db8b991b749eb8bbd7f3596bd1ab1"
          }
        },
        "27bfe8a672f541dcb071c0173c82536c": {
          "model_module": "@jupyter-widgets/controls",
          "model_name": "HTMLModel",
          "state": {
            "_view_name": "HTMLView",
            "style": "IPY_MODEL_5dec6343a4824d6b9bda02420aabacdf",
            "_dom_classes": [],
            "description": "",
            "_model_name": "HTMLModel",
            "placeholder": "​",
            "_view_module": "@jupyter-widgets/controls",
            "_model_module_version": "1.5.0",
            "value": " 20/20 [00:01&lt;00:00, 11.18it/s]",
            "_view_count": null,
            "_view_module_version": "1.5.0",
            "description_tooltip": null,
            "_model_module": "@jupyter-widgets/controls",
            "layout": "IPY_MODEL_e3995f57152d4525ac44a109ef1321a6"
          }
        },
        "aca53363b07648c194aceeae1d12d68c": {
          "model_module": "@jupyter-widgets/controls",
          "model_name": "ProgressStyleModel",
          "state": {
            "_view_name": "StyleView",
            "_model_name": "ProgressStyleModel",
            "description_width": "initial",
            "_view_module": "@jupyter-widgets/base",
            "_model_module_version": "1.5.0",
            "_view_count": null,
            "_view_module_version": "1.2.0",
            "bar_color": null,
            "_model_module": "@jupyter-widgets/controls"
          }
        },
        "084db8b991b749eb8bbd7f3596bd1ab1": {
          "model_module": "@jupyter-widgets/base",
          "model_name": "LayoutModel",
          "state": {
            "_view_name": "LayoutView",
            "grid_template_rows": null,
            "right": null,
            "justify_content": null,
            "_view_module": "@jupyter-widgets/base",
            "overflow": null,
            "_model_module_version": "1.2.0",
            "_view_count": null,
            "flex_flow": null,
            "width": null,
            "min_width": null,
            "border": null,
            "align_items": null,
            "bottom": null,
            "_model_module": "@jupyter-widgets/base",
            "top": null,
            "grid_column": null,
            "overflow_y": null,
            "overflow_x": null,
            "grid_auto_flow": null,
            "grid_area": null,
            "grid_template_columns": null,
            "flex": null,
            "_model_name": "LayoutModel",
            "justify_items": null,
            "grid_row": null,
            "max_height": null,
            "align_content": null,
            "visibility": null,
            "align_self": null,
            "height": null,
            "min_height": null,
            "padding": null,
            "grid_auto_rows": null,
            "grid_gap": null,
            "max_width": null,
            "order": null,
            "_view_module_version": "1.2.0",
            "grid_template_areas": null,
            "object_position": null,
            "object_fit": null,
            "grid_auto_columns": null,
            "margin": null,
            "display": null,
            "left": null
          }
        },
        "5dec6343a4824d6b9bda02420aabacdf": {
          "model_module": "@jupyter-widgets/controls",
          "model_name": "DescriptionStyleModel",
          "state": {
            "_view_name": "StyleView",
            "_model_name": "DescriptionStyleModel",
            "description_width": "",
            "_view_module": "@jupyter-widgets/base",
            "_model_module_version": "1.5.0",
            "_view_count": null,
            "_view_module_version": "1.2.0",
            "_model_module": "@jupyter-widgets/controls"
          }
        },
        "e3995f57152d4525ac44a109ef1321a6": {
          "model_module": "@jupyter-widgets/base",
          "model_name": "LayoutModel",
          "state": {
            "_view_name": "LayoutView",
            "grid_template_rows": null,
            "right": null,
            "justify_content": null,
            "_view_module": "@jupyter-widgets/base",
            "overflow": null,
            "_model_module_version": "1.2.0",
            "_view_count": null,
            "flex_flow": null,
            "width": null,
            "min_width": null,
            "border": null,
            "align_items": null,
            "bottom": null,
            "_model_module": "@jupyter-widgets/base",
            "top": null,
            "grid_column": null,
            "overflow_y": null,
            "overflow_x": null,
            "grid_auto_flow": null,
            "grid_area": null,
            "grid_template_columns": null,
            "flex": null,
            "_model_name": "LayoutModel",
            "justify_items": null,
            "grid_row": null,
            "max_height": null,
            "align_content": null,
            "visibility": null,
            "align_self": null,
            "height": null,
            "min_height": null,
            "padding": null,
            "grid_auto_rows": null,
            "grid_gap": null,
            "max_width": null,
            "order": null,
            "_view_module_version": "1.2.0",
            "grid_template_areas": null,
            "object_position": null,
            "object_fit": null,
            "grid_auto_columns": null,
            "margin": null,
            "display": null,
            "left": null
          }
        },
        "f5c22f9f32a44cc59b1cd3a3fe3823d3": {
          "model_module": "@jupyter-widgets/controls",
          "model_name": "HBoxModel",
          "state": {
            "_view_name": "HBoxView",
            "_dom_classes": [],
            "_model_name": "HBoxModel",
            "_view_module": "@jupyter-widgets/controls",
            "_model_module_version": "1.5.0",
            "_view_count": null,
            "_view_module_version": "1.5.0",
            "box_style": "",
            "layout": "IPY_MODEL_42334be5e41f4fb98e6d9d6b65a2424b",
            "_model_module": "@jupyter-widgets/controls",
            "children": [
              "IPY_MODEL_dae37c26d2884ca39dc9e2166bfe7faa",
              "IPY_MODEL_43035a7b35d341f08c05843e02bab151"
            ]
          }
        },
        "42334be5e41f4fb98e6d9d6b65a2424b": {
          "model_module": "@jupyter-widgets/base",
          "model_name": "LayoutModel",
          "state": {
            "_view_name": "LayoutView",
            "grid_template_rows": null,
            "right": null,
            "justify_content": null,
            "_view_module": "@jupyter-widgets/base",
            "overflow": null,
            "_model_module_version": "1.2.0",
            "_view_count": null,
            "flex_flow": null,
            "width": null,
            "min_width": null,
            "border": null,
            "align_items": null,
            "bottom": null,
            "_model_module": "@jupyter-widgets/base",
            "top": null,
            "grid_column": null,
            "overflow_y": null,
            "overflow_x": null,
            "grid_auto_flow": null,
            "grid_area": null,
            "grid_template_columns": null,
            "flex": null,
            "_model_name": "LayoutModel",
            "justify_items": null,
            "grid_row": null,
            "max_height": null,
            "align_content": null,
            "visibility": null,
            "align_self": null,
            "height": null,
            "min_height": null,
            "padding": null,
            "grid_auto_rows": null,
            "grid_gap": null,
            "max_width": null,
            "order": null,
            "_view_module_version": "1.2.0",
            "grid_template_areas": null,
            "object_position": null,
            "object_fit": null,
            "grid_auto_columns": null,
            "margin": null,
            "display": null,
            "left": null
          }
        },
        "dae37c26d2884ca39dc9e2166bfe7faa": {
          "model_module": "@jupyter-widgets/controls",
          "model_name": "FloatProgressModel",
          "state": {
            "_view_name": "ProgressView",
            "style": "IPY_MODEL_0c65c51c85894760b5c826c16259f06a",
            "_dom_classes": [],
            "description": "Evaluating: 100%",
            "_model_name": "FloatProgressModel",
            "bar_style": "success",
            "max": 100,
            "_view_module": "@jupyter-widgets/controls",
            "_model_module_version": "1.5.0",
            "value": 100,
            "_view_count": null,
            "_view_module_version": "1.5.0",
            "orientation": "horizontal",
            "min": 0,
            "description_tooltip": null,
            "_model_module": "@jupyter-widgets/controls",
            "layout": "IPY_MODEL_82f23523efec4f97a6a4375000115db7"
          }
        },
        "43035a7b35d341f08c05843e02bab151": {
          "model_module": "@jupyter-widgets/controls",
          "model_name": "HTMLModel",
          "state": {
            "_view_name": "HTMLView",
            "style": "IPY_MODEL_7da7f529485d4ad0a4f86ca05d00499b",
            "_dom_classes": [],
            "description": "",
            "_model_name": "HTMLModel",
            "placeholder": "​",
            "_view_module": "@jupyter-widgets/controls",
            "_model_module_version": "1.5.0",
            "value": " 100/100 [02:15&lt;00:00,  1.36s/it, Loss=0.227, Accuracy=0.93]",
            "_view_count": null,
            "_view_module_version": "1.5.0",
            "description_tooltip": null,
            "_model_module": "@jupyter-widgets/controls",
            "layout": "IPY_MODEL_4cf47057355b4bdcb4fb382e3da3c54a"
          }
        },
        "0c65c51c85894760b5c826c16259f06a": {
          "model_module": "@jupyter-widgets/controls",
          "model_name": "ProgressStyleModel",
          "state": {
            "_view_name": "StyleView",
            "_model_name": "ProgressStyleModel",
            "description_width": "initial",
            "_view_module": "@jupyter-widgets/base",
            "_model_module_version": "1.5.0",
            "_view_count": null,
            "_view_module_version": "1.2.0",
            "bar_color": null,
            "_model_module": "@jupyter-widgets/controls"
          }
        },
        "82f23523efec4f97a6a4375000115db7": {
          "model_module": "@jupyter-widgets/base",
          "model_name": "LayoutModel",
          "state": {
            "_view_name": "LayoutView",
            "grid_template_rows": null,
            "right": null,
            "justify_content": null,
            "_view_module": "@jupyter-widgets/base",
            "overflow": null,
            "_model_module_version": "1.2.0",
            "_view_count": null,
            "flex_flow": null,
            "width": null,
            "min_width": null,
            "border": null,
            "align_items": null,
            "bottom": null,
            "_model_module": "@jupyter-widgets/base",
            "top": null,
            "grid_column": null,
            "overflow_y": null,
            "overflow_x": null,
            "grid_auto_flow": null,
            "grid_area": null,
            "grid_template_columns": null,
            "flex": null,
            "_model_name": "LayoutModel",
            "justify_items": null,
            "grid_row": null,
            "max_height": null,
            "align_content": null,
            "visibility": null,
            "align_self": null,
            "height": null,
            "min_height": null,
            "padding": null,
            "grid_auto_rows": null,
            "grid_gap": null,
            "max_width": null,
            "order": null,
            "_view_module_version": "1.2.0",
            "grid_template_areas": null,
            "object_position": null,
            "object_fit": null,
            "grid_auto_columns": null,
            "margin": null,
            "display": null,
            "left": null
          }
        },
        "7da7f529485d4ad0a4f86ca05d00499b": {
          "model_module": "@jupyter-widgets/controls",
          "model_name": "DescriptionStyleModel",
          "state": {
            "_view_name": "StyleView",
            "_model_name": "DescriptionStyleModel",
            "description_width": "",
            "_view_module": "@jupyter-widgets/base",
            "_model_module_version": "1.5.0",
            "_view_count": null,
            "_view_module_version": "1.2.0",
            "_model_module": "@jupyter-widgets/controls"
          }
        },
        "4cf47057355b4bdcb4fb382e3da3c54a": {
          "model_module": "@jupyter-widgets/base",
          "model_name": "LayoutModel",
          "state": {
            "_view_name": "LayoutView",
            "grid_template_rows": null,
            "right": null,
            "justify_content": null,
            "_view_module": "@jupyter-widgets/base",
            "overflow": null,
            "_model_module_version": "1.2.0",
            "_view_count": null,
            "flex_flow": null,
            "width": null,
            "min_width": null,
            "border": null,
            "align_items": null,
            "bottom": null,
            "_model_module": "@jupyter-widgets/base",
            "top": null,
            "grid_column": null,
            "overflow_y": null,
            "overflow_x": null,
            "grid_auto_flow": null,
            "grid_area": null,
            "grid_template_columns": null,
            "flex": null,
            "_model_name": "LayoutModel",
            "justify_items": null,
            "grid_row": null,
            "max_height": null,
            "align_content": null,
            "visibility": null,
            "align_self": null,
            "height": null,
            "min_height": null,
            "padding": null,
            "grid_auto_rows": null,
            "grid_gap": null,
            "max_width": null,
            "order": null,
            "_view_module_version": "1.2.0",
            "grid_template_areas": null,
            "object_position": null,
            "object_fit": null,
            "grid_auto_columns": null,
            "margin": null,
            "display": null,
            "left": null
          }
        }
      }
    }
  },
  "cells": [
    {
      "cell_type": "markdown",
      "metadata": {
        "id": "view-in-github",
        "colab_type": "text"
      },
      "source": [
        "<a href=\"https://colab.research.google.com/github/bhuvnk/skunworks/blob/main/Phase1/3.%20MAML/MAML_Omniglot.ipynb\" target=\"_parent\"><img src=\"https://colab.research.google.com/assets/colab-badge.svg\" alt=\"Open In Colab\"/></a>"
      ]
    },
    {
      "cell_type": "markdown",
      "metadata": {
        "id": "GlyMLKngmf-t"
      },
      "source": [
        "MAML: Omniglot dataset\n",
        "\n",
        "taken from implementation by: github.com/oscarknagg\n",
        "\n",
        "https://github.com/oscarknagg/few-shot/blob/master/few_shot/maml.py"
      ]
    },
    {
      "cell_type": "markdown",
      "metadata": {
        "id": "me3rZvU-tYZl"
      },
      "source": [
        "# Data downloading"
      ]
    },
    {
      "cell_type": "markdown",
      "metadata": {
        "id": "5-R_Clr7tEQh"
      },
      "source": [
        "The Omniglot dataset Official : https://github.com/brendenlake/omniglot"
      ]
    },
    {
      "cell_type": "code",
      "metadata": {
        "id": "7aV-Lqty3qTu",
        "outputId": "4295dea6-b03f-4b1a-f134-38c9ff8f8fb8",
        "colab": {
          "base_uri": "https://localhost:8080/"
        }
      },
      "source": [
        "!wget https://github.com/brendenlake/omniglot/raw/master/python/images_evaluation.zip\n",
        "!wget https://github.com/brendenlake/omniglot/raw/master/python/images_background.zip\n",
        "\n",
        "!unzip -qq images_background.zip\n",
        "!unzip -qq images_evaluation.zip"
      ],
      "execution_count": 1,
      "outputs": [
        {
          "output_type": "stream",
          "text": [
            "--2020-11-08 09:11:51--  https://github.com/brendenlake/omniglot/raw/master/python/images_evaluation.zip\n",
            "Resolving github.com (github.com)... 140.82.113.4\n",
            "Connecting to github.com (github.com)|140.82.113.4|:443... connected.\n",
            "HTTP request sent, awaiting response... 302 Found\n",
            "Location: https://raw.githubusercontent.com/brendenlake/omniglot/master/python/images_evaluation.zip [following]\n",
            "--2020-11-08 09:11:52--  https://raw.githubusercontent.com/brendenlake/omniglot/master/python/images_evaluation.zip\n",
            "Resolving raw.githubusercontent.com (raw.githubusercontent.com)... 151.101.0.133, 151.101.64.133, 151.101.128.133, ...\n",
            "Connecting to raw.githubusercontent.com (raw.githubusercontent.com)|151.101.0.133|:443... connected.\n",
            "HTTP request sent, awaiting response... 200 OK\n",
            "Length: 6462886 (6.2M) [application/zip]\n",
            "Saving to: ‘images_evaluation.zip’\n",
            "\n",
            "images_evaluation.z 100%[===================>]   6.16M  --.-KB/s    in 0.07s   \n",
            "\n",
            "2020-11-08 09:11:52 (82.6 MB/s) - ‘images_evaluation.zip’ saved [6462886/6462886]\n",
            "\n",
            "--2020-11-08 09:11:52--  https://github.com/brendenlake/omniglot/raw/master/python/images_background.zip\n",
            "Resolving github.com (github.com)... 140.82.114.4\n",
            "Connecting to github.com (github.com)|140.82.114.4|:443... connected.\n",
            "HTTP request sent, awaiting response... 302 Found\n",
            "Location: https://raw.githubusercontent.com/brendenlake/omniglot/master/python/images_background.zip [following]\n",
            "--2020-11-08 09:11:52--  https://raw.githubusercontent.com/brendenlake/omniglot/master/python/images_background.zip\n",
            "Resolving raw.githubusercontent.com (raw.githubusercontent.com)... 151.101.0.133, 151.101.64.133, 151.101.128.133, ...\n",
            "Connecting to raw.githubusercontent.com (raw.githubusercontent.com)|151.101.0.133|:443... connected.\n",
            "HTTP request sent, awaiting response... 200 OK\n",
            "Length: 9464212 (9.0M) [application/zip]\n",
            "Saving to: ‘images_background.zip’\n",
            "\n",
            "images_background.z 100%[===================>]   9.03M  --.-KB/s    in 0.07s   \n",
            "\n",
            "2020-11-08 09:11:53 (127 MB/s) - ‘images_background.zip’ saved [9464212/9464212]\n",
            "\n"
          ],
          "name": "stdout"
        }
      ]
    },
    {
      "cell_type": "markdown",
      "metadata": {
        "id": "uh1W3Lszseoa"
      },
      "source": [
        "##Import libraries"
      ]
    },
    {
      "cell_type": "code",
      "metadata": {
        "id": "F8XY5yCCZCYZ"
      },
      "source": [
        "import numpy as np\n",
        "import matplotlib.pyplot as plt\n",
        "from scipy import ndimage\n",
        "import multiprocessing as mp\n",
        "import os\n",
        "import cv2\n",
        "import tqdm\n",
        "\n",
        "import torch\n",
        "import torch.nn as nn\n",
        "import torchvision\n",
        "import torch.nn.functional as F\n",
        "import torch.optim as optim\n",
        "from torch.autograd import Variable"
      ],
      "execution_count": 2,
      "outputs": []
    },
    {
      "cell_type": "code",
      "metadata": {
        "id": "X5zGtLpGIziY",
        "outputId": "bb9d7ee9-4972-4ac5-914b-905f97c689d1",
        "colab": {
          "base_uri": "https://localhost:8080/"
        }
      },
      "source": [
        "#Check GPU \n",
        "print(torch.cuda.is_available())"
      ],
      "execution_count": 3,
      "outputs": [
        {
          "output_type": "stream",
          "text": [
            "True\n"
          ],
          "name": "stdout"
        }
      ]
    },
    {
      "cell_type": "markdown",
      "metadata": {
        "id": "l33V3V0asntp"
      },
      "source": [
        "##Read data"
      ]
    },
    {
      "cell_type": "markdown",
      "metadata": {
        "id": "ViO8qArTVCZu"
      },
      "source": [
        "## MAML DATA"
      ]
    },
    {
      "cell_type": "code",
      "metadata": {
        "id": "lYlao9ceVEZq"
      },
      "source": [
        "from tqdm.notebook import tqdm\n",
        "def load_characters(root, alphabet):\n",
        "    X = []\n",
        "    y = []\n",
        "    \n",
        "    alphabet_path = os.path.join(root, alphabet)\n",
        "    characters = os.listdir(alphabet_path)\n",
        "    \n",
        "    for char in characters:\n",
        "        char_path = os.path.join(alphabet_path, char)\n",
        "        images = os.listdir(char_path)\n",
        "        \n",
        "        for img in images:\n",
        "            image = cv2.imread(os.path.join(char_path, img))\n",
        "            image = cv2.resize(image, (28, 28)) / 255\n",
        "            \n",
        "            X.append(image)\n",
        "            y.append(f'{alphabet}_{char}')\n",
        "    \n",
        "    return X, y\n",
        "\n",
        "\n",
        "def load_data(root):\n",
        "\n",
        "    X_data = []\n",
        "    y_data = []\n",
        "    \n",
        "    print('Loading Data')\n",
        "    \n",
        "    alphabets = os.listdir(root)\n",
        "    for alphabet in tqdm(alphabets):\n",
        "        X, y = load_characters(root, alphabet)\n",
        "        X_data.extend(X)\n",
        "        y_data.extend(y)\n",
        "    \n",
        "    return np.array(X_data), np.array(y_data)"
      ],
      "execution_count": 4,
      "outputs": []
    },
    {
      "cell_type": "code",
      "metadata": {
        "id": "wfPO_XtPDDIX"
      },
      "source": [
        "def extract_sample(X_data, y_data, task_params):\n",
        "    k_shot = task_params['k_shot']\n",
        "    n_way = task_params['n_way']\n",
        "    n_query = task_params['n_query']\n",
        "    \n",
        "    X_train = []\n",
        "    y_train = []\n",
        "    \n",
        "    X_test = []\n",
        "    y_test = []\n",
        "    \n",
        "    # Randomly sample n_way classes\n",
        "    sampled_cls = np.random.choice(np.unique(y_data), n_way, replace=False)\n",
        "        \n",
        "    for i, c in enumerate(sampled_cls):\n",
        "        # Select all images belonging to a class C\n",
        "        X_data_c = X_data[y_data == c]\n",
        "        \n",
        "        # Sample k_shot+n_query images from all images of that class\n",
        "        sample_images = np.random.permutation(X_data_c)[:(k_shot+n_query)]\n",
        "        \n",
        "        # Add to lists\n",
        "        X_train.extend(sample_images[:k_shot])\n",
        "        X_test.extend(sample_images[k_shot:])\n",
        "        \n",
        "        y_train.extend([i] * k_shot)\n",
        "        y_test.extend([i] * n_query)\n",
        "    \n",
        "    # Shuffle indices\n",
        "    train_idx = np.random.permutation(len(X_train))\n",
        "    test_idx = np.random.permutation(len(X_test))\n",
        "    \n",
        "    # Convert to tensor and permute the images as channels first and use the shuffle indices\n",
        "    X_train = torch.Tensor(X_train).float().permute(0, 3, 1, 2)[train_idx]\n",
        "    y_train = torch.Tensor(y_train)[train_idx].long()\n",
        "    \n",
        "    X_test = torch.Tensor(X_test).float().permute(0, 3, 1, 2)[test_idx]\n",
        "    y_test = torch.Tensor(y_test)[test_idx].long()\n",
        "      \n",
        "    return (X_train, y_train), (X_test, y_test)"
      ],
      "execution_count": 5,
      "outputs": []
    },
    {
      "cell_type": "markdown",
      "metadata": {
        "id": "HbakTT_nFubI"
      },
      "source": [
        "##Build model"
      ]
    },
    {
      "cell_type": "markdown",
      "metadata": {
        "id": "SCUTw2F_dN17"
      },
      "source": [
        "MAML Network"
      ]
    },
    {
      "cell_type": "code",
      "metadata": {
        "id": "9XTK54ySqTde"
      },
      "source": [
        "import torch\n",
        "from torch import nn\n",
        "import torch.nn.functional as F\n",
        "\n",
        "def conv_block(in_channels, out_channels):\n",
        "    '''Convolution Block of 3x3 kernels + batch norm + maxpool of 2x2'''\n",
        "    \n",
        "    return nn.Sequential(\n",
        "        nn.Conv2d(in_channels, out_channels, 3, padding=1),\n",
        "        nn.BatchNorm2d(out_channels),\n",
        "        nn.ReLU(),\n",
        "        nn.MaxPool2d(kernel_size=2, stride=2)\n",
        "    )\n",
        "\n",
        "def functional_conv_block(x, weights, biases, bn_weights, bn_biases):\n",
        "    '''Functional version of the conv_block||We'll use this as vessel for Task updates'''\n",
        "    \n",
        "    x = F.conv2d(x, weights, biases, padding=1)\n",
        "    x = F.batch_norm(x, running_mean=None, running_var=None, weight=bn_weights, bias=bn_biases, training=True)\n",
        "    x = F.relu(x)\n",
        "    x = F.max_pool2d(x, kernel_size=2, stride=2)\n",
        "    \n",
        "    return x"
      ],
      "execution_count": 6,
      "outputs": []
    },
    {
      "cell_type": "code",
      "metadata": {
        "id": "5lQ--4fsdPW-"
      },
      "source": [
        "class MAMLClassifier(nn.Module):\n",
        "    \n",
        "    def __init__(self, n_way):\n",
        "        super(MAMLClassifier, self).__init__()\n",
        "        \n",
        "        self.conv1 = conv_block(3, 64)\n",
        "        self.conv2 = conv_block(64, 64)\n",
        "        self.conv3 = conv_block(64, 64)\n",
        "        self.conv4 = conv_block(64, 64)\n",
        "        \n",
        "        self.head = nn.Linear(64, n_way)\n",
        "        \n",
        "    def forward(self, x):\n",
        "        \n",
        "        x = self.conv1(x)\n",
        "        x = self.conv2(x)\n",
        "        x = self.conv3(x)\n",
        "        x = self.conv4(x)\n",
        "        \n",
        "        # Features of shape (batch_size, 64)\n",
        "        feat = x.view(x.size(0), -1)\n",
        "        \n",
        "        # Output\n",
        "        out = self.head(feat)\n",
        "        \n",
        "        return out\n",
        "    \n",
        "    def task_forward(self, x, params):\n",
        "        '''Functional forward pass given the parameters'''\n",
        "        '''the vessel for the task thetas'''\n",
        "        \n",
        "        for block in [1,2,3,4]:\n",
        "            x = functional_conv_block(x, \n",
        "                                      params[f'conv{block}.0.weight'], \n",
        "                                      params[f'conv{block}.0.bias'],\n",
        "                                      params[f'conv{block}.1.weight'],\n",
        "                                      params[f'conv{block}.1.bias'])\n",
        "        \n",
        "        # Features of shape (batch_size, 64)   \n",
        "        feat = x.view(x.size(0), -1)\n",
        "        \n",
        "        # Output\n",
        "        out = F.linear(feat, params['head.weight'], params['head.bias'])\n",
        "        \n",
        "        return out"
      ],
      "execution_count": 7,
      "outputs": []
    },
    {
      "cell_type": "markdown",
      "metadata": {
        "id": "qTCehq5QCLav"
      },
      "source": [
        "# MAML Train"
      ]
    },
    {
      "cell_type": "code",
      "metadata": {
        "id": "hLYCEHNLCQAk"
      },
      "source": [
        "# Task Parameters\n",
        "task_params = {'k_shot': 1,\n",
        "               'n_way': 5, \n",
        "               'n_query': 5}"
      ],
      "execution_count": 8,
      "outputs": []
    },
    {
      "cell_type": "code",
      "metadata": {
        "id": "n7IO9eh0CWpO",
        "outputId": "7f8b4450-0644-48cf-c84f-27712d7d996d",
        "colab": {
          "base_uri": "https://localhost:8080/",
          "height": 86,
          "referenced_widgets": [
            "05f3e91c6fb742cd97b09f4e9e10c411",
            "46bf4fe4d73d42009fe2683fd5546124",
            "e99238107561422f8f924002a762f33e",
            "6ea5e1ea9f5d4f89b1dda5d4bfe4484a",
            "e527c065a1d1419aa60872d404537320",
            "da1030591fac45a085b58063c29dda60",
            "c9784b0b791e466d8b782a62344243d3",
            "2d76653e5e614a57a7221baf6621df73"
          ]
        }
      },
      "source": [
        "# Load Data\n",
        "X_train_dataset, y_train_dataset = load_data('images_background')"
      ],
      "execution_count": 9,
      "outputs": [
        {
          "output_type": "stream",
          "text": [
            "Loading Data\n"
          ],
          "name": "stdout"
        },
        {
          "output_type": "display_data",
          "data": {
            "application/vnd.jupyter.widget-view+json": {
              "model_id": "05f3e91c6fb742cd97b09f4e9e10c411",
              "version_minor": 0,
              "version_major": 2
            },
            "text/plain": [
              "HBox(children=(FloatProgress(value=0.0, max=30.0), HTML(value='')))"
            ]
          },
          "metadata": {
            "tags": []
          }
        },
        {
          "output_type": "stream",
          "text": [
            "\n"
          ],
          "name": "stdout"
        }
      ]
    },
    {
      "cell_type": "code",
      "metadata": {
        "id": "Vhut61-vDHQk"
      },
      "source": [
        "#(X_support, y_support); (X_query, y_query)\n",
        "(X_train, y_train), (X_test, y_test) = extract_sample(X_train_dataset, y_train_dataset, task_params)"
      ],
      "execution_count": 10,
      "outputs": []
    },
    {
      "cell_type": "code",
      "metadata": {
        "id": "vJzjHlNuCnA-"
      },
      "source": [
        "# Hyperparameters\n",
        "inner_train_steps = 1\n",
        "alpha = 0.4 # Inner LR\n",
        "beta = 0.001 # Meta LR\n",
        "epochs = 5\n",
        "batch_size = 32\n",
        "num_episodes = 100\n",
        "device = torch.device(\"cuda\" if torch.cuda.is_available() else \"cpu\")"
      ],
      "execution_count": 11,
      "outputs": []
    },
    {
      "cell_type": "markdown",
      "metadata": {
        "id": "7Fai-4Z5Ic8x"
      },
      "source": [
        "#### Important\n",
        "Training Iterations on paper: 60,000\n",
        "\n",
        "Implemented in this notebook : 500"
      ]
    },
    {
      "cell_type": "code",
      "metadata": {
        "id": "f70eQ-YjCNWA"
      },
      "source": [
        "# model\n",
        "model = MAMLClassifier(n_way=task_params['n_way'])"
      ],
      "execution_count": 12,
      "outputs": []
    },
    {
      "cell_type": "code",
      "metadata": {
        "id": "vpQBy92sCcNV",
        "outputId": "fe6f2a94-5847-478d-fa26-9e933ca98f39",
        "colab": {
          "base_uri": "https://localhost:8080/"
        }
      },
      "source": [
        "# Loss Function\n",
        "criterion = nn.CrossEntropyLoss()\n",
        "# Optimizer\n",
        "optimizer = torch.optim.Adam(model.parameters(), lr=beta)\n",
        "\n",
        "# Mount model to device\n",
        "model.to(device)"
      ],
      "execution_count": 13,
      "outputs": [
        {
          "output_type": "execute_result",
          "data": {
            "text/plain": [
              "MAMLClassifier(\n",
              "  (conv1): Sequential(\n",
              "    (0): Conv2d(3, 64, kernel_size=(3, 3), stride=(1, 1), padding=(1, 1))\n",
              "    (1): BatchNorm2d(64, eps=1e-05, momentum=0.1, affine=True, track_running_stats=True)\n",
              "    (2): ReLU()\n",
              "    (3): MaxPool2d(kernel_size=2, stride=2, padding=0, dilation=1, ceil_mode=False)\n",
              "  )\n",
              "  (conv2): Sequential(\n",
              "    (0): Conv2d(64, 64, kernel_size=(3, 3), stride=(1, 1), padding=(1, 1))\n",
              "    (1): BatchNorm2d(64, eps=1e-05, momentum=0.1, affine=True, track_running_stats=True)\n",
              "    (2): ReLU()\n",
              "    (3): MaxPool2d(kernel_size=2, stride=2, padding=0, dilation=1, ceil_mode=False)\n",
              "  )\n",
              "  (conv3): Sequential(\n",
              "    (0): Conv2d(64, 64, kernel_size=(3, 3), stride=(1, 1), padding=(1, 1))\n",
              "    (1): BatchNorm2d(64, eps=1e-05, momentum=0.1, affine=True, track_running_stats=True)\n",
              "    (2): ReLU()\n",
              "    (3): MaxPool2d(kernel_size=2, stride=2, padding=0, dilation=1, ceil_mode=False)\n",
              "  )\n",
              "  (conv4): Sequential(\n",
              "    (0): Conv2d(64, 64, kernel_size=(3, 3), stride=(1, 1), padding=(1, 1))\n",
              "    (1): BatchNorm2d(64, eps=1e-05, momentum=0.1, affine=True, track_running_stats=True)\n",
              "    (2): ReLU()\n",
              "    (3): MaxPool2d(kernel_size=2, stride=2, padding=0, dilation=1, ceil_mode=False)\n",
              "  )\n",
              "  (head): Linear(in_features=64, out_features=5, bias=True)\n",
              ")"
            ]
          },
          "metadata": {
            "tags": []
          },
          "execution_count": 13
        }
      ]
    },
    {
      "cell_type": "code",
      "metadata": {
        "id": "HcpLuIhBDVK9",
        "outputId": "e61a54c8-87d5-47e6-b2e8-beff141cdd89",
        "colab": {
          "base_uri": "https://localhost:8080/",
          "height": 269,
          "referenced_widgets": [
            "13f3120e2dd9423598f0e97fca7cb5fc",
            "6e7d6a94481c473291e772638ad88c8c",
            "686ce01111554af78d7a57047ab51d30",
            "417d4c58ff9345e1a8dff4f1a5569c2a",
            "d420de45a7d94d5f840b67f456d559c1",
            "fdafe8d8d2b14c57bc0cd6b2375ebdfa",
            "caccfb2280754c50b09a43ece57bd1fd",
            "54dc81d4c2744de693fdff155b64c5dc",
            "a4947cff60ec488b9f186e8ee7fdd3df",
            "2fdcc29a0af34100bfce7dd7f3f0d32e",
            "3fcd0b0979a54a45a45ac7b64c0b61a2",
            "25056fa460094ae8afea1ec7d31b819d",
            "2ed7e09ce08146efa38b066d77de36ee",
            "6b8e193e287c48dfa9bbe0a148385ab4",
            "f3773920c7d0444f97d52d57772089d2",
            "8650fffa998e4f8ab05b4c68d5a08f2a",
            "04b742a2e8e14473844d9b61ac169f23",
            "d6134aed79ec48928fce3f6199367088",
            "44f4c70a8a5e4441b59202bd65572ea3",
            "7b0c07a64b034b999347b7f956f6a2c8",
            "f0004fa4ab474678a5edde31781d8739",
            "26b8d441e5a5454b8f5e0e6b90c997d4",
            "b5717eeb2b0e4f69b87aa4bc5596af31",
            "8aaabb474b2840d2afe161080b78fe53",
            "2e944a5ddf3042f682c49c943ab46815",
            "80aa777175df414cb47c3b3233b7abf4",
            "362b938712814c5aad6bc01bd0c683d5",
            "65a67d051d714bca8ccfa503afc559b6",
            "41c7aa9c6fc54c3fa817927287abbb4b",
            "6fdbab7ca76241c2a594f198bde43df3",
            "bf7fd8febb9f4df9b89969ab33d012ab",
            "3e9ca549df244522be8fbdf7108bc5b4",
            "106ec1e80d7441428f20ae7335e371a4",
            "a5e712fc9b1042418476b81ee31ddea5",
            "03578d7f3fa84f8cb932db4a17f7eccd",
            "0e615ecd1e7b425abf272144667998f7",
            "4cec96f2a4984152bd2918d47ed632a3",
            "2578f4ae6f7343f3afaf5abe2494b514",
            "2c1fb422d2a348d68ec6375fa1efa503",
            "dcc39544779b4727bc3ce92d211fee21"
          ]
        }
      },
      "source": [
        "from collections import OrderedDict\n",
        "from tqdm.notebook import tqdm\n",
        "from tqdm import tqdm_notebook\n",
        "\n",
        "from tqdm.notebook import tnrange\n",
        "\n",
        "# Start Meta-Training\n",
        "for epoch in range(1, epochs+1):\n",
        "    \n",
        "    pbar = tqdm(total=num_episodes, desc='Epoch {}'.format(epoch))\n",
        "    \n",
        "    # Meta Episode\n",
        "    for episode in range(num_episodes):\n",
        "        \n",
        "        task_losses = []\n",
        "        task_accuracies = []\n",
        "        \n",
        "        # Task Fine-tuning\n",
        "        for task_idx in range(batch_size):\n",
        "            # Get the train and val splits\n",
        "            train_sample, test_sample = extract_sample(X_train_dataset, y_train_dataset, task_params)\n",
        "            X_train = train_sample[0].to(device)\n",
        "            y_train = train_sample[1].to(device)\n",
        "            X_val = test_sample[0].to(device)\n",
        "            y_val = test_sample[1].to(device)\n",
        "            \n",
        "            # Create a task model using current meta model weights\n",
        "            task_weights = OrderedDict(model.named_parameters())\n",
        "            \n",
        "            # Fine-tune\n",
        "            for step in range(inner_train_steps):\n",
        "                # Forward pass\n",
        "                logits = model.task_forward(X_train, task_weights)\n",
        "                # Loss\n",
        "                loss = criterion(logits, y_train)\n",
        "                # Compute Gradients\n",
        "                gradients = torch.autograd.grad(loss, task_weights.values(), create_graph=True)\n",
        "                # Manual Gradient Descent on the task weights\n",
        "                task_weights = OrderedDict(\n",
        "                                    (name, param - alpha * grad) # Gradient update on parameters(task theta)\n",
        "                                    for ((name, param), grad) in zip(task_weights.items(), gradients)\n",
        "                                )\n",
        "            \n",
        "            # Testing on the Query Set (Val)\n",
        "            val_logits = model.task_forward(X_val, task_weights)\n",
        "            val_loss = criterion(val_logits, y_val)\n",
        "            \n",
        "            # Calculating accuracy\n",
        "            y_pred = val_logits.softmax(dim=1)\n",
        "            accuracy = torch.eq(y_pred.argmax(dim=-1), y_val).sum().item() / y_pred.shape[0]\n",
        "            \n",
        "            task_accuracies.append(accuracy)\n",
        "            task_losses.append(val_loss)\n",
        "        \n",
        "        # Meta Update\n",
        "        model.train()\n",
        "        optimizer.zero_grad()\n",
        "        # Meta Loss\n",
        "        meta_batch_loss = torch.stack(task_losses).mean()\n",
        "        # Meta backpropagation\n",
        "        meta_batch_loss.backward()\n",
        "        # Meta Optimization\n",
        "        optimizer.step()\n",
        "        \n",
        "        meta_batch_accuracy = torch.Tensor(task_accuracies).mean()\n",
        "        \n",
        "        # Progress Bar Logging\n",
        "        pbar.update(1)\n",
        "        pbar.set_postfix({'Loss': meta_batch_loss.item(), \n",
        "                          'Accuracy': meta_batch_accuracy.item()})\n",
        "        \n",
        "    pbar.close()\n",
        "\n",
        "\n",
        "# Save Model\n",
        "torch.save({'weights': model.state_dict(),\n",
        "            'task_params': task_params}, \"meta_model_para.pth\")"
      ],
      "execution_count": 14,
      "outputs": [
        {
          "output_type": "display_data",
          "data": {
            "application/vnd.jupyter.widget-view+json": {
              "model_id": "13f3120e2dd9423598f0e97fca7cb5fc",
              "version_minor": 0,
              "version_major": 2
            },
            "text/plain": [
              "HBox(children=(FloatProgress(value=0.0, description='Epoch 1', style=ProgressStyle(description_width='initial'…"
            ]
          },
          "metadata": {
            "tags": []
          }
        },
        {
          "output_type": "stream",
          "text": [
            "\n"
          ],
          "name": "stdout"
        },
        {
          "output_type": "display_data",
          "data": {
            "application/vnd.jupyter.widget-view+json": {
              "model_id": "a4947cff60ec488b9f186e8ee7fdd3df",
              "version_minor": 0,
              "version_major": 2
            },
            "text/plain": [
              "HBox(children=(FloatProgress(value=0.0, description='Epoch 2', style=ProgressStyle(description_width='initial'…"
            ]
          },
          "metadata": {
            "tags": []
          }
        },
        {
          "output_type": "stream",
          "text": [
            "\n"
          ],
          "name": "stdout"
        },
        {
          "output_type": "display_data",
          "data": {
            "application/vnd.jupyter.widget-view+json": {
              "model_id": "04b742a2e8e14473844d9b61ac169f23",
              "version_minor": 0,
              "version_major": 2
            },
            "text/plain": [
              "HBox(children=(FloatProgress(value=0.0, description='Epoch 3', style=ProgressStyle(description_width='initial'…"
            ]
          },
          "metadata": {
            "tags": []
          }
        },
        {
          "output_type": "stream",
          "text": [
            "\n"
          ],
          "name": "stdout"
        },
        {
          "output_type": "display_data",
          "data": {
            "application/vnd.jupyter.widget-view+json": {
              "model_id": "2e944a5ddf3042f682c49c943ab46815",
              "version_minor": 0,
              "version_major": 2
            },
            "text/plain": [
              "HBox(children=(FloatProgress(value=0.0, description='Epoch 4', style=ProgressStyle(description_width='initial'…"
            ]
          },
          "metadata": {
            "tags": []
          }
        },
        {
          "output_type": "stream",
          "text": [
            "\n"
          ],
          "name": "stdout"
        },
        {
          "output_type": "display_data",
          "data": {
            "application/vnd.jupyter.widget-view+json": {
              "model_id": "106ec1e80d7441428f20ae7335e371a4",
              "version_minor": 0,
              "version_major": 2
            },
            "text/plain": [
              "HBox(children=(FloatProgress(value=0.0, description='Epoch 5', style=ProgressStyle(description_width='initial'…"
            ]
          },
          "metadata": {
            "tags": []
          }
        },
        {
          "output_type": "stream",
          "text": [
            "\n"
          ],
          "name": "stdout"
        }
      ]
    },
    {
      "cell_type": "markdown",
      "metadata": {
        "id": "pJu50gOb8WxU"
      },
      "source": [
        "## Validating or testing"
      ]
    },
    {
      "cell_type": "code",
      "metadata": {
        "id": "_zke8i0ji8Dq"
      },
      "source": [
        "# # Load Checkpoint\n",
        "# checkpoint = torch.load('/content/meta_model_para.pth')\n",
        "\n",
        "# task_params = checkpoint['task_params']\n",
        "\n",
        "# # load the weights into the model again\n",
        "# model = MAMLClassifier(n_way=task_params['n_way'])\n",
        "# model.load_state_dict(checkpoint['weights'])"
      ],
      "execution_count": 15,
      "outputs": []
    },
    {
      "cell_type": "code",
      "metadata": {
        "id": "GwwBSromCKCJ",
        "outputId": "dd6e4d06-55d5-435a-8a27-45238ea7bab2",
        "colab": {
          "base_uri": "https://localhost:8080/",
          "height": 86,
          "referenced_widgets": [
            "496ae0c51fd74be9bc7a317f54e89d6b",
            "04b01e71b9b44635abedc04640bfbcd9",
            "c63dd7a4c09c4d1da5511f5835b8ef0b",
            "27bfe8a672f541dcb071c0173c82536c",
            "aca53363b07648c194aceeae1d12d68c",
            "084db8b991b749eb8bbd7f3596bd1ab1",
            "5dec6343a4824d6b9bda02420aabacdf",
            "e3995f57152d4525ac44a109ef1321a6"
          ]
        }
      },
      "source": [
        "# Load Validation data Data\n",
        "X_test_dataset, y_test_dataset = load_data('images_evaluation')"
      ],
      "execution_count": 16,
      "outputs": [
        {
          "output_type": "stream",
          "text": [
            "Loading Data\n"
          ],
          "name": "stdout"
        },
        {
          "output_type": "display_data",
          "data": {
            "application/vnd.jupyter.widget-view+json": {
              "model_id": "496ae0c51fd74be9bc7a317f54e89d6b",
              "version_minor": 0,
              "version_major": 2
            },
            "text/plain": [
              "HBox(children=(FloatProgress(value=0.0, max=20.0), HTML(value='')))"
            ]
          },
          "metadata": {
            "tags": []
          }
        },
        {
          "output_type": "stream",
          "text": [
            "\n"
          ],
          "name": "stdout"
        }
      ]
    },
    {
      "cell_type": "code",
      "metadata": {
        "id": "qCgoOcCaERHH"
      },
      "source": [
        "# Hyperparameters\n",
        "inner_train_steps = 1\n",
        "alpha = 0.4 # Inner LR\n",
        "batch_size = 32\n",
        "num_episodes = 100\n",
        "\n",
        "# Loss Function\n",
        "criterion = nn.CrossEntropyLoss()\n",
        "\n",
        "# Validation innersteps are 3, as given in paper\n",
        "inner_train_steps = 3\n",
        "\n",
        "# # Mount model to device\n",
        "# model.to(device)"
      ],
      "execution_count": 17,
      "outputs": []
    },
    {
      "cell_type": "code",
      "metadata": {
        "id": "AfcDTM8lj_5V",
        "outputId": "44ebec15-43ac-452f-8d8a-9207ab172e20",
        "colab": {
          "base_uri": "https://localhost:8080/",
          "height": 161,
          "referenced_widgets": [
            "f5c22f9f32a44cc59b1cd3a3fe3823d3",
            "42334be5e41f4fb98e6d9d6b65a2424b",
            "dae37c26d2884ca39dc9e2166bfe7faa",
            "43035a7b35d341f08c05843e02bab151",
            "0c65c51c85894760b5c826c16259f06a",
            "82f23523efec4f97a6a4375000115db7",
            "7da7f529485d4ad0a4f86ca05d00499b",
            "4cf47057355b4bdcb4fb382e3da3c54a"
          ]
        }
      },
      "source": [
        "# Evaluation\n",
        "pbar = tqdm_notebook(total=num_episodes, desc='Evaluating')\n",
        "\n",
        "overall_accuracies = []\n",
        "# Meta Episode\n",
        "for episode in range(num_episodes):\n",
        "\n",
        "    task_losses = []\n",
        "    task_accuracies = []\n",
        "\n",
        "    # Task Fine-tuning\n",
        "    for task_idx in range(batch_size):\n",
        "        # Get the train and val splits\n",
        "        train_sample, test_sample = extract_sample(X_test_dataset, y_test_dataset, task_params)\n",
        "        X_train = train_sample[0].to(device)\n",
        "        y_train = train_sample[1].to(device)\n",
        "        X_val = test_sample[0].to(device)\n",
        "        y_val = test_sample[1].to(device)\n",
        "\n",
        "        # Create a task model using current meta model weights\n",
        "        task_weights = OrderedDict(model.named_parameters())\n",
        "\n",
        "        # Fine-tune\n",
        "        for step in range(inner_train_steps):\n",
        "            # Forward pass\n",
        "            logits = model.task_forward(X_train, task_weights)\n",
        "            # Loss\n",
        "            loss = criterion(logits, y_train)\n",
        "            # Compute Gradients\n",
        "            gradients = torch.autograd.grad(loss, task_weights.values(), create_graph=True)\n",
        "            # Manual Gradient Descent on the task weights\n",
        "            task_weights = OrderedDict(\n",
        "                                (name, param - alpha * grad)\n",
        "                                for ((name, param), grad) in zip(task_weights.items(), gradients)\n",
        "                            )\n",
        "\n",
        "        # Testing on the Query Set (Val)\n",
        "        val_logits = model.task_forward(X_val, task_weights)\n",
        "        val_loss = criterion(val_logits, y_val)\n",
        "\n",
        "        # Calculating accuracy\n",
        "        y_pred = val_logits.softmax(dim=1)\n",
        "        accuracy = torch.eq(y_pred.argmax(dim=-1), y_val).sum().item() / y_pred.shape[0]\n",
        "\n",
        "        task_accuracies.append(accuracy)\n",
        "        overall_accuracies.append(accuracy)\n",
        "        task_losses.append(val_loss)\n",
        "\n",
        "    # Meta Loss and Accuracy\n",
        "    meta_batch_loss = torch.stack(task_losses).mean()\n",
        "    meta_batch_accuracy = torch.Tensor(task_accuracies).mean()\n",
        "\n",
        "    pbar.update(1)\n",
        "    pbar.set_postfix({'Loss': meta_batch_loss.item(), \n",
        "                      'Accuracy': meta_batch_accuracy.item()})\n",
        "\n",
        "pbar.close()\n",
        "print(f'Mean Accuracy {np.array(overall_accuracies).mean()}')"
      ],
      "execution_count": 18,
      "outputs": [
        {
          "output_type": "stream",
          "text": [
            "/usr/local/lib/python3.6/dist-packages/ipykernel_launcher.py:2: TqdmDeprecationWarning: This function will be removed in tqdm==5.0.0\n",
            "Please use `tqdm.notebook.tqdm` instead of `tqdm.tqdm_notebook`\n",
            "  \n"
          ],
          "name": "stderr"
        },
        {
          "output_type": "display_data",
          "data": {
            "application/vnd.jupyter.widget-view+json": {
              "model_id": "f5c22f9f32a44cc59b1cd3a3fe3823d3",
              "version_minor": 0,
              "version_major": 2
            },
            "text/plain": [
              "HBox(children=(FloatProgress(value=0.0, description='Evaluating', style=ProgressStyle(description_width='initi…"
            ]
          },
          "metadata": {
            "tags": []
          }
        },
        {
          "output_type": "stream",
          "text": [
            "\n",
            "Mean Accuracy 0.9292625000000001\n"
          ],
          "name": "stdout"
        }
      ]
    },
    {
      "cell_type": "code",
      "metadata": {
        "id": "3LNf1F6Yiib1"
      },
      "source": [
        ""
      ],
      "execution_count": 18,
      "outputs": []
    }
  ]
}